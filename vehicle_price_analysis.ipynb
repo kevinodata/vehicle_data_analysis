{
 "cells": [
  {
   "cell_type": "markdown",
   "metadata": {},
   "source": [
    "# Vehicle Price Analysis\n",
    "\n",
    "We will use a dataset containing information about vehicles sold on a website over a period of time. The goal of this analysis is to study the data and determine which factors influence the price. "
   ]
  },
  {
   "cell_type": "markdown",
   "metadata": {},
   "source": [
    "## Import Data"
   ]
  },
  {
   "cell_type": "code",
   "execution_count": 1,
   "metadata": {},
   "outputs": [
    {
     "data": {
      "text/html": [
       "<div>\n",
       "<style scoped>\n",
       "    .dataframe tbody tr th:only-of-type {\n",
       "        vertical-align: middle;\n",
       "    }\n",
       "\n",
       "    .dataframe tbody tr th {\n",
       "        vertical-align: top;\n",
       "    }\n",
       "\n",
       "    .dataframe thead th {\n",
       "        text-align: right;\n",
       "    }\n",
       "</style>\n",
       "<table border=\"1\" class=\"dataframe\">\n",
       "  <thead>\n",
       "    <tr style=\"text-align: right;\">\n",
       "      <th></th>\n",
       "      <th>price</th>\n",
       "      <th>model_year</th>\n",
       "      <th>model</th>\n",
       "      <th>condition</th>\n",
       "      <th>cylinders</th>\n",
       "      <th>fuel</th>\n",
       "      <th>odometer</th>\n",
       "      <th>transmission</th>\n",
       "      <th>type</th>\n",
       "      <th>paint_color</th>\n",
       "      <th>is_4wd</th>\n",
       "      <th>date_posted</th>\n",
       "      <th>days_listed</th>\n",
       "    </tr>\n",
       "  </thead>\n",
       "  <tbody>\n",
       "    <tr>\n",
       "      <th>0</th>\n",
       "      <td>9400</td>\n",
       "      <td>2011.0</td>\n",
       "      <td>bmw x5</td>\n",
       "      <td>good</td>\n",
       "      <td>6.0</td>\n",
       "      <td>gas</td>\n",
       "      <td>145000.0</td>\n",
       "      <td>automatic</td>\n",
       "      <td>SUV</td>\n",
       "      <td>NaN</td>\n",
       "      <td>1.0</td>\n",
       "      <td>2018-06-23</td>\n",
       "      <td>19</td>\n",
       "    </tr>\n",
       "    <tr>\n",
       "      <th>1</th>\n",
       "      <td>25500</td>\n",
       "      <td>NaN</td>\n",
       "      <td>ford f-150</td>\n",
       "      <td>good</td>\n",
       "      <td>6.0</td>\n",
       "      <td>gas</td>\n",
       "      <td>88705.0</td>\n",
       "      <td>automatic</td>\n",
       "      <td>pickup</td>\n",
       "      <td>white</td>\n",
       "      <td>1.0</td>\n",
       "      <td>2018-10-19</td>\n",
       "      <td>50</td>\n",
       "    </tr>\n",
       "    <tr>\n",
       "      <th>2</th>\n",
       "      <td>5500</td>\n",
       "      <td>2013.0</td>\n",
       "      <td>hyundai sonata</td>\n",
       "      <td>like new</td>\n",
       "      <td>4.0</td>\n",
       "      <td>gas</td>\n",
       "      <td>110000.0</td>\n",
       "      <td>automatic</td>\n",
       "      <td>sedan</td>\n",
       "      <td>red</td>\n",
       "      <td>NaN</td>\n",
       "      <td>2019-02-07</td>\n",
       "      <td>79</td>\n",
       "    </tr>\n",
       "    <tr>\n",
       "      <th>3</th>\n",
       "      <td>1500</td>\n",
       "      <td>2003.0</td>\n",
       "      <td>ford f-150</td>\n",
       "      <td>fair</td>\n",
       "      <td>8.0</td>\n",
       "      <td>gas</td>\n",
       "      <td>NaN</td>\n",
       "      <td>automatic</td>\n",
       "      <td>pickup</td>\n",
       "      <td>NaN</td>\n",
       "      <td>NaN</td>\n",
       "      <td>2019-03-22</td>\n",
       "      <td>9</td>\n",
       "    </tr>\n",
       "    <tr>\n",
       "      <th>4</th>\n",
       "      <td>14900</td>\n",
       "      <td>2017.0</td>\n",
       "      <td>chrysler 200</td>\n",
       "      <td>excellent</td>\n",
       "      <td>4.0</td>\n",
       "      <td>gas</td>\n",
       "      <td>80903.0</td>\n",
       "      <td>automatic</td>\n",
       "      <td>sedan</td>\n",
       "      <td>black</td>\n",
       "      <td>NaN</td>\n",
       "      <td>2019-04-02</td>\n",
       "      <td>28</td>\n",
       "    </tr>\n",
       "    <tr>\n",
       "      <th>5</th>\n",
       "      <td>14990</td>\n",
       "      <td>2014.0</td>\n",
       "      <td>chrysler 300</td>\n",
       "      <td>excellent</td>\n",
       "      <td>6.0</td>\n",
       "      <td>gas</td>\n",
       "      <td>57954.0</td>\n",
       "      <td>automatic</td>\n",
       "      <td>sedan</td>\n",
       "      <td>black</td>\n",
       "      <td>1.0</td>\n",
       "      <td>2018-06-20</td>\n",
       "      <td>15</td>\n",
       "    </tr>\n",
       "    <tr>\n",
       "      <th>6</th>\n",
       "      <td>12990</td>\n",
       "      <td>2015.0</td>\n",
       "      <td>toyota camry</td>\n",
       "      <td>excellent</td>\n",
       "      <td>4.0</td>\n",
       "      <td>gas</td>\n",
       "      <td>79212.0</td>\n",
       "      <td>automatic</td>\n",
       "      <td>sedan</td>\n",
       "      <td>white</td>\n",
       "      <td>NaN</td>\n",
       "      <td>2018-12-27</td>\n",
       "      <td>73</td>\n",
       "    </tr>\n",
       "    <tr>\n",
       "      <th>7</th>\n",
       "      <td>15990</td>\n",
       "      <td>2013.0</td>\n",
       "      <td>honda pilot</td>\n",
       "      <td>excellent</td>\n",
       "      <td>6.0</td>\n",
       "      <td>gas</td>\n",
       "      <td>109473.0</td>\n",
       "      <td>automatic</td>\n",
       "      <td>SUV</td>\n",
       "      <td>black</td>\n",
       "      <td>1.0</td>\n",
       "      <td>2019-01-07</td>\n",
       "      <td>68</td>\n",
       "    </tr>\n",
       "    <tr>\n",
       "      <th>8</th>\n",
       "      <td>11500</td>\n",
       "      <td>2012.0</td>\n",
       "      <td>kia sorento</td>\n",
       "      <td>excellent</td>\n",
       "      <td>4.0</td>\n",
       "      <td>gas</td>\n",
       "      <td>104174.0</td>\n",
       "      <td>automatic</td>\n",
       "      <td>SUV</td>\n",
       "      <td>NaN</td>\n",
       "      <td>1.0</td>\n",
       "      <td>2018-07-16</td>\n",
       "      <td>19</td>\n",
       "    </tr>\n",
       "    <tr>\n",
       "      <th>9</th>\n",
       "      <td>9200</td>\n",
       "      <td>2008.0</td>\n",
       "      <td>honda pilot</td>\n",
       "      <td>excellent</td>\n",
       "      <td>NaN</td>\n",
       "      <td>gas</td>\n",
       "      <td>147191.0</td>\n",
       "      <td>automatic</td>\n",
       "      <td>SUV</td>\n",
       "      <td>blue</td>\n",
       "      <td>1.0</td>\n",
       "      <td>2019-02-15</td>\n",
       "      <td>17</td>\n",
       "    </tr>\n",
       "  </tbody>\n",
       "</table>\n",
       "</div>"
      ],
      "text/plain": [
       "   price  model_year           model  condition  cylinders fuel  odometer  \\\n",
       "0   9400      2011.0          bmw x5       good        6.0  gas  145000.0   \n",
       "1  25500         NaN      ford f-150       good        6.0  gas   88705.0   \n",
       "2   5500      2013.0  hyundai sonata   like new        4.0  gas  110000.0   \n",
       "3   1500      2003.0      ford f-150       fair        8.0  gas       NaN   \n",
       "4  14900      2017.0    chrysler 200  excellent        4.0  gas   80903.0   \n",
       "5  14990      2014.0    chrysler 300  excellent        6.0  gas   57954.0   \n",
       "6  12990      2015.0    toyota camry  excellent        4.0  gas   79212.0   \n",
       "7  15990      2013.0     honda pilot  excellent        6.0  gas  109473.0   \n",
       "8  11500      2012.0     kia sorento  excellent        4.0  gas  104174.0   \n",
       "9   9200      2008.0     honda pilot  excellent        NaN  gas  147191.0   \n",
       "\n",
       "  transmission    type paint_color  is_4wd date_posted  days_listed  \n",
       "0    automatic     SUV         NaN     1.0  2018-06-23           19  \n",
       "1    automatic  pickup       white     1.0  2018-10-19           50  \n",
       "2    automatic   sedan         red     NaN  2019-02-07           79  \n",
       "3    automatic  pickup         NaN     NaN  2019-03-22            9  \n",
       "4    automatic   sedan       black     NaN  2019-04-02           28  \n",
       "5    automatic   sedan       black     1.0  2018-06-20           15  \n",
       "6    automatic   sedan       white     NaN  2018-12-27           73  \n",
       "7    automatic     SUV       black     1.0  2019-01-07           68  \n",
       "8    automatic     SUV         NaN     1.0  2018-07-16           19  \n",
       "9    automatic     SUV        blue     1.0  2019-02-15           17  "
      ]
     },
     "metadata": {},
     "output_type": "display_data"
    }
   ],
   "source": [
    "import pandas as pd\n",
    "import numpy as np\n",
    "import matplotlib.pyplot as plt\n",
    "\n",
    "car_data = pd.read_csv('/datasets/vehicles_us.csv')\n",
    "\n",
    "# let's take a look at the head\n",
    "display(car_data.head(10))"
   ]
  },
  {
   "cell_type": "code",
   "execution_count": 2,
   "metadata": {},
   "outputs": [
    {
     "name": "stdout",
     "output_type": "stream",
     "text": [
      "<class 'pandas.core.frame.DataFrame'>\n",
      "RangeIndex: 51525 entries, 0 to 51524\n",
      "Data columns (total 13 columns):\n",
      " #   Column        Non-Null Count  Dtype  \n",
      "---  ------        --------------  -----  \n",
      " 0   price         51525 non-null  int64  \n",
      " 1   model_year    47906 non-null  float64\n",
      " 2   model         51525 non-null  object \n",
      " 3   condition     51525 non-null  object \n",
      " 4   cylinders     46265 non-null  float64\n",
      " 5   fuel          51525 non-null  object \n",
      " 6   odometer      43633 non-null  float64\n",
      " 7   transmission  51525 non-null  object \n",
      " 8   type          51525 non-null  object \n",
      " 9   paint_color   42258 non-null  object \n",
      " 10  is_4wd        25572 non-null  float64\n",
      " 11  date_posted   51525 non-null  object \n",
      " 12  days_listed   51525 non-null  int64  \n",
      "dtypes: float64(4), int64(2), object(7)\n",
      "memory usage: 5.1+ MB\n"
     ]
    }
   ],
   "source": [
    "# and then a general description\n",
    "car_data.info()"
   ]
  },
  {
   "cell_type": "markdown",
   "metadata": {},
   "source": [
    "### Conclusion"
   ]
  },
  {
   "cell_type": "markdown",
   "metadata": {},
   "source": [
    "There are a lot of great features to work with in this dataset. We have thirteen columns of a few different types of data. From the head we can already see there are some missing values we will need to address, some data types we can convert, and some new features we can engineer. "
   ]
  },
  {
   "cell_type": "markdown",
   "metadata": {},
   "source": [
    "## Data preprocessing"
   ]
  },
  {
   "cell_type": "code",
   "execution_count": 3,
   "metadata": {},
   "outputs": [
    {
     "name": "stdout",
     "output_type": "stream",
     "text": [
      "price               0\n",
      "model_year       3619\n",
      "model               0\n",
      "condition           0\n",
      "cylinders        5260\n",
      "fuel                0\n",
      "odometer         7892\n",
      "transmission        0\n",
      "type                0\n",
      "paint_color      9267\n",
      "is_4wd          25953\n",
      "date_posted         0\n",
      "days_listed         0\n",
      "dtype: int64\n",
      "\n",
      "price            0.000000\n",
      "model_year       7.023775\n",
      "model            0.000000\n",
      "condition        0.000000\n",
      "cylinders       10.208637\n",
      "fuel             0.000000\n",
      "odometer        15.316836\n",
      "transmission     0.000000\n",
      "type             0.000000\n",
      "paint_color     17.985444\n",
      "is_4wd          50.369723\n",
      "date_posted      0.000000\n",
      "days_listed      0.000000\n",
      "dtype: float64\n"
     ]
    }
   ],
   "source": [
    "nulls = car_data.isnull().sum()\n",
    "\n",
    "# let's display how many nulls there are and then display the percentage of missing nulls \n",
    "print(nulls)\n",
    "print()\n",
    "print(nulls / len(car_data) * 100)"
   ]
  },
  {
   "cell_type": "markdown",
   "metadata": {},
   "source": [
    "So we have five total columns with missing values: model_year, cylinders, odometer, paint_color, and is_4wd. From the head we can start to break down some potential reasons why these values are missing. <br><br>\n",
    "Starting with the model_year, most likely these values are just missing. It's 7% of the entire dataset. We can run a comparison to see if the missing model_year rows line up with any others, or just fill them in with the median or mean. The model_year likely has a significant impact on the price of the vehicle, so it may also just be safer to toss these out due to the small amount. <br><br>\n",
    "The missing values in cylinders may fall into the same category as model_year. We'll examine them also to see if there any any patterns we can take advantage of. I think this may have less of an impact overall so it may be safest to fill this in with the median or mean. <br><br>\n",
    "The odometer null values are going to be tricky. There are a lot (15%) and it could be due to general missing data, or perhaps even due to it being a new vehicle or one that was never purchased and driven. We will need to examine this more to look for patterns. <br><br>\n",
    "The missing values in paint_color will also need to be examined for patterns. There should be a color, so perhaps the most common color can be used as a fill-in. <br><br>\n",
    "The last column, is_4wd, will be an easy one to take care of. Roughly half are missing, but the feature is simply a boolean column, where 1 = True (the car has 4wd) and 0 or null = False (the car is not 4wd). We can simply convert this to a boolean column to take care of the \"missing\" values. Let's get started with that first."
   ]
  },
  {
   "cell_type": "code",
   "execution_count": 4,
   "metadata": {},
   "outputs": [
    {
     "data": {
      "text/plain": [
       "price             int64\n",
       "model_year      float64\n",
       "model            object\n",
       "condition        object\n",
       "cylinders       float64\n",
       "fuel             object\n",
       "odometer        float64\n",
       "transmission     object\n",
       "type             object\n",
       "paint_color      object\n",
       "is_4wd             bool\n",
       "date_posted      object\n",
       "days_listed       int64\n",
       "dtype: object"
      ]
     },
     "execution_count": 4,
     "metadata": {},
     "output_type": "execute_result"
    }
   ],
   "source": [
    "car_data.is_4wd = car_data.is_4wd.astype('bool')\n",
    "car_data.dtypes"
   ]
  },
  {
   "cell_type": "code",
   "execution_count": 5,
   "metadata": {},
   "outputs": [
    {
     "data": {
      "text/plain": [
       "array([nan, 'white', 'red', 'black', 'blue', 'grey', 'silver', 'custom',\n",
       "       'orange', 'yellow', 'brown', 'green', 'purple'], dtype=object)"
      ]
     },
     "execution_count": 5,
     "metadata": {},
     "output_type": "execute_result"
    }
   ],
   "source": [
    "# next we will address the missing paint color.\n",
    "# I'm thinking this is best done by filling it in with the average color\n",
    "# the value may not impact the price very much but there is too much data to warrant dropping all of the rows\n",
    "\n",
    "car_data.paint_color.unique()"
   ]
  },
  {
   "cell_type": "code",
   "execution_count": 6,
   "metadata": {},
   "outputs": [
    {
     "data": {
      "text/plain": [
       "paint_color\n",
       "white     10029\n",
       "black      7692\n",
       "silver     6244\n",
       "grey       5037\n",
       "blue       4475\n",
       "red        4421\n",
       "green      1396\n",
       "brown      1223\n",
       "custom     1153\n",
       "yellow      255\n",
       "orange      231\n",
       "purple      102\n",
       "Name: is_4wd, dtype: int64"
      ]
     },
     "execution_count": 6,
     "metadata": {},
     "output_type": "execute_result"
    }
   ],
   "source": [
    "# the values all make sense so let's determine the most common one\n",
    "car_data.groupby('paint_color')['is_4wd'].count().sort_values(ascending=False)"
   ]
  },
  {
   "cell_type": "markdown",
   "metadata": {},
   "source": [
    "White is clearly the most common color. It may be safest to fill in white for all of the null values as well."
   ]
  },
  {
   "cell_type": "code",
   "execution_count": 7,
   "metadata": {},
   "outputs": [
    {
     "name": "stdout",
     "output_type": "stream",
     "text": [
      "price              0\n",
      "model_year      3619\n",
      "model              0\n",
      "condition          0\n",
      "cylinders       5260\n",
      "fuel               0\n",
      "odometer        7892\n",
      "transmission       0\n",
      "type               0\n",
      "paint_color        0\n",
      "is_4wd             0\n",
      "date_posted        0\n",
      "days_listed        0\n",
      "dtype: int64\n"
     ]
    }
   ],
   "source": [
    "car_data.paint_color.fillna('white', inplace=True)\n",
    "\n",
    "# verify\n",
    "print(car_data.isna().sum())"
   ]
  },
  {
   "cell_type": "code",
   "execution_count": 8,
   "metadata": {},
   "outputs": [
    {
     "name": "stdout",
     "output_type": "stream",
     "text": [
      "price           0\n",
      "model_year      0\n",
      "model           0\n",
      "condition       0\n",
      "cylinders       0\n",
      "fuel            0\n",
      "odometer        0\n",
      "transmission    0\n",
      "type            0\n",
      "paint_color     0\n",
      "is_4wd          0\n",
      "date_posted     0\n",
      "days_listed     0\n",
      "dtype: int64\n"
     ]
    }
   ],
   "source": [
    "# this leaves with with three more.\n",
    "# I think we can drop these last three, as there are not too many\n",
    "# relative to the size of the dataframe. \n",
    "\n",
    "car_data.dropna(inplace=True)\n",
    "\n",
    "# verify\n",
    "print(car_data.isna().sum())"
   ]
  },
  {
   "cell_type": "markdown",
   "metadata": {},
   "source": [
    "Ok, the missing values are now taken care of. Next, we'll examine the dataframe again and see if there are any data types we need to adjust."
   ]
  },
  {
   "cell_type": "code",
   "execution_count": 9,
   "metadata": {},
   "outputs": [
    {
     "data": {
      "text/html": [
       "<div>\n",
       "<style scoped>\n",
       "    .dataframe tbody tr th:only-of-type {\n",
       "        vertical-align: middle;\n",
       "    }\n",
       "\n",
       "    .dataframe tbody tr th {\n",
       "        vertical-align: top;\n",
       "    }\n",
       "\n",
       "    .dataframe thead th {\n",
       "        text-align: right;\n",
       "    }\n",
       "</style>\n",
       "<table border=\"1\" class=\"dataframe\">\n",
       "  <thead>\n",
       "    <tr style=\"text-align: right;\">\n",
       "      <th></th>\n",
       "      <th>price</th>\n",
       "      <th>model_year</th>\n",
       "      <th>model</th>\n",
       "      <th>condition</th>\n",
       "      <th>cylinders</th>\n",
       "      <th>fuel</th>\n",
       "      <th>odometer</th>\n",
       "      <th>transmission</th>\n",
       "      <th>type</th>\n",
       "      <th>paint_color</th>\n",
       "      <th>is_4wd</th>\n",
       "      <th>date_posted</th>\n",
       "      <th>days_listed</th>\n",
       "    </tr>\n",
       "  </thead>\n",
       "  <tbody>\n",
       "    <tr>\n",
       "      <th>0</th>\n",
       "      <td>9400</td>\n",
       "      <td>2011.0</td>\n",
       "      <td>bmw x5</td>\n",
       "      <td>good</td>\n",
       "      <td>6.0</td>\n",
       "      <td>gas</td>\n",
       "      <td>145000.0</td>\n",
       "      <td>automatic</td>\n",
       "      <td>SUV</td>\n",
       "      <td>white</td>\n",
       "      <td>True</td>\n",
       "      <td>2018-06-23</td>\n",
       "      <td>19</td>\n",
       "    </tr>\n",
       "    <tr>\n",
       "      <th>2</th>\n",
       "      <td>5500</td>\n",
       "      <td>2013.0</td>\n",
       "      <td>hyundai sonata</td>\n",
       "      <td>like new</td>\n",
       "      <td>4.0</td>\n",
       "      <td>gas</td>\n",
       "      <td>110000.0</td>\n",
       "      <td>automatic</td>\n",
       "      <td>sedan</td>\n",
       "      <td>red</td>\n",
       "      <td>True</td>\n",
       "      <td>2019-02-07</td>\n",
       "      <td>79</td>\n",
       "    </tr>\n",
       "    <tr>\n",
       "      <th>4</th>\n",
       "      <td>14900</td>\n",
       "      <td>2017.0</td>\n",
       "      <td>chrysler 200</td>\n",
       "      <td>excellent</td>\n",
       "      <td>4.0</td>\n",
       "      <td>gas</td>\n",
       "      <td>80903.0</td>\n",
       "      <td>automatic</td>\n",
       "      <td>sedan</td>\n",
       "      <td>black</td>\n",
       "      <td>True</td>\n",
       "      <td>2019-04-02</td>\n",
       "      <td>28</td>\n",
       "    </tr>\n",
       "    <tr>\n",
       "      <th>5</th>\n",
       "      <td>14990</td>\n",
       "      <td>2014.0</td>\n",
       "      <td>chrysler 300</td>\n",
       "      <td>excellent</td>\n",
       "      <td>6.0</td>\n",
       "      <td>gas</td>\n",
       "      <td>57954.0</td>\n",
       "      <td>automatic</td>\n",
       "      <td>sedan</td>\n",
       "      <td>black</td>\n",
       "      <td>True</td>\n",
       "      <td>2018-06-20</td>\n",
       "      <td>15</td>\n",
       "    </tr>\n",
       "    <tr>\n",
       "      <th>6</th>\n",
       "      <td>12990</td>\n",
       "      <td>2015.0</td>\n",
       "      <td>toyota camry</td>\n",
       "      <td>excellent</td>\n",
       "      <td>4.0</td>\n",
       "      <td>gas</td>\n",
       "      <td>79212.0</td>\n",
       "      <td>automatic</td>\n",
       "      <td>sedan</td>\n",
       "      <td>white</td>\n",
       "      <td>True</td>\n",
       "      <td>2018-12-27</td>\n",
       "      <td>73</td>\n",
       "    </tr>\n",
       "  </tbody>\n",
       "</table>\n",
       "</div>"
      ],
      "text/plain": [
       "   price  model_year           model  condition  cylinders fuel  odometer  \\\n",
       "0   9400      2011.0          bmw x5       good        6.0  gas  145000.0   \n",
       "2   5500      2013.0  hyundai sonata   like new        4.0  gas  110000.0   \n",
       "4  14900      2017.0    chrysler 200  excellent        4.0  gas   80903.0   \n",
       "5  14990      2014.0    chrysler 300  excellent        6.0  gas   57954.0   \n",
       "6  12990      2015.0    toyota camry  excellent        4.0  gas   79212.0   \n",
       "\n",
       "  transmission   type paint_color  is_4wd date_posted  days_listed  \n",
       "0    automatic    SUV       white    True  2018-06-23           19  \n",
       "2    automatic  sedan         red    True  2019-02-07           79  \n",
       "4    automatic  sedan       black    True  2019-04-02           28  \n",
       "5    automatic  sedan       black    True  2018-06-20           15  \n",
       "6    automatic  sedan       white    True  2018-12-27           73  "
      ]
     },
     "metadata": {},
     "output_type": "display_data"
    },
    {
     "data": {
      "text/plain": [
       "price             int64\n",
       "model_year      float64\n",
       "model            object\n",
       "condition        object\n",
       "cylinders       float64\n",
       "fuel             object\n",
       "odometer        float64\n",
       "transmission     object\n",
       "type             object\n",
       "paint_color      object\n",
       "is_4wd             bool\n",
       "date_posted      object\n",
       "days_listed       int64\n",
       "dtype: object"
      ]
     },
     "execution_count": 9,
     "metadata": {},
     "output_type": "execute_result"
    }
   ],
   "source": [
    "display(car_data.head(5))\n",
    "car_data.dtypes"
   ]
  },
  {
   "cell_type": "markdown",
   "metadata": {},
   "source": [
    "We should convert the model_year, cylinders, and odometer into an int, instead of a float. The decimals are unnecessary. The date_posted should also be in datetime format, instead of an object, as we can more easily pull values (like the month or year) from it. Otherwise, everything looks to be ok. We will want to examine the other object columns (like model) to make sure the strings are all legible and consistent, but for now let's switch the types."
   ]
  },
  {
   "cell_type": "code",
   "execution_count": 10,
   "metadata": {},
   "outputs": [
    {
     "data": {
      "text/plain": [
       "price                    int64\n",
       "model_year               int64\n",
       "model                   object\n",
       "condition               object\n",
       "cylinders                int64\n",
       "fuel                    object\n",
       "odometer                 int64\n",
       "transmission            object\n",
       "type                    object\n",
       "paint_color             object\n",
       "is_4wd                    bool\n",
       "date_posted     datetime64[ns]\n",
       "days_listed              int64\n",
       "dtype: object"
      ]
     },
     "execution_count": 10,
     "metadata": {},
     "output_type": "execute_result"
    }
   ],
   "source": [
    "car_data.model_year = car_data.model_year.astype('int64')\n",
    "car_data.cylinders = car_data.cylinders.astype('int64')\n",
    "car_data.odometer = car_data.odometer.astype('int64')\n",
    "car_data.date_posted = pd.to_datetime(car_data.date_posted, format='%Y-%m-%d')\n",
    "\n",
    "# verify\n",
    "car_data.dtypes"
   ]
  },
  {
   "cell_type": "markdown",
   "metadata": {},
   "source": [
    "Ok great, the last thing we should look at before running our analysis are the unique values in our object columns. We should make sure the values are unique and that there are no typos. "
   ]
  },
  {
   "cell_type": "code",
   "execution_count": 11,
   "metadata": {},
   "outputs": [
    {
     "data": {
      "text/plain": [
       "['acura tl',\n",
       " 'bmw x5',\n",
       " 'buick enclave',\n",
       " 'cadillac escalade',\n",
       " 'chevrolet camaro',\n",
       " 'chevrolet camaro lt coupe 2d',\n",
       " 'chevrolet colorado',\n",
       " 'chevrolet corvette',\n",
       " 'chevrolet cruze',\n",
       " 'chevrolet equinox',\n",
       " 'chevrolet impala',\n",
       " 'chevrolet malibu',\n",
       " 'chevrolet silverado',\n",
       " 'chevrolet silverado 1500',\n",
       " 'chevrolet silverado 1500 crew',\n",
       " 'chevrolet silverado 2500hd',\n",
       " 'chevrolet silverado 3500hd',\n",
       " 'chevrolet suburban',\n",
       " 'chevrolet tahoe',\n",
       " 'chevrolet trailblazer',\n",
       " 'chevrolet traverse',\n",
       " 'chrysler 200',\n",
       " 'chrysler 300',\n",
       " 'chrysler town & country',\n",
       " 'dodge charger',\n",
       " 'dodge dakota',\n",
       " 'dodge grand caravan',\n",
       " 'ford econoline',\n",
       " 'ford edge',\n",
       " 'ford escape',\n",
       " 'ford expedition',\n",
       " 'ford explorer',\n",
       " 'ford f-150',\n",
       " 'ford f-250',\n",
       " 'ford f-250 sd',\n",
       " 'ford f-250 super duty',\n",
       " 'ford f-350 sd',\n",
       " 'ford f150',\n",
       " 'ford f150 supercrew cab xlt',\n",
       " 'ford f250',\n",
       " 'ford f250 super duty',\n",
       " 'ford f350',\n",
       " 'ford f350 super duty',\n",
       " 'ford focus',\n",
       " 'ford focus se',\n",
       " 'ford fusion',\n",
       " 'ford fusion se',\n",
       " 'ford mustang',\n",
       " 'ford mustang gt coupe 2d',\n",
       " 'ford ranger',\n",
       " 'ford taurus',\n",
       " 'gmc acadia',\n",
       " 'gmc sierra',\n",
       " 'gmc sierra 1500',\n",
       " 'gmc sierra 2500hd',\n",
       " 'gmc yukon',\n",
       " 'honda accord',\n",
       " 'honda civic',\n",
       " 'honda civic lx',\n",
       " 'honda cr-v',\n",
       " 'honda odyssey',\n",
       " 'honda pilot',\n",
       " 'hyundai elantra',\n",
       " 'hyundai santa fe',\n",
       " 'hyundai sonata',\n",
       " 'jeep cherokee',\n",
       " 'jeep grand cherokee',\n",
       " 'jeep grand cherokee laredo',\n",
       " 'jeep liberty',\n",
       " 'jeep wrangler',\n",
       " 'jeep wrangler unlimited',\n",
       " 'kia sorento',\n",
       " 'kia soul',\n",
       " 'nissan altima',\n",
       " 'nissan frontier',\n",
       " 'nissan frontier crew cab sv',\n",
       " 'nissan maxima',\n",
       " 'nissan murano',\n",
       " 'nissan rogue',\n",
       " 'nissan sentra',\n",
       " 'nissan versa',\n",
       " 'ram 1500',\n",
       " 'ram 2500',\n",
       " 'ram 3500',\n",
       " 'subaru forester',\n",
       " 'subaru impreza',\n",
       " 'subaru outback',\n",
       " 'toyota 4runner',\n",
       " 'toyota camry',\n",
       " 'toyota camry le',\n",
       " 'toyota corolla',\n",
       " 'toyota highlander',\n",
       " 'toyota prius',\n",
       " 'toyota rav4',\n",
       " 'toyota sienna',\n",
       " 'toyota tacoma',\n",
       " 'toyota tundra',\n",
       " 'volkswagen jetta',\n",
       " 'volkswagen passat']"
      ]
     },
     "execution_count": 11,
     "metadata": {},
     "output_type": "execute_result"
    }
   ],
   "source": [
    "sorted(car_data.model.unique())"
   ]
  },
  {
   "cell_type": "markdown",
   "metadata": {},
   "source": [
    "I'm no car expert, but almost everything appears to be ok here. The only values that jump out to me are the Ford pick-up trucks. The F-150 and F150 are likely the same, as are the 250 and 350, and sd and super duty are the same, so let's normalize those to make them comparable."
   ]
  },
  {
   "cell_type": "code",
   "execution_count": 12,
   "metadata": {},
   "outputs": [],
   "source": [
    "car_data.model = car_data.model.replace({'ford f-150':'ford f150',\n",
    "                                         'ford f-250':'ford f250',\n",
    "                                         'ford f-250 sd':'ford f250 super duty',\n",
    "                                         'ford f-250 super duty':'ford f250 super duty',\n",
    "                                         'ford f-350 sd':'ford f350 super duty'})"
   ]
  },
  {
   "cell_type": "code",
   "execution_count": 13,
   "metadata": {},
   "outputs": [
    {
     "data": {
      "text/plain": [
       "['excellent', 'fair', 'good', 'like new', 'new', 'salvage']"
      ]
     },
     "execution_count": 13,
     "metadata": {},
     "output_type": "execute_result"
    }
   ],
   "source": [
    "sorted(car_data.condition.unique())"
   ]
  },
  {
   "cell_type": "code",
   "execution_count": 14,
   "metadata": {},
   "outputs": [
    {
     "data": {
      "text/plain": [
       "['diesel', 'electric', 'gas', 'hybrid', 'other']"
      ]
     },
     "execution_count": 14,
     "metadata": {},
     "output_type": "execute_result"
    }
   ],
   "source": [
    "# no issues there, so let's move on to the next\n",
    "sorted(car_data.fuel.unique())"
   ]
  },
  {
   "cell_type": "code",
   "execution_count": 15,
   "metadata": {},
   "outputs": [
    {
     "data": {
      "text/plain": [
       "['automatic', 'manual', 'other']"
      ]
     },
     "execution_count": 15,
     "metadata": {},
     "output_type": "execute_result"
    }
   ],
   "source": [
    "# another good one, next\n",
    "sorted(car_data.transmission.unique())"
   ]
  },
  {
   "cell_type": "code",
   "execution_count": 16,
   "metadata": {},
   "outputs": [
    {
     "data": {
      "text/plain": [
       "['SUV',\n",
       " 'bus',\n",
       " 'convertible',\n",
       " 'coupe',\n",
       " 'hatchback',\n",
       " 'mini-van',\n",
       " 'offroad',\n",
       " 'other',\n",
       " 'pickup',\n",
       " 'sedan',\n",
       " 'truck',\n",
       " 'van',\n",
       " 'wagon']"
      ]
     },
     "execution_count": 16,
     "metadata": {},
     "output_type": "execute_result"
    }
   ],
   "source": [
    "# one more to go, as we already examined paint_color\n",
    "sorted(car_data.type.unique())"
   ]
  },
  {
   "cell_type": "markdown",
   "metadata": {},
   "source": [
    "Ok, so all of the values appear to make sense and without typos. We have added in the some missing values where a reasonable fill value can be determined, and removed the rows with missing values where we deemed it appropriate. We also changed some of our data types so that they would be easier to work with and analyze. Before we move onto the next step, let's check for duplicates. We'll have more success now that our strings are cleaner."
   ]
  },
  {
   "cell_type": "code",
   "execution_count": 17,
   "metadata": {},
   "outputs": [
    {
     "data": {
      "text/plain": [
       "0"
      ]
     },
     "execution_count": 17,
     "metadata": {},
     "output_type": "execute_result"
    }
   ],
   "source": [
    "car_data.duplicated().sum()"
   ]
  },
  {
   "cell_type": "markdown",
   "metadata": {},
   "source": [
    "All clear! Next we will start to pull some new features out of the columns we cleaned to prepare our dataframe for EDA."
   ]
  },
  {
   "cell_type": "markdown",
   "metadata": {},
   "source": [
    "## Feature Engineering"
   ]
  },
  {
   "cell_type": "markdown",
   "metadata": {},
   "source": [
    "The first new features we want to extract are the individual values of the datetime column (month, day, and year). We will be able to work with the feature much easier if we split each piece into it's own column. Fortunately, the hard work of converting is already done, so all we need to do is pull them into three new columns."
   ]
  },
  {
   "cell_type": "code",
   "execution_count": 18,
   "metadata": {},
   "outputs": [
    {
     "data": {
      "text/html": [
       "<div>\n",
       "<style scoped>\n",
       "    .dataframe tbody tr th:only-of-type {\n",
       "        vertical-align: middle;\n",
       "    }\n",
       "\n",
       "    .dataframe tbody tr th {\n",
       "        vertical-align: top;\n",
       "    }\n",
       "\n",
       "    .dataframe thead th {\n",
       "        text-align: right;\n",
       "    }\n",
       "</style>\n",
       "<table border=\"1\" class=\"dataframe\">\n",
       "  <thead>\n",
       "    <tr style=\"text-align: right;\">\n",
       "      <th></th>\n",
       "      <th>price</th>\n",
       "      <th>model_year</th>\n",
       "      <th>model</th>\n",
       "      <th>condition</th>\n",
       "      <th>cylinders</th>\n",
       "      <th>fuel</th>\n",
       "      <th>odometer</th>\n",
       "      <th>transmission</th>\n",
       "      <th>type</th>\n",
       "      <th>paint_color</th>\n",
       "      <th>is_4wd</th>\n",
       "      <th>date_posted</th>\n",
       "      <th>days_listed</th>\n",
       "      <th>ad_day_of_week</th>\n",
       "    </tr>\n",
       "  </thead>\n",
       "  <tbody>\n",
       "    <tr>\n",
       "      <th>0</th>\n",
       "      <td>9400</td>\n",
       "      <td>2011</td>\n",
       "      <td>bmw x5</td>\n",
       "      <td>good</td>\n",
       "      <td>6</td>\n",
       "      <td>gas</td>\n",
       "      <td>145000</td>\n",
       "      <td>automatic</td>\n",
       "      <td>SUV</td>\n",
       "      <td>white</td>\n",
       "      <td>True</td>\n",
       "      <td>2018-06-23</td>\n",
       "      <td>19</td>\n",
       "      <td>Saturday</td>\n",
       "    </tr>\n",
       "    <tr>\n",
       "      <th>2</th>\n",
       "      <td>5500</td>\n",
       "      <td>2013</td>\n",
       "      <td>hyundai sonata</td>\n",
       "      <td>like new</td>\n",
       "      <td>4</td>\n",
       "      <td>gas</td>\n",
       "      <td>110000</td>\n",
       "      <td>automatic</td>\n",
       "      <td>sedan</td>\n",
       "      <td>red</td>\n",
       "      <td>True</td>\n",
       "      <td>2019-02-07</td>\n",
       "      <td>79</td>\n",
       "      <td>Thursday</td>\n",
       "    </tr>\n",
       "    <tr>\n",
       "      <th>4</th>\n",
       "      <td>14900</td>\n",
       "      <td>2017</td>\n",
       "      <td>chrysler 200</td>\n",
       "      <td>excellent</td>\n",
       "      <td>4</td>\n",
       "      <td>gas</td>\n",
       "      <td>80903</td>\n",
       "      <td>automatic</td>\n",
       "      <td>sedan</td>\n",
       "      <td>black</td>\n",
       "      <td>True</td>\n",
       "      <td>2019-04-02</td>\n",
       "      <td>28</td>\n",
       "      <td>Tuesday</td>\n",
       "    </tr>\n",
       "    <tr>\n",
       "      <th>5</th>\n",
       "      <td>14990</td>\n",
       "      <td>2014</td>\n",
       "      <td>chrysler 300</td>\n",
       "      <td>excellent</td>\n",
       "      <td>6</td>\n",
       "      <td>gas</td>\n",
       "      <td>57954</td>\n",
       "      <td>automatic</td>\n",
       "      <td>sedan</td>\n",
       "      <td>black</td>\n",
       "      <td>True</td>\n",
       "      <td>2018-06-20</td>\n",
       "      <td>15</td>\n",
       "      <td>Wednesday</td>\n",
       "    </tr>\n",
       "    <tr>\n",
       "      <th>6</th>\n",
       "      <td>12990</td>\n",
       "      <td>2015</td>\n",
       "      <td>toyota camry</td>\n",
       "      <td>excellent</td>\n",
       "      <td>4</td>\n",
       "      <td>gas</td>\n",
       "      <td>79212</td>\n",
       "      <td>automatic</td>\n",
       "      <td>sedan</td>\n",
       "      <td>white</td>\n",
       "      <td>True</td>\n",
       "      <td>2018-12-27</td>\n",
       "      <td>73</td>\n",
       "      <td>Thursday</td>\n",
       "    </tr>\n",
       "  </tbody>\n",
       "</table>\n",
       "</div>"
      ],
      "text/plain": [
       "   price  model_year           model  condition  cylinders fuel  odometer  \\\n",
       "0   9400        2011          bmw x5       good          6  gas    145000   \n",
       "2   5500        2013  hyundai sonata   like new          4  gas    110000   \n",
       "4  14900        2017    chrysler 200  excellent          4  gas     80903   \n",
       "5  14990        2014    chrysler 300  excellent          6  gas     57954   \n",
       "6  12990        2015    toyota camry  excellent          4  gas     79212   \n",
       "\n",
       "  transmission   type paint_color  is_4wd date_posted  days_listed  \\\n",
       "0    automatic    SUV       white    True  2018-06-23           19   \n",
       "2    automatic  sedan         red    True  2019-02-07           79   \n",
       "4    automatic  sedan       black    True  2019-04-02           28   \n",
       "5    automatic  sedan       black    True  2018-06-20           15   \n",
       "6    automatic  sedan       white    True  2018-12-27           73   \n",
       "\n",
       "  ad_day_of_week  \n",
       "0       Saturday  \n",
       "2       Thursday  \n",
       "4        Tuesday  \n",
       "5      Wednesday  \n",
       "6       Thursday  "
      ]
     },
     "execution_count": 18,
     "metadata": {},
     "output_type": "execute_result"
    }
   ],
   "source": [
    "car_data['ad_day_of_week'] = pd.DatetimeIndex(car_data['date_posted']).dayofweek\n",
    "\n",
    "# now to make it a little more user friendly\n",
    "car_data['ad_day_of_week'] = car_data['ad_day_of_week'].replace({0:'Monday',\n",
    "                                                                 1:'Tuesday',\n",
    "                                                                 2:'Wednesday',\n",
    "                                                                 3:'Thursday',\n",
    "                                                                 4:'Friday',\n",
    "                                                                 5:'Saturday',\n",
    "                                                                 6:'Sunday'})\n",
    "\n",
    "# verify\n",
    "car_data.head()"
   ]
  },
  {
   "cell_type": "code",
   "execution_count": 19,
   "metadata": {},
   "outputs": [
    {
     "data": {
      "text/html": [
       "<div>\n",
       "<style scoped>\n",
       "    .dataframe tbody tr th:only-of-type {\n",
       "        vertical-align: middle;\n",
       "    }\n",
       "\n",
       "    .dataframe tbody tr th {\n",
       "        vertical-align: top;\n",
       "    }\n",
       "\n",
       "    .dataframe thead th {\n",
       "        text-align: right;\n",
       "    }\n",
       "</style>\n",
       "<table border=\"1\" class=\"dataframe\">\n",
       "  <thead>\n",
       "    <tr style=\"text-align: right;\">\n",
       "      <th></th>\n",
       "      <th>price</th>\n",
       "      <th>model_year</th>\n",
       "      <th>model</th>\n",
       "      <th>condition</th>\n",
       "      <th>cylinders</th>\n",
       "      <th>fuel</th>\n",
       "      <th>odometer</th>\n",
       "      <th>transmission</th>\n",
       "      <th>type</th>\n",
       "      <th>paint_color</th>\n",
       "      <th>is_4wd</th>\n",
       "      <th>date_posted</th>\n",
       "      <th>days_listed</th>\n",
       "      <th>ad_day_of_week</th>\n",
       "      <th>ad_month</th>\n",
       "      <th>ad_year</th>\n",
       "    </tr>\n",
       "  </thead>\n",
       "  <tbody>\n",
       "    <tr>\n",
       "      <th>0</th>\n",
       "      <td>9400</td>\n",
       "      <td>2011</td>\n",
       "      <td>bmw x5</td>\n",
       "      <td>good</td>\n",
       "      <td>6</td>\n",
       "      <td>gas</td>\n",
       "      <td>145000</td>\n",
       "      <td>automatic</td>\n",
       "      <td>SUV</td>\n",
       "      <td>white</td>\n",
       "      <td>True</td>\n",
       "      <td>2018-06-23</td>\n",
       "      <td>19</td>\n",
       "      <td>Saturday</td>\n",
       "      <td>6</td>\n",
       "      <td>2018</td>\n",
       "    </tr>\n",
       "    <tr>\n",
       "      <th>2</th>\n",
       "      <td>5500</td>\n",
       "      <td>2013</td>\n",
       "      <td>hyundai sonata</td>\n",
       "      <td>like new</td>\n",
       "      <td>4</td>\n",
       "      <td>gas</td>\n",
       "      <td>110000</td>\n",
       "      <td>automatic</td>\n",
       "      <td>sedan</td>\n",
       "      <td>red</td>\n",
       "      <td>True</td>\n",
       "      <td>2019-02-07</td>\n",
       "      <td>79</td>\n",
       "      <td>Thursday</td>\n",
       "      <td>2</td>\n",
       "      <td>2019</td>\n",
       "    </tr>\n",
       "    <tr>\n",
       "      <th>4</th>\n",
       "      <td>14900</td>\n",
       "      <td>2017</td>\n",
       "      <td>chrysler 200</td>\n",
       "      <td>excellent</td>\n",
       "      <td>4</td>\n",
       "      <td>gas</td>\n",
       "      <td>80903</td>\n",
       "      <td>automatic</td>\n",
       "      <td>sedan</td>\n",
       "      <td>black</td>\n",
       "      <td>True</td>\n",
       "      <td>2019-04-02</td>\n",
       "      <td>28</td>\n",
       "      <td>Tuesday</td>\n",
       "      <td>4</td>\n",
       "      <td>2019</td>\n",
       "    </tr>\n",
       "    <tr>\n",
       "      <th>5</th>\n",
       "      <td>14990</td>\n",
       "      <td>2014</td>\n",
       "      <td>chrysler 300</td>\n",
       "      <td>excellent</td>\n",
       "      <td>6</td>\n",
       "      <td>gas</td>\n",
       "      <td>57954</td>\n",
       "      <td>automatic</td>\n",
       "      <td>sedan</td>\n",
       "      <td>black</td>\n",
       "      <td>True</td>\n",
       "      <td>2018-06-20</td>\n",
       "      <td>15</td>\n",
       "      <td>Wednesday</td>\n",
       "      <td>6</td>\n",
       "      <td>2018</td>\n",
       "    </tr>\n",
       "    <tr>\n",
       "      <th>6</th>\n",
       "      <td>12990</td>\n",
       "      <td>2015</td>\n",
       "      <td>toyota camry</td>\n",
       "      <td>excellent</td>\n",
       "      <td>4</td>\n",
       "      <td>gas</td>\n",
       "      <td>79212</td>\n",
       "      <td>automatic</td>\n",
       "      <td>sedan</td>\n",
       "      <td>white</td>\n",
       "      <td>True</td>\n",
       "      <td>2018-12-27</td>\n",
       "      <td>73</td>\n",
       "      <td>Thursday</td>\n",
       "      <td>12</td>\n",
       "      <td>2018</td>\n",
       "    </tr>\n",
       "  </tbody>\n",
       "</table>\n",
       "</div>"
      ],
      "text/plain": [
       "   price  model_year           model  condition  cylinders fuel  odometer  \\\n",
       "0   9400        2011          bmw x5       good          6  gas    145000   \n",
       "2   5500        2013  hyundai sonata   like new          4  gas    110000   \n",
       "4  14900        2017    chrysler 200  excellent          4  gas     80903   \n",
       "5  14990        2014    chrysler 300  excellent          6  gas     57954   \n",
       "6  12990        2015    toyota camry  excellent          4  gas     79212   \n",
       "\n",
       "  transmission   type paint_color  is_4wd date_posted  days_listed  \\\n",
       "0    automatic    SUV       white    True  2018-06-23           19   \n",
       "2    automatic  sedan         red    True  2019-02-07           79   \n",
       "4    automatic  sedan       black    True  2019-04-02           28   \n",
       "5    automatic  sedan       black    True  2018-06-20           15   \n",
       "6    automatic  sedan       white    True  2018-12-27           73   \n",
       "\n",
       "  ad_day_of_week  ad_month  ad_year  \n",
       "0       Saturday         6     2018  \n",
       "2       Thursday         2     2019  \n",
       "4        Tuesday         4     2019  \n",
       "5      Wednesday         6     2018  \n",
       "6       Thursday        12     2018  "
      ]
     },
     "execution_count": 19,
     "metadata": {},
     "output_type": "execute_result"
    }
   ],
   "source": [
    "# the other two we can keep as is (integers)\n",
    "car_data['ad_month'] = pd.DatetimeIndex(car_data.date_posted).month\n",
    "car_data['ad_year'] = pd.DatetimeIndex(car_data.date_posted).year\n",
    "\n",
    "# verify\n",
    "car_data.head()"
   ]
  },
  {
   "cell_type": "markdown",
   "metadata": {},
   "source": [
    "Now that we've pulled the easy values out, we can use them to calculate some additional features. It may be helpful for us to know the age of the vehicle when the ad was placed, the average mileage per year, and to convert the condition of the vehicle into integers (instead of another object column). Let's start with the age."
   ]
  },
  {
   "cell_type": "code",
   "execution_count": 20,
   "metadata": {},
   "outputs": [],
   "source": [
    "car_data['vehicle_age'] = car_data['ad_year'] - car_data['model_year']\n",
    "\n",
    "# next we'll do the average mileage\n",
    "car_data['avg_mileage_per_year'] = car_data['odometer'] / car_data['vehicle_age']\n",
    "\n",
    "# lastly we'll do the column conversion\n",
    "car_data['condition'] = car_data['condition'].replace({'new':5,\n",
    "                                                       'like new':4,\n",
    "                                                       'excellent':3,\n",
    "                                                       'good':2,\n",
    "                                                       'fair':1,\n",
    "                                                       'salvage':0})"
   ]
  },
  {
   "cell_type": "markdown",
   "metadata": {},
   "source": [
    "Now that we've pulled out all of the additional features we want, we are almost ready to start the EDA. The last thing we should probably do is reset the index, just to put a nice bow on our pre-processing."
   ]
  },
  {
   "cell_type": "code",
   "execution_count": 21,
   "metadata": {
    "scrolled": true
   },
   "outputs": [
    {
     "data": {
      "text/html": [
       "<div>\n",
       "<style scoped>\n",
       "    .dataframe tbody tr th:only-of-type {\n",
       "        vertical-align: middle;\n",
       "    }\n",
       "\n",
       "    .dataframe tbody tr th {\n",
       "        vertical-align: top;\n",
       "    }\n",
       "\n",
       "    .dataframe thead th {\n",
       "        text-align: right;\n",
       "    }\n",
       "</style>\n",
       "<table border=\"1\" class=\"dataframe\">\n",
       "  <thead>\n",
       "    <tr style=\"text-align: right;\">\n",
       "      <th></th>\n",
       "      <th>price</th>\n",
       "      <th>model_year</th>\n",
       "      <th>model</th>\n",
       "      <th>condition</th>\n",
       "      <th>cylinders</th>\n",
       "      <th>fuel</th>\n",
       "      <th>odometer</th>\n",
       "      <th>transmission</th>\n",
       "      <th>type</th>\n",
       "      <th>paint_color</th>\n",
       "      <th>is_4wd</th>\n",
       "      <th>date_posted</th>\n",
       "      <th>days_listed</th>\n",
       "      <th>ad_day_of_week</th>\n",
       "      <th>ad_month</th>\n",
       "      <th>ad_year</th>\n",
       "      <th>vehicle_age</th>\n",
       "      <th>avg_mileage_per_year</th>\n",
       "    </tr>\n",
       "  </thead>\n",
       "  <tbody>\n",
       "    <tr>\n",
       "      <th>0</th>\n",
       "      <td>9400</td>\n",
       "      <td>2011</td>\n",
       "      <td>bmw x5</td>\n",
       "      <td>2</td>\n",
       "      <td>6</td>\n",
       "      <td>gas</td>\n",
       "      <td>145000</td>\n",
       "      <td>automatic</td>\n",
       "      <td>SUV</td>\n",
       "      <td>white</td>\n",
       "      <td>True</td>\n",
       "      <td>2018-06-23</td>\n",
       "      <td>19</td>\n",
       "      <td>Saturday</td>\n",
       "      <td>6</td>\n",
       "      <td>2018</td>\n",
       "      <td>7</td>\n",
       "      <td>20714.285714</td>\n",
       "    </tr>\n",
       "    <tr>\n",
       "      <th>1</th>\n",
       "      <td>5500</td>\n",
       "      <td>2013</td>\n",
       "      <td>hyundai sonata</td>\n",
       "      <td>4</td>\n",
       "      <td>4</td>\n",
       "      <td>gas</td>\n",
       "      <td>110000</td>\n",
       "      <td>automatic</td>\n",
       "      <td>sedan</td>\n",
       "      <td>red</td>\n",
       "      <td>True</td>\n",
       "      <td>2019-02-07</td>\n",
       "      <td>79</td>\n",
       "      <td>Thursday</td>\n",
       "      <td>2</td>\n",
       "      <td>2019</td>\n",
       "      <td>6</td>\n",
       "      <td>18333.333333</td>\n",
       "    </tr>\n",
       "    <tr>\n",
       "      <th>2</th>\n",
       "      <td>14900</td>\n",
       "      <td>2017</td>\n",
       "      <td>chrysler 200</td>\n",
       "      <td>3</td>\n",
       "      <td>4</td>\n",
       "      <td>gas</td>\n",
       "      <td>80903</td>\n",
       "      <td>automatic</td>\n",
       "      <td>sedan</td>\n",
       "      <td>black</td>\n",
       "      <td>True</td>\n",
       "      <td>2019-04-02</td>\n",
       "      <td>28</td>\n",
       "      <td>Tuesday</td>\n",
       "      <td>4</td>\n",
       "      <td>2019</td>\n",
       "      <td>2</td>\n",
       "      <td>40451.500000</td>\n",
       "    </tr>\n",
       "    <tr>\n",
       "      <th>3</th>\n",
       "      <td>14990</td>\n",
       "      <td>2014</td>\n",
       "      <td>chrysler 300</td>\n",
       "      <td>3</td>\n",
       "      <td>6</td>\n",
       "      <td>gas</td>\n",
       "      <td>57954</td>\n",
       "      <td>automatic</td>\n",
       "      <td>sedan</td>\n",
       "      <td>black</td>\n",
       "      <td>True</td>\n",
       "      <td>2018-06-20</td>\n",
       "      <td>15</td>\n",
       "      <td>Wednesday</td>\n",
       "      <td>6</td>\n",
       "      <td>2018</td>\n",
       "      <td>4</td>\n",
       "      <td>14488.500000</td>\n",
       "    </tr>\n",
       "    <tr>\n",
       "      <th>4</th>\n",
       "      <td>12990</td>\n",
       "      <td>2015</td>\n",
       "      <td>toyota camry</td>\n",
       "      <td>3</td>\n",
       "      <td>4</td>\n",
       "      <td>gas</td>\n",
       "      <td>79212</td>\n",
       "      <td>automatic</td>\n",
       "      <td>sedan</td>\n",
       "      <td>white</td>\n",
       "      <td>True</td>\n",
       "      <td>2018-12-27</td>\n",
       "      <td>73</td>\n",
       "      <td>Thursday</td>\n",
       "      <td>12</td>\n",
       "      <td>2018</td>\n",
       "      <td>3</td>\n",
       "      <td>26404.000000</td>\n",
       "    </tr>\n",
       "    <tr>\n",
       "      <th>...</th>\n",
       "      <td>...</td>\n",
       "      <td>...</td>\n",
       "      <td>...</td>\n",
       "      <td>...</td>\n",
       "      <td>...</td>\n",
       "      <td>...</td>\n",
       "      <td>...</td>\n",
       "      <td>...</td>\n",
       "      <td>...</td>\n",
       "      <td>...</td>\n",
       "      <td>...</td>\n",
       "      <td>...</td>\n",
       "      <td>...</td>\n",
       "      <td>...</td>\n",
       "      <td>...</td>\n",
       "      <td>...</td>\n",
       "      <td>...</td>\n",
       "      <td>...</td>\n",
       "    </tr>\n",
       "    <tr>\n",
       "      <th>36414</th>\n",
       "      <td>3750</td>\n",
       "      <td>2005</td>\n",
       "      <td>ford taurus</td>\n",
       "      <td>3</td>\n",
       "      <td>6</td>\n",
       "      <td>gas</td>\n",
       "      <td>110200</td>\n",
       "      <td>automatic</td>\n",
       "      <td>sedan</td>\n",
       "      <td>silver</td>\n",
       "      <td>True</td>\n",
       "      <td>2018-08-10</td>\n",
       "      <td>63</td>\n",
       "      <td>Friday</td>\n",
       "      <td>8</td>\n",
       "      <td>2018</td>\n",
       "      <td>13</td>\n",
       "      <td>8476.923077</td>\n",
       "    </tr>\n",
       "    <tr>\n",
       "      <th>36415</th>\n",
       "      <td>9249</td>\n",
       "      <td>2013</td>\n",
       "      <td>nissan maxima</td>\n",
       "      <td>4</td>\n",
       "      <td>6</td>\n",
       "      <td>gas</td>\n",
       "      <td>88136</td>\n",
       "      <td>automatic</td>\n",
       "      <td>sedan</td>\n",
       "      <td>black</td>\n",
       "      <td>True</td>\n",
       "      <td>2018-10-03</td>\n",
       "      <td>37</td>\n",
       "      <td>Wednesday</td>\n",
       "      <td>10</td>\n",
       "      <td>2018</td>\n",
       "      <td>5</td>\n",
       "      <td>17627.200000</td>\n",
       "    </tr>\n",
       "    <tr>\n",
       "      <th>36416</th>\n",
       "      <td>2700</td>\n",
       "      <td>2002</td>\n",
       "      <td>honda civic</td>\n",
       "      <td>0</td>\n",
       "      <td>4</td>\n",
       "      <td>gas</td>\n",
       "      <td>181500</td>\n",
       "      <td>automatic</td>\n",
       "      <td>sedan</td>\n",
       "      <td>white</td>\n",
       "      <td>True</td>\n",
       "      <td>2018-11-14</td>\n",
       "      <td>22</td>\n",
       "      <td>Wednesday</td>\n",
       "      <td>11</td>\n",
       "      <td>2018</td>\n",
       "      <td>16</td>\n",
       "      <td>11343.750000</td>\n",
       "    </tr>\n",
       "    <tr>\n",
       "      <th>36417</th>\n",
       "      <td>3950</td>\n",
       "      <td>2009</td>\n",
       "      <td>hyundai sonata</td>\n",
       "      <td>3</td>\n",
       "      <td>4</td>\n",
       "      <td>gas</td>\n",
       "      <td>128000</td>\n",
       "      <td>automatic</td>\n",
       "      <td>sedan</td>\n",
       "      <td>blue</td>\n",
       "      <td>True</td>\n",
       "      <td>2018-11-15</td>\n",
       "      <td>32</td>\n",
       "      <td>Thursday</td>\n",
       "      <td>11</td>\n",
       "      <td>2018</td>\n",
       "      <td>9</td>\n",
       "      <td>14222.222222</td>\n",
       "    </tr>\n",
       "    <tr>\n",
       "      <th>36418</th>\n",
       "      <td>7455</td>\n",
       "      <td>2013</td>\n",
       "      <td>toyota corolla</td>\n",
       "      <td>2</td>\n",
       "      <td>4</td>\n",
       "      <td>gas</td>\n",
       "      <td>139573</td>\n",
       "      <td>automatic</td>\n",
       "      <td>sedan</td>\n",
       "      <td>black</td>\n",
       "      <td>True</td>\n",
       "      <td>2018-07-02</td>\n",
       "      <td>71</td>\n",
       "      <td>Monday</td>\n",
       "      <td>7</td>\n",
       "      <td>2018</td>\n",
       "      <td>5</td>\n",
       "      <td>27914.600000</td>\n",
       "    </tr>\n",
       "  </tbody>\n",
       "</table>\n",
       "<p>36419 rows × 18 columns</p>\n",
       "</div>"
      ],
      "text/plain": [
       "       price  model_year           model  condition  cylinders fuel  odometer  \\\n",
       "0       9400        2011          bmw x5          2          6  gas    145000   \n",
       "1       5500        2013  hyundai sonata          4          4  gas    110000   \n",
       "2      14900        2017    chrysler 200          3          4  gas     80903   \n",
       "3      14990        2014    chrysler 300          3          6  gas     57954   \n",
       "4      12990        2015    toyota camry          3          4  gas     79212   \n",
       "...      ...         ...             ...        ...        ...  ...       ...   \n",
       "36414   3750        2005     ford taurus          3          6  gas    110200   \n",
       "36415   9249        2013   nissan maxima          4          6  gas     88136   \n",
       "36416   2700        2002     honda civic          0          4  gas    181500   \n",
       "36417   3950        2009  hyundai sonata          3          4  gas    128000   \n",
       "36418   7455        2013  toyota corolla          2          4  gas    139573   \n",
       "\n",
       "      transmission   type paint_color  is_4wd date_posted  days_listed  \\\n",
       "0        automatic    SUV       white    True  2018-06-23           19   \n",
       "1        automatic  sedan         red    True  2019-02-07           79   \n",
       "2        automatic  sedan       black    True  2019-04-02           28   \n",
       "3        automatic  sedan       black    True  2018-06-20           15   \n",
       "4        automatic  sedan       white    True  2018-12-27           73   \n",
       "...            ...    ...         ...     ...         ...          ...   \n",
       "36414    automatic  sedan      silver    True  2018-08-10           63   \n",
       "36415    automatic  sedan       black    True  2018-10-03           37   \n",
       "36416    automatic  sedan       white    True  2018-11-14           22   \n",
       "36417    automatic  sedan        blue    True  2018-11-15           32   \n",
       "36418    automatic  sedan       black    True  2018-07-02           71   \n",
       "\n",
       "      ad_day_of_week  ad_month  ad_year  vehicle_age  avg_mileage_per_year  \n",
       "0           Saturday         6     2018            7          20714.285714  \n",
       "1           Thursday         2     2019            6          18333.333333  \n",
       "2            Tuesday         4     2019            2          40451.500000  \n",
       "3          Wednesday         6     2018            4          14488.500000  \n",
       "4           Thursday        12     2018            3          26404.000000  \n",
       "...              ...       ...      ...          ...                   ...  \n",
       "36414         Friday         8     2018           13           8476.923077  \n",
       "36415      Wednesday        10     2018            5          17627.200000  \n",
       "36416      Wednesday        11     2018           16          11343.750000  \n",
       "36417       Thursday        11     2018            9          14222.222222  \n",
       "36418         Monday         7     2018            5          27914.600000  \n",
       "\n",
       "[36419 rows x 18 columns]"
      ]
     },
     "execution_count": 21,
     "metadata": {},
     "output_type": "execute_result"
    }
   ],
   "source": [
    "car_data.reset_index(drop=True)"
   ]
  },
  {
   "cell_type": "markdown",
   "metadata": {},
   "source": [
    "Great - now we have some new features to work with during our EDA. Performing these calculations ahead of time will help us make a more detailed analysis of how these factors impact a vehicle's price."
   ]
  },
  {
   "cell_type": "markdown",
   "metadata": {},
   "source": [
    "## EDA"
   ]
  },
  {
   "cell_type": "markdown",
   "metadata": {},
   "source": [
    "Now we are ready to start examining our features. We will start with some histograms to get a good look at all of our data, and to see if there are any outliers/problematic values we may need to trim off."
   ]
  },
  {
   "cell_type": "code",
   "execution_count": 22,
   "metadata": {},
   "outputs": [
    {
     "data": {
      "text/html": [
       "<div>\n",
       "<style scoped>\n",
       "    .dataframe tbody tr th:only-of-type {\n",
       "        vertical-align: middle;\n",
       "    }\n",
       "\n",
       "    .dataframe tbody tr th {\n",
       "        vertical-align: top;\n",
       "    }\n",
       "\n",
       "    .dataframe thead th {\n",
       "        text-align: right;\n",
       "    }\n",
       "</style>\n",
       "<table border=\"1\" class=\"dataframe\">\n",
       "  <thead>\n",
       "    <tr style=\"text-align: right;\">\n",
       "      <th></th>\n",
       "      <th>price</th>\n",
       "      <th>model_year</th>\n",
       "      <th>condition</th>\n",
       "      <th>cylinders</th>\n",
       "      <th>odometer</th>\n",
       "      <th>days_listed</th>\n",
       "      <th>ad_month</th>\n",
       "      <th>ad_year</th>\n",
       "      <th>vehicle_age</th>\n",
       "      <th>avg_mileage_per_year</th>\n",
       "    </tr>\n",
       "  </thead>\n",
       "  <tbody>\n",
       "    <tr>\n",
       "      <th>count</th>\n",
       "      <td>36419.000000</td>\n",
       "      <td>36419.000000</td>\n",
       "      <td>36419.000000</td>\n",
       "      <td>36419.000000</td>\n",
       "      <td>36419.000000</td>\n",
       "      <td>36419.000000</td>\n",
       "      <td>36419.000000</td>\n",
       "      <td>36419.000000</td>\n",
       "      <td>36419.000000</td>\n",
       "      <td>3.641800e+04</td>\n",
       "    </tr>\n",
       "    <tr>\n",
       "      <th>mean</th>\n",
       "      <td>12187.675417</td>\n",
       "      <td>2009.753425</td>\n",
       "      <td>2.637003</td>\n",
       "      <td>6.132596</td>\n",
       "      <td>115323.632747</td>\n",
       "      <td>39.649798</td>\n",
       "      <td>6.643867</td>\n",
       "      <td>2018.306324</td>\n",
       "      <td>8.552898</td>\n",
       "      <td>inf</td>\n",
       "    </tr>\n",
       "    <tr>\n",
       "      <th>std</th>\n",
       "      <td>10076.739680</td>\n",
       "      <td>6.265305</td>\n",
       "      <td>0.713758</td>\n",
       "      <td>1.659646</td>\n",
       "      <td>65068.650067</td>\n",
       "      <td>28.119391</td>\n",
       "      <td>3.468755</td>\n",
       "      <td>0.460972</td>\n",
       "      <td>6.276994</td>\n",
       "      <td>NaN</td>\n",
       "    </tr>\n",
       "    <tr>\n",
       "      <th>min</th>\n",
       "      <td>1.000000</td>\n",
       "      <td>1908.000000</td>\n",
       "      <td>0.000000</td>\n",
       "      <td>3.000000</td>\n",
       "      <td>0.000000</td>\n",
       "      <td>0.000000</td>\n",
       "      <td>1.000000</td>\n",
       "      <td>2018.000000</td>\n",
       "      <td>0.000000</td>\n",
       "      <td>0.000000e+00</td>\n",
       "    </tr>\n",
       "    <tr>\n",
       "      <th>25%</th>\n",
       "      <td>5000.000000</td>\n",
       "      <td>2006.000000</td>\n",
       "      <td>2.000000</td>\n",
       "      <td>4.000000</td>\n",
       "      <td>69854.000000</td>\n",
       "      <td>19.000000</td>\n",
       "      <td>3.000000</td>\n",
       "      <td>2018.000000</td>\n",
       "      <td>4.000000</td>\n",
       "      <td>1.079364e+04</td>\n",
       "    </tr>\n",
       "    <tr>\n",
       "      <th>50%</th>\n",
       "      <td>9000.000000</td>\n",
       "      <td>2011.000000</td>\n",
       "      <td>3.000000</td>\n",
       "      <td>6.000000</td>\n",
       "      <td>113000.000000</td>\n",
       "      <td>33.000000</td>\n",
       "      <td>7.000000</td>\n",
       "      <td>2018.000000</td>\n",
       "      <td>7.000000</td>\n",
       "      <td>1.540000e+04</td>\n",
       "    </tr>\n",
       "    <tr>\n",
       "      <th>75%</th>\n",
       "      <td>16900.000000</td>\n",
       "      <td>2014.000000</td>\n",
       "      <td>3.000000</td>\n",
       "      <td>8.000000</td>\n",
       "      <td>155000.000000</td>\n",
       "      <td>53.000000</td>\n",
       "      <td>10.000000</td>\n",
       "      <td>2019.000000</td>\n",
       "      <td>12.000000</td>\n",
       "      <td>2.275000e+04</td>\n",
       "    </tr>\n",
       "    <tr>\n",
       "      <th>max</th>\n",
       "      <td>375000.000000</td>\n",
       "      <td>2019.000000</td>\n",
       "      <td>5.000000</td>\n",
       "      <td>12.000000</td>\n",
       "      <td>990000.000000</td>\n",
       "      <td>271.000000</td>\n",
       "      <td>12.000000</td>\n",
       "      <td>2019.000000</td>\n",
       "      <td>110.000000</td>\n",
       "      <td>inf</td>\n",
       "    </tr>\n",
       "  </tbody>\n",
       "</table>\n",
       "</div>"
      ],
      "text/plain": [
       "               price    model_year     condition     cylinders       odometer  \\\n",
       "count   36419.000000  36419.000000  36419.000000  36419.000000   36419.000000   \n",
       "mean    12187.675417   2009.753425      2.637003      6.132596  115323.632747   \n",
       "std     10076.739680      6.265305      0.713758      1.659646   65068.650067   \n",
       "min         1.000000   1908.000000      0.000000      3.000000       0.000000   \n",
       "25%      5000.000000   2006.000000      2.000000      4.000000   69854.000000   \n",
       "50%      9000.000000   2011.000000      3.000000      6.000000  113000.000000   \n",
       "75%     16900.000000   2014.000000      3.000000      8.000000  155000.000000   \n",
       "max    375000.000000   2019.000000      5.000000     12.000000  990000.000000   \n",
       "\n",
       "        days_listed      ad_month       ad_year   vehicle_age  \\\n",
       "count  36419.000000  36419.000000  36419.000000  36419.000000   \n",
       "mean      39.649798      6.643867   2018.306324      8.552898   \n",
       "std       28.119391      3.468755      0.460972      6.276994   \n",
       "min        0.000000      1.000000   2018.000000      0.000000   \n",
       "25%       19.000000      3.000000   2018.000000      4.000000   \n",
       "50%       33.000000      7.000000   2018.000000      7.000000   \n",
       "75%       53.000000     10.000000   2019.000000     12.000000   \n",
       "max      271.000000     12.000000   2019.000000    110.000000   \n",
       "\n",
       "       avg_mileage_per_year  \n",
       "count          3.641800e+04  \n",
       "mean                    inf  \n",
       "std                     NaN  \n",
       "min            0.000000e+00  \n",
       "25%            1.079364e+04  \n",
       "50%            1.540000e+04  \n",
       "75%            2.275000e+04  \n",
       "max                     inf  "
      ]
     },
     "execution_count": 22,
     "metadata": {},
     "output_type": "execute_result"
    }
   ],
   "source": [
    "car_data.describe()"
   ]
  },
  {
   "cell_type": "code",
   "execution_count": 23,
   "metadata": {},
   "outputs": [
    {
     "data": {
      "image/png": "[encoded data removed]",
      "text/plain": [
       "<Figure size 432x288 with 1 Axes>"
      ]
     },
     "metadata": {
      "needs_background": "light"
     },
     "output_type": "display_data"
    }
   ],
   "source": [
    "car_data.price.hist(bins=100)\n",
    "plt.title('Price vs. Number of Instances')\n",
    "plt.xlabel('Price')\n",
    "plt.ylabel('Number of Instances')\n",
    "plt.show()"
   ]
  },
  {
   "cell_type": "markdown",
   "metadata": {},
   "source": [
    "Looks like we have most of our data between 0 and 50-75k. From the describe method, we can see that we have at least one huge value at 375k that is skewing our histogram. We will note this to pull into our outlier dataframe."
   ]
  },
  {
   "cell_type": "code",
   "execution_count": 24,
   "metadata": {},
   "outputs": [
    {
     "data": {
      "image/png": "[encoded data removed]",
      "text/plain": [
       "<Figure size 432x288 with 1 Axes>"
      ]
     },
     "metadata": {
      "needs_background": "light"
     },
     "output_type": "display_data"
    }
   ],
   "source": [
    "car_data.vehicle_age.hist(bins=50)\n",
    "plt.title('Vehicle Age vs. Number of Instances')\n",
    "plt.xlabel('Vehicle Age (years)')\n",
    "plt.ylabel('Number of Instances')\n",
    "plt.show()"
   ]
  },
  {
   "cell_type": "markdown",
   "metadata": {},
   "source": [
    "Our outliers here seem to be after 40 or so. Looking at histogram, the distribution appears to be heavily concentrated under 15 years, with a long tail towards 30-40 years old. "
   ]
  },
  {
   "cell_type": "code",
   "execution_count": 25,
   "metadata": {},
   "outputs": [
    {
     "data": {
      "image/png": "[encoded data removed]",
      "text/plain": [
       "<Figure size 432x288 with 1 Axes>"
      ]
     },
     "metadata": {
      "needs_background": "light"
     },
     "output_type": "display_data"
    }
   ],
   "source": [
    "# we have some infinite values in here, which are most likely incorrect\n",
    "# as a result, we have to be creative with the range\n",
    "car_data.avg_mileage_per_year.hist(bins=50, range=(0, 500000))\n",
    "plt.title('Average Mileage per Year vs. Number of Instances')\n",
    "plt.xlabel('Average Mileage per Year')\n",
    "plt.ylabel('Number of Instances')\n",
    "plt.show()"
   ]
  },
  {
   "cell_type": "markdown",
   "metadata": {},
   "source": [
    "Looks like our data is mostly under 50-75k, so we will remove anything above it to our outlier dataframe. We have a heavy concentration of instances around 20-30k miles per year."
   ]
  },
  {
   "cell_type": "code",
   "execution_count": 26,
   "metadata": {},
   "outputs": [
    {
     "data": {
      "image/png": "[encoded data removed]",
      "text/plain": [
       "<Figure size 432x288 with 1 Axes>"
      ]
     },
     "metadata": {
      "needs_background": "light"
     },
     "output_type": "display_data"
    }
   ],
   "source": [
    "car_data.cylinders.hist()\n",
    "plt.title('Cylinders vs. Number of Instances')\n",
    "plt.xlabel('Cylinders')\n",
    "plt.ylabel('Number of Instances')\n",
    "plt.show()"
   ]
  },
  {
   "cell_type": "markdown",
   "metadata": {},
   "source": [
    "Most of the data is between 4 and 8. Interestingly (and expected) they are almost exclusively even numbers."
   ]
  },
  {
   "cell_type": "code",
   "execution_count": 27,
   "metadata": {},
   "outputs": [
    {
     "data": {
      "image/png": "[encoded data removed]",
      "text/plain": [
       "<Figure size 432x288 with 1 Axes>"
      ]
     },
     "metadata": {
      "needs_background": "light"
     },
     "output_type": "display_data"
    }
   ],
   "source": [
    "car_data.condition.hist()\n",
    "plt.title('Condition vs. Number of Instances')\n",
    "plt.xlabel('Condition')\n",
    "plt.ylabel('Number of Instances')\n",
    "plt.show()"
   ]
  },
  {
   "cell_type": "markdown",
   "metadata": {},
   "source": [
    "Another pretty straightforward one. Most of the car conditions are set to 2 and 3 (good and excellent). <br><br>\n",
    "\n",
    "Now that we know where our data is mostly focused, we can pull the outliers into a new dataframe and re-analyze our cleaned dataframe."
   ]
  },
  {
   "cell_type": "code",
   "execution_count": 28,
   "metadata": {},
   "outputs": [],
   "source": [
    "outlier_data = car_data.query(\n",
    "    'price > 75000 | vehicle_age > 40 | avg_mileage_per_year > 75000 | cylinders < 4 | cylinders > 8 | condition < 2'\n",
    ")"
   ]
  },
  {
   "cell_type": "code",
   "execution_count": 29,
   "metadata": {},
   "outputs": [],
   "source": [
    "clean_car_data = car_data.drop(outlier_data.index, axis=0)"
   ]
  },
  {
   "cell_type": "code",
   "execution_count": 30,
   "metadata": {},
   "outputs": [
    {
     "data": {
      "text/html": [
       "<div>\n",
       "<style scoped>\n",
       "    .dataframe tbody tr th:only-of-type {\n",
       "        vertical-align: middle;\n",
       "    }\n",
       "\n",
       "    .dataframe tbody tr th {\n",
       "        vertical-align: top;\n",
       "    }\n",
       "\n",
       "    .dataframe thead th {\n",
       "        text-align: right;\n",
       "    }\n",
       "</style>\n",
       "<table border=\"1\" class=\"dataframe\">\n",
       "  <thead>\n",
       "    <tr style=\"text-align: right;\">\n",
       "      <th></th>\n",
       "      <th>price</th>\n",
       "      <th>model_year</th>\n",
       "      <th>model</th>\n",
       "      <th>condition</th>\n",
       "      <th>cylinders</th>\n",
       "      <th>fuel</th>\n",
       "      <th>odometer</th>\n",
       "      <th>transmission</th>\n",
       "      <th>type</th>\n",
       "      <th>paint_color</th>\n",
       "      <th>is_4wd</th>\n",
       "      <th>date_posted</th>\n",
       "      <th>days_listed</th>\n",
       "      <th>ad_day_of_week</th>\n",
       "      <th>ad_month</th>\n",
       "      <th>ad_year</th>\n",
       "      <th>vehicle_age</th>\n",
       "      <th>avg_mileage_per_year</th>\n",
       "    </tr>\n",
       "  </thead>\n",
       "  <tbody>\n",
       "    <tr>\n",
       "      <th>0</th>\n",
       "      <td>9400</td>\n",
       "      <td>2011</td>\n",
       "      <td>bmw x5</td>\n",
       "      <td>2</td>\n",
       "      <td>6</td>\n",
       "      <td>gas</td>\n",
       "      <td>145000</td>\n",
       "      <td>automatic</td>\n",
       "      <td>SUV</td>\n",
       "      <td>white</td>\n",
       "      <td>True</td>\n",
       "      <td>2018-06-23</td>\n",
       "      <td>19</td>\n",
       "      <td>Saturday</td>\n",
       "      <td>6</td>\n",
       "      <td>2018</td>\n",
       "      <td>7</td>\n",
       "      <td>20714.285714</td>\n",
       "    </tr>\n",
       "    <tr>\n",
       "      <th>1</th>\n",
       "      <td>5500</td>\n",
       "      <td>2013</td>\n",
       "      <td>hyundai sonata</td>\n",
       "      <td>4</td>\n",
       "      <td>4</td>\n",
       "      <td>gas</td>\n",
       "      <td>110000</td>\n",
       "      <td>automatic</td>\n",
       "      <td>sedan</td>\n",
       "      <td>red</td>\n",
       "      <td>True</td>\n",
       "      <td>2019-02-07</td>\n",
       "      <td>79</td>\n",
       "      <td>Thursday</td>\n",
       "      <td>2</td>\n",
       "      <td>2019</td>\n",
       "      <td>6</td>\n",
       "      <td>18333.333333</td>\n",
       "    </tr>\n",
       "    <tr>\n",
       "      <th>2</th>\n",
       "      <td>14900</td>\n",
       "      <td>2017</td>\n",
       "      <td>chrysler 200</td>\n",
       "      <td>3</td>\n",
       "      <td>4</td>\n",
       "      <td>gas</td>\n",
       "      <td>80903</td>\n",
       "      <td>automatic</td>\n",
       "      <td>sedan</td>\n",
       "      <td>black</td>\n",
       "      <td>True</td>\n",
       "      <td>2019-04-02</td>\n",
       "      <td>28</td>\n",
       "      <td>Tuesday</td>\n",
       "      <td>4</td>\n",
       "      <td>2019</td>\n",
       "      <td>2</td>\n",
       "      <td>40451.500000</td>\n",
       "    </tr>\n",
       "    <tr>\n",
       "      <th>3</th>\n",
       "      <td>14990</td>\n",
       "      <td>2014</td>\n",
       "      <td>chrysler 300</td>\n",
       "      <td>3</td>\n",
       "      <td>6</td>\n",
       "      <td>gas</td>\n",
       "      <td>57954</td>\n",
       "      <td>automatic</td>\n",
       "      <td>sedan</td>\n",
       "      <td>black</td>\n",
       "      <td>True</td>\n",
       "      <td>2018-06-20</td>\n",
       "      <td>15</td>\n",
       "      <td>Wednesday</td>\n",
       "      <td>6</td>\n",
       "      <td>2018</td>\n",
       "      <td>4</td>\n",
       "      <td>14488.500000</td>\n",
       "    </tr>\n",
       "    <tr>\n",
       "      <th>4</th>\n",
       "      <td>12990</td>\n",
       "      <td>2015</td>\n",
       "      <td>toyota camry</td>\n",
       "      <td>3</td>\n",
       "      <td>4</td>\n",
       "      <td>gas</td>\n",
       "      <td>79212</td>\n",
       "      <td>automatic</td>\n",
       "      <td>sedan</td>\n",
       "      <td>white</td>\n",
       "      <td>True</td>\n",
       "      <td>2018-12-27</td>\n",
       "      <td>73</td>\n",
       "      <td>Thursday</td>\n",
       "      <td>12</td>\n",
       "      <td>2018</td>\n",
       "      <td>3</td>\n",
       "      <td>26404.000000</td>\n",
       "    </tr>\n",
       "    <tr>\n",
       "      <th>...</th>\n",
       "      <td>...</td>\n",
       "      <td>...</td>\n",
       "      <td>...</td>\n",
       "      <td>...</td>\n",
       "      <td>...</td>\n",
       "      <td>...</td>\n",
       "      <td>...</td>\n",
       "      <td>...</td>\n",
       "      <td>...</td>\n",
       "      <td>...</td>\n",
       "      <td>...</td>\n",
       "      <td>...</td>\n",
       "      <td>...</td>\n",
       "      <td>...</td>\n",
       "      <td>...</td>\n",
       "      <td>...</td>\n",
       "      <td>...</td>\n",
       "      <td>...</td>\n",
       "    </tr>\n",
       "    <tr>\n",
       "      <th>32771</th>\n",
       "      <td>11000</td>\n",
       "      <td>2012</td>\n",
       "      <td>dodge charger</td>\n",
       "      <td>3</td>\n",
       "      <td>8</td>\n",
       "      <td>gas</td>\n",
       "      <td>81000</td>\n",
       "      <td>automatic</td>\n",
       "      <td>sedan</td>\n",
       "      <td>black</td>\n",
       "      <td>True</td>\n",
       "      <td>2019-04-19</td>\n",
       "      <td>44</td>\n",
       "      <td>Friday</td>\n",
       "      <td>4</td>\n",
       "      <td>2019</td>\n",
       "      <td>7</td>\n",
       "      <td>11571.428571</td>\n",
       "    </tr>\n",
       "    <tr>\n",
       "      <th>32772</th>\n",
       "      <td>3750</td>\n",
       "      <td>2005</td>\n",
       "      <td>ford taurus</td>\n",
       "      <td>3</td>\n",
       "      <td>6</td>\n",
       "      <td>gas</td>\n",
       "      <td>110200</td>\n",
       "      <td>automatic</td>\n",
       "      <td>sedan</td>\n",
       "      <td>silver</td>\n",
       "      <td>True</td>\n",
       "      <td>2018-08-10</td>\n",
       "      <td>63</td>\n",
       "      <td>Friday</td>\n",
       "      <td>8</td>\n",
       "      <td>2018</td>\n",
       "      <td>13</td>\n",
       "      <td>8476.923077</td>\n",
       "    </tr>\n",
       "    <tr>\n",
       "      <th>32773</th>\n",
       "      <td>9249</td>\n",
       "      <td>2013</td>\n",
       "      <td>nissan maxima</td>\n",
       "      <td>4</td>\n",
       "      <td>6</td>\n",
       "      <td>gas</td>\n",
       "      <td>88136</td>\n",
       "      <td>automatic</td>\n",
       "      <td>sedan</td>\n",
       "      <td>black</td>\n",
       "      <td>True</td>\n",
       "      <td>2018-10-03</td>\n",
       "      <td>37</td>\n",
       "      <td>Wednesday</td>\n",
       "      <td>10</td>\n",
       "      <td>2018</td>\n",
       "      <td>5</td>\n",
       "      <td>17627.200000</td>\n",
       "    </tr>\n",
       "    <tr>\n",
       "      <th>32774</th>\n",
       "      <td>3950</td>\n",
       "      <td>2009</td>\n",
       "      <td>hyundai sonata</td>\n",
       "      <td>3</td>\n",
       "      <td>4</td>\n",
       "      <td>gas</td>\n",
       "      <td>128000</td>\n",
       "      <td>automatic</td>\n",
       "      <td>sedan</td>\n",
       "      <td>blue</td>\n",
       "      <td>True</td>\n",
       "      <td>2018-11-15</td>\n",
       "      <td>32</td>\n",
       "      <td>Thursday</td>\n",
       "      <td>11</td>\n",
       "      <td>2018</td>\n",
       "      <td>9</td>\n",
       "      <td>14222.222222</td>\n",
       "    </tr>\n",
       "    <tr>\n",
       "      <th>32775</th>\n",
       "      <td>7455</td>\n",
       "      <td>2013</td>\n",
       "      <td>toyota corolla</td>\n",
       "      <td>2</td>\n",
       "      <td>4</td>\n",
       "      <td>gas</td>\n",
       "      <td>139573</td>\n",
       "      <td>automatic</td>\n",
       "      <td>sedan</td>\n",
       "      <td>black</td>\n",
       "      <td>True</td>\n",
       "      <td>2018-07-02</td>\n",
       "      <td>71</td>\n",
       "      <td>Monday</td>\n",
       "      <td>7</td>\n",
       "      <td>2018</td>\n",
       "      <td>5</td>\n",
       "      <td>27914.600000</td>\n",
       "    </tr>\n",
       "  </tbody>\n",
       "</table>\n",
       "<p>32776 rows × 18 columns</p>\n",
       "</div>"
      ],
      "text/plain": [
       "       price  model_year           model  condition  cylinders fuel  odometer  \\\n",
       "0       9400        2011          bmw x5          2          6  gas    145000   \n",
       "1       5500        2013  hyundai sonata          4          4  gas    110000   \n",
       "2      14900        2017    chrysler 200          3          4  gas     80903   \n",
       "3      14990        2014    chrysler 300          3          6  gas     57954   \n",
       "4      12990        2015    toyota camry          3          4  gas     79212   \n",
       "...      ...         ...             ...        ...        ...  ...       ...   \n",
       "32771  11000        2012   dodge charger          3          8  gas     81000   \n",
       "32772   3750        2005     ford taurus          3          6  gas    110200   \n",
       "32773   9249        2013   nissan maxima          4          6  gas     88136   \n",
       "32774   3950        2009  hyundai sonata          3          4  gas    128000   \n",
       "32775   7455        2013  toyota corolla          2          4  gas    139573   \n",
       "\n",
       "      transmission   type paint_color  is_4wd date_posted  days_listed  \\\n",
       "0        automatic    SUV       white    True  2018-06-23           19   \n",
       "1        automatic  sedan         red    True  2019-02-07           79   \n",
       "2        automatic  sedan       black    True  2019-04-02           28   \n",
       "3        automatic  sedan       black    True  2018-06-20           15   \n",
       "4        automatic  sedan       white    True  2018-12-27           73   \n",
       "...            ...    ...         ...     ...         ...          ...   \n",
       "32771    automatic  sedan       black    True  2019-04-19           44   \n",
       "32772    automatic  sedan      silver    True  2018-08-10           63   \n",
       "32773    automatic  sedan       black    True  2018-10-03           37   \n",
       "32774    automatic  sedan        blue    True  2018-11-15           32   \n",
       "32775    automatic  sedan       black    True  2018-07-02           71   \n",
       "\n",
       "      ad_day_of_week  ad_month  ad_year  vehicle_age  avg_mileage_per_year  \n",
       "0           Saturday         6     2018            7          20714.285714  \n",
       "1           Thursday         2     2019            6          18333.333333  \n",
       "2            Tuesday         4     2019            2          40451.500000  \n",
       "3          Wednesday         6     2018            4          14488.500000  \n",
       "4           Thursday        12     2018            3          26404.000000  \n",
       "...              ...       ...      ...          ...                   ...  \n",
       "32771         Friday         4     2019            7          11571.428571  \n",
       "32772         Friday         8     2018           13           8476.923077  \n",
       "32773      Wednesday        10     2018            5          17627.200000  \n",
       "32774       Thursday        11     2018            9          14222.222222  \n",
       "32775         Monday         7     2018            5          27914.600000  \n",
       "\n",
       "[32776 rows x 18 columns]"
      ]
     },
     "execution_count": 30,
     "metadata": {},
     "output_type": "execute_result"
    }
   ],
   "source": [
    "# now to reset the index again\n",
    "clean_car_data.reset_index(drop=True)"
   ]
  },
  {
   "cell_type": "markdown",
   "metadata": {},
   "source": [
    "Now that we removed our outliers, let's take another look at the earlier histograms to see if we can pull anything new out."
   ]
  },
  {
   "cell_type": "code",
   "execution_count": 31,
   "metadata": {},
   "outputs": [
    {
     "data": {
      "image/png": "[encoded data removed]",
      "text/plain": [
       "<Figure size 1080x720 with 6 Axes>"
      ]
     },
     "metadata": {
      "needs_background": "light"
     },
     "output_type": "display_data"
    }
   ],
   "source": [
    "clean_car_data[['price', 'vehicle_age', 'avg_mileage_per_year', 'cylinders', 'condition']].hist(bins=40, figsize=(15,10));"
   ]
  },
  {
   "cell_type": "markdown",
   "metadata": {},
   "source": [
    "Overall we have a much clearer picture of the data these histograms. There is a clear peak in three of them on the left side with a long tail moving to the right (towards our outliers now removed). Cylinders and condition were not too crowded so we are ultimately left with the same results here - the data is crowded towards the middle (4, 6, 8 for cylinders and 2 or 3 for condition)."
   ]
  },
  {
   "cell_type": "markdown",
   "metadata": {},
   "source": [
    "Next, let's see if we can observe anything from the number of days each ad is listed."
   ]
  },
  {
   "cell_type": "code",
   "execution_count": 32,
   "metadata": {},
   "outputs": [
    {
     "data": {
      "image/png": "[encoded data removed]",
      "text/plain": [
       "<Figure size 432x288 with 1 Axes>"
      ]
     },
     "metadata": {
      "needs_background": "light"
     },
     "output_type": "display_data"
    }
   ],
   "source": [
    "clean_car_data.days_listed.hist(bins=50)\n",
    "plt.title('Days Listed vs. Number of Instances')\n",
    "plt.xlabel('Days Listed')\n",
    "plt.ylabel('Number of Instances')\n",
    "plt.show()"
   ]
  },
  {
   "cell_type": "code",
   "execution_count": 33,
   "metadata": {},
   "outputs": [
    {
     "data": {
      "image/png": "[encoded data removed]",
      "text/plain": [
       "<Figure size 216x720 with 1 Axes>"
      ]
     },
     "metadata": {
      "needs_background": "light"
     },
     "output_type": "display_data"
    }
   ],
   "source": [
    "clean_car_data.boxplot(column='days_listed', figsize=(3,10));"
   ]
  },
  {
   "cell_type": "code",
   "execution_count": 34,
   "metadata": {},
   "outputs": [
    {
     "name": "stdout",
     "output_type": "stream",
     "text": [
      "The median is:  33.0\n"
     ]
    },
    {
     "data": {
      "text/plain": [
       "count    32776.000000\n",
       "mean        39.684495\n",
       "std         28.177050\n",
       "min          0.000000\n",
       "25%         19.000000\n",
       "50%         33.000000\n",
       "75%         54.000000\n",
       "max        271.000000\n",
       "Name: days_listed, dtype: float64"
      ]
     },
     "execution_count": 34,
     "metadata": {},
     "output_type": "execute_result"
    }
   ],
   "source": [
    "print(\"The median is: \", clean_car_data.days_listed.median())\n",
    "clean_car_data.days_listed.describe()"
   ]
  },
  {
   "cell_type": "markdown",
   "metadata": {},
   "source": [
    "The median is 33 and mean is 39. This offset tells us that the data is focused more to the left, and some particularly high values are pulling the mean to the right. These outliers affecting the mean are clearly observed in the box plot. It appears as if these outliers start at a little over 100 days. The typical lifetime of an ad appears to be a little over one month."
   ]
  },
  {
   "cell_type": "code",
   "execution_count": 35,
   "metadata": {},
   "outputs": [
    {
     "name": "stdout",
     "output_type": "stream",
     "text": [
      "33\n"
     ]
    }
   ],
   "source": [
    "print(clean_car_data.query(\"days_listed == 0\").shape[0])"
   ]
  },
  {
   "cell_type": "markdown",
   "metadata": {},
   "source": [
    "There are 33 instances where the ad was removed on the same day (or the data is corrupted here). From the histogram, we can also see that some ads were up for over 100 days! <br><br>\n",
    "We will consider any ad here that was placed and removed on the same day as an outlier. This is atypical of most online sales, as it usually takes at least a day to discuss and complete a sale. We will also consider any ad up for longer than 150 days as an outlier. Most of the data appears to be with ads up for less than 150 days. The tail of our histogram starts to flatten at this point, informing us that we have a very small number of instances after this point. Because of the existance of these outliers, it would be more accurate for us to use the median as our \"typical ad lifetime\" instead of the mean. In this case, a typical ad would be up for 33 days.\n"
   ]
  },
  {
   "cell_type": "code",
   "execution_count": 36,
   "metadata": {},
   "outputs": [
    {
     "data": {
      "text/plain": [
       "(185, 18)"
      ]
     },
     "execution_count": 36,
     "metadata": {},
     "output_type": "execute_result"
    }
   ],
   "source": [
    "# upper end is 150 to give us a reasonable amount of data\n",
    "# 100 was too big\n",
    "ad_outliers = clean_car_data.query(\"days_listed == 0 | days_listed > 150\")\n",
    "ad_outliers.shape"
   ]
  },
  {
   "cell_type": "code",
   "execution_count": 37,
   "metadata": {},
   "outputs": [
    {
     "name": "stderr",
     "output_type": "stream",
     "text": [
      "/opt/conda/lib/python3.7/site-packages/ipykernel_launcher.py:1: FutureWarning: Treating datetime data as categorical rather than numeric in `.describe` is deprecated and will be removed in a future version of pandas. Specify `datetime_is_numeric=True` to silence this warning and adopt the future behavior now.\n",
      "  \"\"\"Entry point for launching an IPython kernel.\n"
     ]
    },
    {
     "data": {
      "text/html": [
       "<div>\n",
       "<style scoped>\n",
       "    .dataframe tbody tr th:only-of-type {\n",
       "        vertical-align: middle;\n",
       "    }\n",
       "\n",
       "    .dataframe tbody tr th {\n",
       "        vertical-align: top;\n",
       "    }\n",
       "\n",
       "    .dataframe thead th {\n",
       "        text-align: right;\n",
       "    }\n",
       "</style>\n",
       "<table border=\"1\" class=\"dataframe\">\n",
       "  <thead>\n",
       "    <tr style=\"text-align: right;\">\n",
       "      <th></th>\n",
       "      <th>price</th>\n",
       "      <th>model_year</th>\n",
       "      <th>model</th>\n",
       "      <th>condition</th>\n",
       "      <th>cylinders</th>\n",
       "      <th>fuel</th>\n",
       "      <th>odometer</th>\n",
       "      <th>transmission</th>\n",
       "      <th>type</th>\n",
       "      <th>paint_color</th>\n",
       "      <th>is_4wd</th>\n",
       "      <th>date_posted</th>\n",
       "      <th>days_listed</th>\n",
       "      <th>ad_day_of_week</th>\n",
       "      <th>ad_month</th>\n",
       "      <th>ad_year</th>\n",
       "      <th>vehicle_age</th>\n",
       "      <th>avg_mileage_per_year</th>\n",
       "    </tr>\n",
       "  </thead>\n",
       "  <tbody>\n",
       "    <tr>\n",
       "      <th>count</th>\n",
       "      <td>33.000000</td>\n",
       "      <td>33.000000</td>\n",
       "      <td>33</td>\n",
       "      <td>33.000000</td>\n",
       "      <td>33.000000</td>\n",
       "      <td>33</td>\n",
       "      <td>33.000000</td>\n",
       "      <td>33</td>\n",
       "      <td>33</td>\n",
       "      <td>33</td>\n",
       "      <td>33</td>\n",
       "      <td>33</td>\n",
       "      <td>33.0</td>\n",
       "      <td>33</td>\n",
       "      <td>33.000000</td>\n",
       "      <td>33.000000</td>\n",
       "      <td>33.000000</td>\n",
       "      <td>33.000000</td>\n",
       "    </tr>\n",
       "    <tr>\n",
       "      <th>unique</th>\n",
       "      <td>NaN</td>\n",
       "      <td>NaN</td>\n",
       "      <td>24</td>\n",
       "      <td>NaN</td>\n",
       "      <td>NaN</td>\n",
       "      <td>2</td>\n",
       "      <td>NaN</td>\n",
       "      <td>3</td>\n",
       "      <td>9</td>\n",
       "      <td>8</td>\n",
       "      <td>1</td>\n",
       "      <td>33</td>\n",
       "      <td>NaN</td>\n",
       "      <td>7</td>\n",
       "      <td>NaN</td>\n",
       "      <td>NaN</td>\n",
       "      <td>NaN</td>\n",
       "      <td>NaN</td>\n",
       "    </tr>\n",
       "    <tr>\n",
       "      <th>top</th>\n",
       "      <td>NaN</td>\n",
       "      <td>NaN</td>\n",
       "      <td>chevrolet silverado 1500</td>\n",
       "      <td>NaN</td>\n",
       "      <td>NaN</td>\n",
       "      <td>gas</td>\n",
       "      <td>NaN</td>\n",
       "      <td>automatic</td>\n",
       "      <td>truck</td>\n",
       "      <td>silver</td>\n",
       "      <td>True</td>\n",
       "      <td>2018-05-15 00:00:00</td>\n",
       "      <td>NaN</td>\n",
       "      <td>Monday</td>\n",
       "      <td>NaN</td>\n",
       "      <td>NaN</td>\n",
       "      <td>NaN</td>\n",
       "      <td>NaN</td>\n",
       "    </tr>\n",
       "    <tr>\n",
       "      <th>freq</th>\n",
       "      <td>NaN</td>\n",
       "      <td>NaN</td>\n",
       "      <td>3</td>\n",
       "      <td>NaN</td>\n",
       "      <td>NaN</td>\n",
       "      <td>32</td>\n",
       "      <td>NaN</td>\n",
       "      <td>29</td>\n",
       "      <td>10</td>\n",
       "      <td>9</td>\n",
       "      <td>33</td>\n",
       "      <td>1</td>\n",
       "      <td>NaN</td>\n",
       "      <td>9</td>\n",
       "      <td>NaN</td>\n",
       "      <td>NaN</td>\n",
       "      <td>NaN</td>\n",
       "      <td>NaN</td>\n",
       "    </tr>\n",
       "    <tr>\n",
       "      <th>first</th>\n",
       "      <td>NaN</td>\n",
       "      <td>NaN</td>\n",
       "      <td>NaN</td>\n",
       "      <td>NaN</td>\n",
       "      <td>NaN</td>\n",
       "      <td>NaN</td>\n",
       "      <td>NaN</td>\n",
       "      <td>NaN</td>\n",
       "      <td>NaN</td>\n",
       "      <td>NaN</td>\n",
       "      <td>NaN</td>\n",
       "      <td>2018-05-11 00:00:00</td>\n",
       "      <td>NaN</td>\n",
       "      <td>NaN</td>\n",
       "      <td>NaN</td>\n",
       "      <td>NaN</td>\n",
       "      <td>NaN</td>\n",
       "      <td>NaN</td>\n",
       "    </tr>\n",
       "    <tr>\n",
       "      <th>last</th>\n",
       "      <td>NaN</td>\n",
       "      <td>NaN</td>\n",
       "      <td>NaN</td>\n",
       "      <td>NaN</td>\n",
       "      <td>NaN</td>\n",
       "      <td>NaN</td>\n",
       "      <td>NaN</td>\n",
       "      <td>NaN</td>\n",
       "      <td>NaN</td>\n",
       "      <td>NaN</td>\n",
       "      <td>NaN</td>\n",
       "      <td>2019-04-16 00:00:00</td>\n",
       "      <td>NaN</td>\n",
       "      <td>NaN</td>\n",
       "      <td>NaN</td>\n",
       "      <td>NaN</td>\n",
       "      <td>NaN</td>\n",
       "      <td>NaN</td>\n",
       "    </tr>\n",
       "    <tr>\n",
       "      <th>mean</th>\n",
       "      <td>10604.242424</td>\n",
       "      <td>2007.000000</td>\n",
       "      <td>NaN</td>\n",
       "      <td>2.696970</td>\n",
       "      <td>6.060606</td>\n",
       "      <td>NaN</td>\n",
       "      <td>122494.212121</td>\n",
       "      <td>NaN</td>\n",
       "      <td>NaN</td>\n",
       "      <td>NaN</td>\n",
       "      <td>NaN</td>\n",
       "      <td>NaN</td>\n",
       "      <td>0.0</td>\n",
       "      <td>NaN</td>\n",
       "      <td>7.242424</td>\n",
       "      <td>2018.212121</td>\n",
       "      <td>11.212121</td>\n",
       "      <td>14779.459251</td>\n",
       "    </tr>\n",
       "    <tr>\n",
       "      <th>std</th>\n",
       "      <td>6975.432814</td>\n",
       "      <td>7.802243</td>\n",
       "      <td>NaN</td>\n",
       "      <td>0.728219</td>\n",
       "      <td>1.619016</td>\n",
       "      <td>NaN</td>\n",
       "      <td>68071.107573</td>\n",
       "      <td>NaN</td>\n",
       "      <td>NaN</td>\n",
       "      <td>NaN</td>\n",
       "      <td>NaN</td>\n",
       "      <td>NaN</td>\n",
       "      <td>0.0</td>\n",
       "      <td>NaN</td>\n",
       "      <td>2.795424</td>\n",
       "      <td>0.415149</td>\n",
       "      <td>7.692356</td>\n",
       "      <td>12227.193651</td>\n",
       "    </tr>\n",
       "    <tr>\n",
       "      <th>min</th>\n",
       "      <td>1500.000000</td>\n",
       "      <td>1985.000000</td>\n",
       "      <td>NaN</td>\n",
       "      <td>2.000000</td>\n",
       "      <td>4.000000</td>\n",
       "      <td>NaN</td>\n",
       "      <td>162.000000</td>\n",
       "      <td>NaN</td>\n",
       "      <td>NaN</td>\n",
       "      <td>NaN</td>\n",
       "      <td>NaN</td>\n",
       "      <td>NaN</td>\n",
       "      <td>0.0</td>\n",
       "      <td>NaN</td>\n",
       "      <td>2.000000</td>\n",
       "      <td>2018.000000</td>\n",
       "      <td>1.000000</td>\n",
       "      <td>20.250000</td>\n",
       "    </tr>\n",
       "    <tr>\n",
       "      <th>25%</th>\n",
       "      <td>5000.000000</td>\n",
       "      <td>2004.000000</td>\n",
       "      <td>NaN</td>\n",
       "      <td>2.000000</td>\n",
       "      <td>4.000000</td>\n",
       "      <td>NaN</td>\n",
       "      <td>72000.000000</td>\n",
       "      <td>NaN</td>\n",
       "      <td>NaN</td>\n",
       "      <td>NaN</td>\n",
       "      <td>NaN</td>\n",
       "      <td>NaN</td>\n",
       "      <td>0.0</td>\n",
       "      <td>NaN</td>\n",
       "      <td>5.000000</td>\n",
       "      <td>2018.000000</td>\n",
       "      <td>5.000000</td>\n",
       "      <td>8479.166667</td>\n",
       "    </tr>\n",
       "    <tr>\n",
       "      <th>50%</th>\n",
       "      <td>9450.000000</td>\n",
       "      <td>2009.000000</td>\n",
       "      <td>NaN</td>\n",
       "      <td>3.000000</td>\n",
       "      <td>6.000000</td>\n",
       "      <td>NaN</td>\n",
       "      <td>121000.000000</td>\n",
       "      <td>NaN</td>\n",
       "      <td>NaN</td>\n",
       "      <td>NaN</td>\n",
       "      <td>NaN</td>\n",
       "      <td>NaN</td>\n",
       "      <td>0.0</td>\n",
       "      <td>NaN</td>\n",
       "      <td>8.000000</td>\n",
       "      <td>2018.000000</td>\n",
       "      <td>9.000000</td>\n",
       "      <td>12755.600000</td>\n",
       "    </tr>\n",
       "    <tr>\n",
       "      <th>75%</th>\n",
       "      <td>14000.000000</td>\n",
       "      <td>2013.000000</td>\n",
       "      <td>NaN</td>\n",
       "      <td>3.000000</td>\n",
       "      <td>8.000000</td>\n",
       "      <td>NaN</td>\n",
       "      <td>165178.000000</td>\n",
       "      <td>NaN</td>\n",
       "      <td>NaN</td>\n",
       "      <td>NaN</td>\n",
       "      <td>NaN</td>\n",
       "      <td>NaN</td>\n",
       "      <td>0.0</td>\n",
       "      <td>NaN</td>\n",
       "      <td>9.000000</td>\n",
       "      <td>2018.000000</td>\n",
       "      <td>14.000000</td>\n",
       "      <td>17857.142857</td>\n",
       "    </tr>\n",
       "    <tr>\n",
       "      <th>max</th>\n",
       "      <td>28699.000000</td>\n",
       "      <td>2017.000000</td>\n",
       "      <td>NaN</td>\n",
       "      <td>4.000000</td>\n",
       "      <td>8.000000</td>\n",
       "      <td>NaN</td>\n",
       "      <td>250000.000000</td>\n",
       "      <td>NaN</td>\n",
       "      <td>NaN</td>\n",
       "      <td>NaN</td>\n",
       "      <td>NaN</td>\n",
       "      <td>NaN</td>\n",
       "      <td>0.0</td>\n",
       "      <td>NaN</td>\n",
       "      <td>12.000000</td>\n",
       "      <td>2019.000000</td>\n",
       "      <td>33.000000</td>\n",
       "      <td>72000.000000</td>\n",
       "    </tr>\n",
       "  </tbody>\n",
       "</table>\n",
       "</div>"
      ],
      "text/plain": [
       "               price   model_year                     model  condition  \\\n",
       "count      33.000000    33.000000                        33  33.000000   \n",
       "unique           NaN          NaN                        24        NaN   \n",
       "top              NaN          NaN  chevrolet silverado 1500        NaN   \n",
       "freq             NaN          NaN                         3        NaN   \n",
       "first            NaN          NaN                       NaN        NaN   \n",
       "last             NaN          NaN                       NaN        NaN   \n",
       "mean    10604.242424  2007.000000                       NaN   2.696970   \n",
       "std      6975.432814     7.802243                       NaN   0.728219   \n",
       "min      1500.000000  1985.000000                       NaN   2.000000   \n",
       "25%      5000.000000  2004.000000                       NaN   2.000000   \n",
       "50%      9450.000000  2009.000000                       NaN   3.000000   \n",
       "75%     14000.000000  2013.000000                       NaN   3.000000   \n",
       "max     28699.000000  2017.000000                       NaN   4.000000   \n",
       "\n",
       "        cylinders fuel       odometer transmission   type paint_color is_4wd  \\\n",
       "count   33.000000   33      33.000000           33     33          33     33   \n",
       "unique        NaN    2            NaN            3      9           8      1   \n",
       "top           NaN  gas            NaN    automatic  truck      silver   True   \n",
       "freq          NaN   32            NaN           29     10           9     33   \n",
       "first         NaN  NaN            NaN          NaN    NaN         NaN    NaN   \n",
       "last          NaN  NaN            NaN          NaN    NaN         NaN    NaN   \n",
       "mean     6.060606  NaN  122494.212121          NaN    NaN         NaN    NaN   \n",
       "std      1.619016  NaN   68071.107573          NaN    NaN         NaN    NaN   \n",
       "min      4.000000  NaN     162.000000          NaN    NaN         NaN    NaN   \n",
       "25%      4.000000  NaN   72000.000000          NaN    NaN         NaN    NaN   \n",
       "50%      6.000000  NaN  121000.000000          NaN    NaN         NaN    NaN   \n",
       "75%      8.000000  NaN  165178.000000          NaN    NaN         NaN    NaN   \n",
       "max      8.000000  NaN  250000.000000          NaN    NaN         NaN    NaN   \n",
       "\n",
       "                date_posted  days_listed ad_day_of_week   ad_month  \\\n",
       "count                    33         33.0             33  33.000000   \n",
       "unique                   33          NaN              7        NaN   \n",
       "top     2018-05-15 00:00:00          NaN         Monday        NaN   \n",
       "freq                      1          NaN              9        NaN   \n",
       "first   2018-05-11 00:00:00          NaN            NaN        NaN   \n",
       "last    2019-04-16 00:00:00          NaN            NaN        NaN   \n",
       "mean                    NaN          0.0            NaN   7.242424   \n",
       "std                     NaN          0.0            NaN   2.795424   \n",
       "min                     NaN          0.0            NaN   2.000000   \n",
       "25%                     NaN          0.0            NaN   5.000000   \n",
       "50%                     NaN          0.0            NaN   8.000000   \n",
       "75%                     NaN          0.0            NaN   9.000000   \n",
       "max                     NaN          0.0            NaN  12.000000   \n",
       "\n",
       "            ad_year  vehicle_age  avg_mileage_per_year  \n",
       "count     33.000000    33.000000             33.000000  \n",
       "unique          NaN          NaN                   NaN  \n",
       "top             NaN          NaN                   NaN  \n",
       "freq            NaN          NaN                   NaN  \n",
       "first           NaN          NaN                   NaN  \n",
       "last            NaN          NaN                   NaN  \n",
       "mean    2018.212121    11.212121          14779.459251  \n",
       "std        0.415149     7.692356          12227.193651  \n",
       "min     2018.000000     1.000000             20.250000  \n",
       "25%     2018.000000     5.000000           8479.166667  \n",
       "50%     2018.000000     9.000000          12755.600000  \n",
       "75%     2018.000000    14.000000          17857.142857  \n",
       "max     2019.000000    33.000000          72000.000000  "
      ]
     },
     "execution_count": 37,
     "metadata": {},
     "output_type": "execute_result"
    }
   ],
   "source": [
    "ad_outliers.query(\"days_listed == 0\").describe(include='all')"
   ]
  },
  {
   "cell_type": "code",
   "execution_count": 38,
   "metadata": {},
   "outputs": [
    {
     "name": "stderr",
     "output_type": "stream",
     "text": [
      "/opt/conda/lib/python3.7/site-packages/ipykernel_launcher.py:1: FutureWarning: Treating datetime data as categorical rather than numeric in `.describe` is deprecated and will be removed in a future version of pandas. Specify `datetime_is_numeric=True` to silence this warning and adopt the future behavior now.\n",
      "  \"\"\"Entry point for launching an IPython kernel.\n"
     ]
    },
    {
     "data": {
      "text/html": [
       "<div>\n",
       "<style scoped>\n",
       "    .dataframe tbody tr th:only-of-type {\n",
       "        vertical-align: middle;\n",
       "    }\n",
       "\n",
       "    .dataframe tbody tr th {\n",
       "        vertical-align: top;\n",
       "    }\n",
       "\n",
       "    .dataframe thead th {\n",
       "        text-align: right;\n",
       "    }\n",
       "</style>\n",
       "<table border=\"1\" class=\"dataframe\">\n",
       "  <thead>\n",
       "    <tr style=\"text-align: right;\">\n",
       "      <th></th>\n",
       "      <th>price</th>\n",
       "      <th>model_year</th>\n",
       "      <th>model</th>\n",
       "      <th>condition</th>\n",
       "      <th>cylinders</th>\n",
       "      <th>fuel</th>\n",
       "      <th>odometer</th>\n",
       "      <th>transmission</th>\n",
       "      <th>type</th>\n",
       "      <th>paint_color</th>\n",
       "      <th>is_4wd</th>\n",
       "      <th>date_posted</th>\n",
       "      <th>days_listed</th>\n",
       "      <th>ad_day_of_week</th>\n",
       "      <th>ad_month</th>\n",
       "      <th>ad_year</th>\n",
       "      <th>vehicle_age</th>\n",
       "      <th>avg_mileage_per_year</th>\n",
       "    </tr>\n",
       "  </thead>\n",
       "  <tbody>\n",
       "    <tr>\n",
       "      <th>count</th>\n",
       "      <td>152.000000</td>\n",
       "      <td>152.000000</td>\n",
       "      <td>152</td>\n",
       "      <td>152.000000</td>\n",
       "      <td>152.000000</td>\n",
       "      <td>152</td>\n",
       "      <td>152.000000</td>\n",
       "      <td>152</td>\n",
       "      <td>152</td>\n",
       "      <td>152</td>\n",
       "      <td>152</td>\n",
       "      <td>152</td>\n",
       "      <td>152.000000</td>\n",
       "      <td>152</td>\n",
       "      <td>152.000000</td>\n",
       "      <td>152.000000</td>\n",
       "      <td>152.000000</td>\n",
       "      <td>152.000000</td>\n",
       "    </tr>\n",
       "    <tr>\n",
       "      <th>unique</th>\n",
       "      <td>NaN</td>\n",
       "      <td>NaN</td>\n",
       "      <td>73</td>\n",
       "      <td>NaN</td>\n",
       "      <td>NaN</td>\n",
       "      <td>3</td>\n",
       "      <td>NaN</td>\n",
       "      <td>3</td>\n",
       "      <td>11</td>\n",
       "      <td>10</td>\n",
       "      <td>1</td>\n",
       "      <td>127</td>\n",
       "      <td>NaN</td>\n",
       "      <td>7</td>\n",
       "      <td>NaN</td>\n",
       "      <td>NaN</td>\n",
       "      <td>NaN</td>\n",
       "      <td>NaN</td>\n",
       "    </tr>\n",
       "    <tr>\n",
       "      <th>top</th>\n",
       "      <td>NaN</td>\n",
       "      <td>NaN</td>\n",
       "      <td>chevrolet silverado</td>\n",
       "      <td>NaN</td>\n",
       "      <td>NaN</td>\n",
       "      <td>gas</td>\n",
       "      <td>NaN</td>\n",
       "      <td>automatic</td>\n",
       "      <td>SUV</td>\n",
       "      <td>white</td>\n",
       "      <td>True</td>\n",
       "      <td>2018-11-29 00:00:00</td>\n",
       "      <td>NaN</td>\n",
       "      <td>Thursday</td>\n",
       "      <td>NaN</td>\n",
       "      <td>NaN</td>\n",
       "      <td>NaN</td>\n",
       "      <td>NaN</td>\n",
       "    </tr>\n",
       "    <tr>\n",
       "      <th>freq</th>\n",
       "      <td>NaN</td>\n",
       "      <td>NaN</td>\n",
       "      <td>7</td>\n",
       "      <td>NaN</td>\n",
       "      <td>NaN</td>\n",
       "      <td>137</td>\n",
       "      <td>NaN</td>\n",
       "      <td>141</td>\n",
       "      <td>41</td>\n",
       "      <td>47</td>\n",
       "      <td>152</td>\n",
       "      <td>3</td>\n",
       "      <td>NaN</td>\n",
       "      <td>28</td>\n",
       "      <td>NaN</td>\n",
       "      <td>NaN</td>\n",
       "      <td>NaN</td>\n",
       "      <td>NaN</td>\n",
       "    </tr>\n",
       "    <tr>\n",
       "      <th>first</th>\n",
       "      <td>NaN</td>\n",
       "      <td>NaN</td>\n",
       "      <td>NaN</td>\n",
       "      <td>NaN</td>\n",
       "      <td>NaN</td>\n",
       "      <td>NaN</td>\n",
       "      <td>NaN</td>\n",
       "      <td>NaN</td>\n",
       "      <td>NaN</td>\n",
       "      <td>NaN</td>\n",
       "      <td>NaN</td>\n",
       "      <td>2018-05-03 00:00:00</td>\n",
       "      <td>NaN</td>\n",
       "      <td>NaN</td>\n",
       "      <td>NaN</td>\n",
       "      <td>NaN</td>\n",
       "      <td>NaN</td>\n",
       "      <td>NaN</td>\n",
       "    </tr>\n",
       "    <tr>\n",
       "      <th>last</th>\n",
       "      <td>NaN</td>\n",
       "      <td>NaN</td>\n",
       "      <td>NaN</td>\n",
       "      <td>NaN</td>\n",
       "      <td>NaN</td>\n",
       "      <td>NaN</td>\n",
       "      <td>NaN</td>\n",
       "      <td>NaN</td>\n",
       "      <td>NaN</td>\n",
       "      <td>NaN</td>\n",
       "      <td>NaN</td>\n",
       "      <td>2019-04-15 00:00:00</td>\n",
       "      <td>NaN</td>\n",
       "      <td>NaN</td>\n",
       "      <td>NaN</td>\n",
       "      <td>NaN</td>\n",
       "      <td>NaN</td>\n",
       "      <td>NaN</td>\n",
       "    </tr>\n",
       "    <tr>\n",
       "      <th>mean</th>\n",
       "      <td>11875.927632</td>\n",
       "      <td>2010.013158</td>\n",
       "      <td>NaN</td>\n",
       "      <td>2.697368</td>\n",
       "      <td>6.078947</td>\n",
       "      <td>NaN</td>\n",
       "      <td>115454.328947</td>\n",
       "      <td>NaN</td>\n",
       "      <td>NaN</td>\n",
       "      <td>NaN</td>\n",
       "      <td>NaN</td>\n",
       "      <td>NaN</td>\n",
       "      <td>175.157895</td>\n",
       "      <td>NaN</td>\n",
       "      <td>6.453947</td>\n",
       "      <td>2018.335526</td>\n",
       "      <td>8.322368</td>\n",
       "      <td>16662.740947</td>\n",
       "    </tr>\n",
       "    <tr>\n",
       "      <th>std</th>\n",
       "      <td>8872.341785</td>\n",
       "      <td>5.130079</td>\n",
       "      <td>NaN</td>\n",
       "      <td>0.661520</td>\n",
       "      <td>1.592725</td>\n",
       "      <td>NaN</td>\n",
       "      <td>60675.482615</td>\n",
       "      <td>NaN</td>\n",
       "      <td>NaN</td>\n",
       "      <td>NaN</td>\n",
       "      <td>NaN</td>\n",
       "      <td>NaN</td>\n",
       "      <td>25.955924</td>\n",
       "      <td>NaN</td>\n",
       "      <td>3.480958</td>\n",
       "      <td>0.473735</td>\n",
       "      <td>5.108883</td>\n",
       "      <td>9565.952617</td>\n",
       "    </tr>\n",
       "    <tr>\n",
       "      <th>min</th>\n",
       "      <td>1.000000</td>\n",
       "      <td>1987.000000</td>\n",
       "      <td>NaN</td>\n",
       "      <td>2.000000</td>\n",
       "      <td>4.000000</td>\n",
       "      <td>NaN</td>\n",
       "      <td>0.000000</td>\n",
       "      <td>NaN</td>\n",
       "      <td>NaN</td>\n",
       "      <td>NaN</td>\n",
       "      <td>NaN</td>\n",
       "      <td>NaN</td>\n",
       "      <td>151.000000</td>\n",
       "      <td>NaN</td>\n",
       "      <td>1.000000</td>\n",
       "      <td>2018.000000</td>\n",
       "      <td>1.000000</td>\n",
       "      <td>0.000000</td>\n",
       "    </tr>\n",
       "    <tr>\n",
       "      <th>25%</th>\n",
       "      <td>5899.750000</td>\n",
       "      <td>2007.000000</td>\n",
       "      <td>NaN</td>\n",
       "      <td>2.000000</td>\n",
       "      <td>4.000000</td>\n",
       "      <td>NaN</td>\n",
       "      <td>67928.000000</td>\n",
       "      <td>NaN</td>\n",
       "      <td>NaN</td>\n",
       "      <td>NaN</td>\n",
       "      <td>NaN</td>\n",
       "      <td>NaN</td>\n",
       "      <td>157.000000</td>\n",
       "      <td>NaN</td>\n",
       "      <td>3.000000</td>\n",
       "      <td>2018.000000</td>\n",
       "      <td>5.000000</td>\n",
       "      <td>10883.333333</td>\n",
       "    </tr>\n",
       "    <tr>\n",
       "      <th>50%</th>\n",
       "      <td>9124.500000</td>\n",
       "      <td>2011.000000</td>\n",
       "      <td>NaN</td>\n",
       "      <td>3.000000</td>\n",
       "      <td>6.000000</td>\n",
       "      <td>NaN</td>\n",
       "      <td>115393.500000</td>\n",
       "      <td>NaN</td>\n",
       "      <td>NaN</td>\n",
       "      <td>NaN</td>\n",
       "      <td>NaN</td>\n",
       "      <td>NaN</td>\n",
       "      <td>165.000000</td>\n",
       "      <td>NaN</td>\n",
       "      <td>6.000000</td>\n",
       "      <td>2018.000000</td>\n",
       "      <td>8.000000</td>\n",
       "      <td>15407.166667</td>\n",
       "    </tr>\n",
       "    <tr>\n",
       "      <th>75%</th>\n",
       "      <td>14923.750000</td>\n",
       "      <td>2013.250000</td>\n",
       "      <td>NaN</td>\n",
       "      <td>3.000000</td>\n",
       "      <td>8.000000</td>\n",
       "      <td>NaN</td>\n",
       "      <td>157000.000000</td>\n",
       "      <td>NaN</td>\n",
       "      <td>NaN</td>\n",
       "      <td>NaN</td>\n",
       "      <td>NaN</td>\n",
       "      <td>NaN</td>\n",
       "      <td>184.250000</td>\n",
       "      <td>NaN</td>\n",
       "      <td>9.250000</td>\n",
       "      <td>2019.000000</td>\n",
       "      <td>11.000000</td>\n",
       "      <td>20085.906250</td>\n",
       "    </tr>\n",
       "    <tr>\n",
       "      <th>max</th>\n",
       "      <td>50948.000000</td>\n",
       "      <td>2017.000000</td>\n",
       "      <td>NaN</td>\n",
       "      <td>4.000000</td>\n",
       "      <td>8.000000</td>\n",
       "      <td>NaN</td>\n",
       "      <td>286355.000000</td>\n",
       "      <td>NaN</td>\n",
       "      <td>NaN</td>\n",
       "      <td>NaN</td>\n",
       "      <td>NaN</td>\n",
       "      <td>NaN</td>\n",
       "      <td>271.000000</td>\n",
       "      <td>NaN</td>\n",
       "      <td>12.000000</td>\n",
       "      <td>2019.000000</td>\n",
       "      <td>32.000000</td>\n",
       "      <td>64290.000000</td>\n",
       "    </tr>\n",
       "  </tbody>\n",
       "</table>\n",
       "</div>"
      ],
      "text/plain": [
       "               price   model_year                model   condition  \\\n",
       "count     152.000000   152.000000                  152  152.000000   \n",
       "unique           NaN          NaN                   73         NaN   \n",
       "top              NaN          NaN  chevrolet silverado         NaN   \n",
       "freq             NaN          NaN                    7         NaN   \n",
       "first            NaN          NaN                  NaN         NaN   \n",
       "last             NaN          NaN                  NaN         NaN   \n",
       "mean    11875.927632  2010.013158                  NaN    2.697368   \n",
       "std      8872.341785     5.130079                  NaN    0.661520   \n",
       "min         1.000000  1987.000000                  NaN    2.000000   \n",
       "25%      5899.750000  2007.000000                  NaN    2.000000   \n",
       "50%      9124.500000  2011.000000                  NaN    3.000000   \n",
       "75%     14923.750000  2013.250000                  NaN    3.000000   \n",
       "max     50948.000000  2017.000000                  NaN    4.000000   \n",
       "\n",
       "         cylinders fuel       odometer transmission type paint_color is_4wd  \\\n",
       "count   152.000000  152     152.000000          152  152         152    152   \n",
       "unique         NaN    3            NaN            3   11          10      1   \n",
       "top            NaN  gas            NaN    automatic  SUV       white   True   \n",
       "freq           NaN  137            NaN          141   41          47    152   \n",
       "first          NaN  NaN            NaN          NaN  NaN         NaN    NaN   \n",
       "last           NaN  NaN            NaN          NaN  NaN         NaN    NaN   \n",
       "mean      6.078947  NaN  115454.328947          NaN  NaN         NaN    NaN   \n",
       "std       1.592725  NaN   60675.482615          NaN  NaN         NaN    NaN   \n",
       "min       4.000000  NaN       0.000000          NaN  NaN         NaN    NaN   \n",
       "25%       4.000000  NaN   67928.000000          NaN  NaN         NaN    NaN   \n",
       "50%       6.000000  NaN  115393.500000          NaN  NaN         NaN    NaN   \n",
       "75%       8.000000  NaN  157000.000000          NaN  NaN         NaN    NaN   \n",
       "max       8.000000  NaN  286355.000000          NaN  NaN         NaN    NaN   \n",
       "\n",
       "                date_posted  days_listed ad_day_of_week    ad_month  \\\n",
       "count                   152   152.000000            152  152.000000   \n",
       "unique                  127          NaN              7         NaN   \n",
       "top     2018-11-29 00:00:00          NaN       Thursday         NaN   \n",
       "freq                      3          NaN             28         NaN   \n",
       "first   2018-05-03 00:00:00          NaN            NaN         NaN   \n",
       "last    2019-04-15 00:00:00          NaN            NaN         NaN   \n",
       "mean                    NaN   175.157895            NaN    6.453947   \n",
       "std                     NaN    25.955924            NaN    3.480958   \n",
       "min                     NaN   151.000000            NaN    1.000000   \n",
       "25%                     NaN   157.000000            NaN    3.000000   \n",
       "50%                     NaN   165.000000            NaN    6.000000   \n",
       "75%                     NaN   184.250000            NaN    9.250000   \n",
       "max                     NaN   271.000000            NaN   12.000000   \n",
       "\n",
       "            ad_year  vehicle_age  avg_mileage_per_year  \n",
       "count    152.000000   152.000000            152.000000  \n",
       "unique          NaN          NaN                   NaN  \n",
       "top             NaN          NaN                   NaN  \n",
       "freq            NaN          NaN                   NaN  \n",
       "first           NaN          NaN                   NaN  \n",
       "last            NaN          NaN                   NaN  \n",
       "mean    2018.335526     8.322368          16662.740947  \n",
       "std        0.473735     5.108883           9565.952617  \n",
       "min     2018.000000     1.000000              0.000000  \n",
       "25%     2018.000000     5.000000          10883.333333  \n",
       "50%     2018.000000     8.000000          15407.166667  \n",
       "75%     2019.000000    11.000000          20085.906250  \n",
       "max     2019.000000    32.000000          64290.000000  "
      ]
     },
     "execution_count": 38,
     "metadata": {},
     "output_type": "execute_result"
    }
   ],
   "source": [
    "ad_outliers.query(\"days_listed > 150\").describe(include='all')"
   ]
  },
  {
   "cell_type": "markdown",
   "metadata": {},
   "source": [
    "There appears to be no real discernable difference in the quantitative characteristics of the outliers on either end here. However - the object columns show some similarities. Our zero day ads seem to be all for 4wd vehicles, and appear to favor silver trucks. Our longer ads appear to favor white SUVs, all with 4wd. "
   ]
  },
  {
   "cell_type": "markdown",
   "metadata": {},
   "source": [
    "Next, let's examine the number of ads and average price for each type of vehicle. We can also plot these two features together to see if we can examine any relationship."
   ]
  },
  {
   "cell_type": "code",
   "execution_count": 39,
   "metadata": {},
   "outputs": [
    {
     "data": {
      "text/html": [
       "<div>\n",
       "<style scoped>\n",
       "    .dataframe tbody tr th:only-of-type {\n",
       "        vertical-align: middle;\n",
       "    }\n",
       "\n",
       "    .dataframe tbody tr th {\n",
       "        vertical-align: top;\n",
       "    }\n",
       "\n",
       "    .dataframe thead tr th {\n",
       "        text-align: left;\n",
       "    }\n",
       "\n",
       "    .dataframe thead tr:last-of-type th {\n",
       "        text-align: right;\n",
       "    }\n",
       "</style>\n",
       "<table border=\"1\" class=\"dataframe\">\n",
       "  <thead>\n",
       "    <tr>\n",
       "      <th></th>\n",
       "      <th>mean</th>\n",
       "      <th>count</th>\n",
       "    </tr>\n",
       "    <tr>\n",
       "      <th></th>\n",
       "      <th>price</th>\n",
       "      <th>price</th>\n",
       "    </tr>\n",
       "    <tr>\n",
       "      <th>type</th>\n",
       "      <th></th>\n",
       "      <th></th>\n",
       "    </tr>\n",
       "  </thead>\n",
       "  <tbody>\n",
       "    <tr>\n",
       "      <th>truck</th>\n",
       "      <td>16230.29</td>\n",
       "      <td>7719</td>\n",
       "    </tr>\n",
       "    <tr>\n",
       "      <th>pickup</th>\n",
       "      <td>15799.51</td>\n",
       "      <td>4269</td>\n",
       "    </tr>\n",
       "    <tr>\n",
       "      <th>offroad</th>\n",
       "      <td>14413.47</td>\n",
       "      <td>150</td>\n",
       "    </tr>\n",
       "    <tr>\n",
       "      <th>coupe</th>\n",
       "      <td>13998.27</td>\n",
       "      <td>1427</td>\n",
       "    </tr>\n",
       "    <tr>\n",
       "      <th>convertible</th>\n",
       "      <td>13747.15</td>\n",
       "      <td>289</td>\n",
       "    </tr>\n",
       "    <tr>\n",
       "      <th>SUV</th>\n",
       "      <td>10946.97</td>\n",
       "      <td>8027</td>\n",
       "    </tr>\n",
       "    <tr>\n",
       "      <th>other</th>\n",
       "      <td>10933.92</td>\n",
       "      <td>156</td>\n",
       "    </tr>\n",
       "    <tr>\n",
       "      <th>wagon</th>\n",
       "      <td>8895.54</td>\n",
       "      <td>1043</td>\n",
       "    </tr>\n",
       "    <tr>\n",
       "      <th>van</th>\n",
       "      <td>8331.58</td>\n",
       "      <td>377</td>\n",
       "    </tr>\n",
       "    <tr>\n",
       "      <th>mini-van</th>\n",
       "      <td>8041.40</td>\n",
       "      <td>760</td>\n",
       "    </tr>\n",
       "    <tr>\n",
       "      <th>sedan</th>\n",
       "      <td>6887.78</td>\n",
       "      <td>7859</td>\n",
       "    </tr>\n",
       "    <tr>\n",
       "      <th>hatchback</th>\n",
       "      <td>6798.15</td>\n",
       "      <td>693</td>\n",
       "    </tr>\n",
       "    <tr>\n",
       "      <th>bus</th>\n",
       "      <td>6139.29</td>\n",
       "      <td>7</td>\n",
       "    </tr>\n",
       "  </tbody>\n",
       "</table>\n",
       "</div>"
      ],
      "text/plain": [
       "                 mean count\n",
       "                price price\n",
       "type                       \n",
       "truck        16230.29  7719\n",
       "pickup       15799.51  4269\n",
       "offroad      14413.47   150\n",
       "coupe        13998.27  1427\n",
       "convertible  13747.15   289\n",
       "SUV          10946.97  8027\n",
       "other        10933.92   156\n",
       "wagon         8895.54  1043\n",
       "van           8331.58   377\n",
       "mini-van      8041.40   760\n",
       "sedan         6887.78  7859\n",
       "hatchback     6798.15   693\n",
       "bus           6139.29     7"
      ]
     },
     "execution_count": 39,
     "metadata": {},
     "output_type": "execute_result"
    }
   ],
   "source": [
    "ad_price_data = np.round(\n",
    "                clean_car_data.pivot_table(index='type', values='price', aggfunc=['mean', 'count']), 2)\n",
    "\n",
    "ad_price_data.sort_values(by=('mean', 'price'), ascending=False)"
   ]
  },
  {
   "cell_type": "code",
   "execution_count": 40,
   "metadata": {},
   "outputs": [
    {
     "data": {
      "image/png": "[encoded data removed]",
      "text/plain": [
       "<Figure size 864x360 with 1 Axes>"
      ]
     },
     "metadata": {
      "needs_background": "light"
     },
     "output_type": "display_data"
    }
   ],
   "source": [
    "# this table tells us a lot! \n",
    "# let's create our graph and then analyze both of these for our conclusion\n",
    "\n",
    "plt.figure(figsize=(12,5))\n",
    "plt.scatter(x=ad_price_data.index, y=ad_price_data['count', 'price'])\n",
    "plt.xlabel('Type of car')\n",
    "plt.ylabel('Number of ads')\n",
    "plt.show()"
   ]
  },
  {
   "cell_type": "markdown",
   "metadata": {},
   "source": [
    "Looking at the previous graph and pivot table, we can conclude that the two types of vehicles with the greatest average price are: Trucks and Pickups, with Offroad not too far behind. Matching this with the above graph, we can also see that Trucks and Pickups have a higher-than-average number of ads. SUVs and Sedans also have a comparible number of ads (SUVs having the most) but end up selling at a lower price. Sedans seem to have one of the lowest average prices. Trucks and Pickups tend to be larger with heavy-duty (and more expensive) components, which may factor in to the higher average selling price. Coupes and Convertibles, which also have a high selling price, may be a result of the luxury nature of those vehicle types. Overall, we can conclude that Trucks overwhelmingly sell at the highest average price, with a larger than average ad count to match."
   ]
  },
  {
   "cell_type": "markdown",
   "metadata": {},
   "source": [
    "The last piece we want to analyze here are the factors that impact the selling price the most. Let's analyze each feature and see if we can pull anything from our graphs. "
   ]
  },
  {
   "cell_type": "code",
   "execution_count": 41,
   "metadata": {},
   "outputs": [
    {
     "data": {
      "image/png": "[encoded data removed]",
      "text/plain": [
       "<Figure size 432x288 with 1 Axes>"
      ]
     },
     "metadata": {
      "needs_background": "light"
     },
     "output_type": "display_data"
    },
    {
     "data": {
      "image/png": "[encoded data removed]",
      "text/plain": [
       "<Figure size 432x288 with 1 Axes>"
      ]
     },
     "metadata": {
      "needs_background": "light"
     },
     "output_type": "display_data"
    },
    {
     "data": {
      "image/png": "[encoded data removed]",
      "text/plain": [
       "<Figure size 432x288 with 1 Axes>"
      ]
     },
     "metadata": {
      "needs_background": "light"
     },
     "output_type": "display_data"
    }
   ],
   "source": [
    "# first lets split our df into two parts\n",
    "# one df for quantitative features, and another for categorical\n",
    "\n",
    "quant_car_data = clean_car_data[['price', 'vehicle_age', 'odometer', 'condition']]\n",
    "categ_car_data = clean_car_data[['transmission', 'paint_color']]\n",
    "\n",
    "# next let's plot our quantitative data\n",
    "y_columns = ['vehicle_age', 'odometer', 'condition']\n",
    "for y_col in y_columns:\n",
    "    figure = plt.figure\n",
    "    ax = plt.gca()\n",
    "    ax.scatter(quant_car_data['price'], quant_car_data[y_col], alpha=0.15)\n",
    "    ax.set_xlabel('price')\n",
    "    ax.set_ylabel(y_col)\n",
    "    ax.set_title(\"{} vs {}\".format('Price', y_col))\n",
    "    plt.show()"
   ]
  },
  {
   "cell_type": "code",
   "execution_count": 42,
   "metadata": {},
   "outputs": [
    {
     "data": {
      "text/plain": [
       "<AxesSubplot:title={'center':'price'}, xlabel='transmission'>"
      ]
     },
     "execution_count": 42,
     "metadata": {},
     "output_type": "execute_result"
    },
    {
     "data": {
      "image/png": "[encoded data removed]",
      "text/plain": [
       "<Figure size 576x432 with 1 Axes>"
      ]
     },
     "metadata": {
      "needs_background": "light"
     },
     "output_type": "display_data"
    }
   ],
   "source": [
    "# and our categorical data\n",
    "clean_car_data.boxplot(by='transmission', column='price', figsize=(8,6))"
   ]
  },
  {
   "cell_type": "code",
   "execution_count": 43,
   "metadata": {},
   "outputs": [
    {
     "data": {
      "text/plain": [
       "<AxesSubplot:title={'center':'price'}, xlabel='paint_color'>"
      ]
     },
     "execution_count": 43,
     "metadata": {},
     "output_type": "execute_result"
    },
    {
     "data": {
      "image/png": "[encoded data removed]",
      "text/plain": [
       "<Figure size 720x432 with 1 Axes>"
      ]
     },
     "metadata": {
      "needs_background": "light"
     },
     "output_type": "display_data"
    }
   ],
   "source": [
    "clean_car_data.boxplot(by='paint_color', column='price', figsize=(10,6))"
   ]
  },
  {
   "cell_type": "markdown",
   "metadata": {},
   "source": [
    "Looking at the above graphs, we can start to see some of the factors that have the greatest impact on the price a vehicle sells for. Starting with the quantitative data, we can see that newer vehicles with less miles on the odometer sell more often sell for a higher price. Condition has less of an \"obvious\" impact, but we can see that a car in better condition will likely sell for more (condition = 3 or 4). Moving on to the categorical data, we start to see that there are a lot of outliers in our paint color and transmission columns. Overall there does not seem to be an obvious marker for higher prices. Autmoatic and manual vehicles seem to sell at a similar price point, though there does seem to be slightly more higher selling outliers in the automaatic transmission category. The mysterious \"other\" category seems to do the best. Due to the lack of info we have on what \"other\" may correspond to, I don't feel comfortable definitively saying that a vehicle with some \"other\" transmission will sell the best. Paint color also appears to be all over the place. Orange cars appear to sell the best if we do not include outliers. Once we add outliers into the mix, it becomes trickier to say. There does not appear to be any color that affects the price to a noticeable degree. The only real conclusion I can pull from this is that purple cars will not sell well, which makes sense as I can't remember the last time I have seen a purple car."
   ]
  },
  {
   "cell_type": "markdown",
   "metadata": {},
   "source": [
    "## Overall conclusion"
   ]
  },
  {
   "cell_type": "markdown",
   "metadata": {},
   "source": [
    "Our analysis began with a look at the missing values in our dataframe. We addressed the missing values appropriately and then fixed the data types. Once we had our dataframe clean, we started to create new features to help find patterns in our EDA. The EDA showed us our outliers and allowed us to pull them from the main data to make a more accurate analysis. \n",
    "<br><br>\n",
    "Overall, our analysis of car features and their impact on the price a car will sell at has brought us to this conclusion. A car will sell at a higher price if:\n",
    "- It is a truck, pickup, or offroad vehicle\n",
    "- It is newer\n",
    "- It has less miles on the odometer\n",
    "- It's in good condition (condition = 3 or 4)\n",
    "- It has an automatic transmission\n",
    "- It is *not* purple"
   ]
  },
  {
   "cell_type": "markdown",
   "metadata": {},
   "source": [
    "This information can help us to predict or determine a selling price if we bring a new used vehicle to Crankshaft List. We can also use this information to get a general sale starting point, regardless of where we place the ad."
   ]
  }
 ],
 "metadata": {
  "ExecuteTimeLog": [
   {
    "duration": 1169,
    "start_time": "2021-06-22T16:43:42.925Z"
   },
   {
    "duration": 2421,
    "start_time": "2021-06-22T16:43:51.089Z"
   },
   {
    "duration": 1965,
    "start_time": "2021-06-22T16:44:40.951Z"
   },
   {
    "duration": 2094,
    "start_time": "2021-06-22T16:45:17.094Z"
   },
   {
    "duration": 933,
    "start_time": "2021-06-22T16:52:50.582Z"
   },
   {
    "duration": 23,
    "start_time": "2021-06-22T16:53:23.529Z"
   },
   {
    "duration": 20,
    "start_time": "2021-06-22T16:53:37.689Z"
   },
   {
    "duration": 930,
    "start_time": "2021-06-22T21:06:03.191Z"
   },
   {
    "duration": 23,
    "start_time": "2021-06-22T21:06:08.397Z"
   },
   {
    "duration": 20,
    "start_time": "2021-06-22T21:10:43.480Z"
   },
   {
    "duration": 370,
    "start_time": "2021-06-22T21:20:40.815Z"
   },
   {
    "duration": 21,
    "start_time": "2021-06-22T21:21:42.701Z"
   },
   {
    "duration": 1046,
    "start_time": "2021-06-30T00:10:17.217Z"
   },
   {
    "duration": 26,
    "start_time": "2021-06-30T00:10:23.959Z"
   },
   {
    "duration": 353,
    "start_time": "2021-06-30T00:12:51.992Z"
   },
   {
    "duration": 8,
    "start_time": "2021-06-30T00:12:58.828Z"
   },
   {
    "duration": 41,
    "start_time": "2021-06-30T00:21:43.542Z"
   },
   {
    "duration": 29,
    "start_time": "2021-06-30T00:21:51.951Z"
   },
   {
    "duration": 24,
    "start_time": "2021-06-30T00:22:09.543Z"
   },
   {
    "duration": 28,
    "start_time": "2021-06-30T00:24:18.167Z"
   },
   {
    "duration": 28,
    "start_time": "2021-06-30T00:25:31.080Z"
   },
   {
    "duration": 27,
    "start_time": "2021-06-30T00:27:31.917Z"
   },
   {
    "duration": 29,
    "start_time": "2021-06-30T00:41:16.503Z"
   },
   {
    "duration": 1037,
    "start_time": "2021-06-30T19:08:39.494Z"
   },
   {
    "duration": 23,
    "start_time": "2021-06-30T19:08:43.176Z"
   },
   {
    "duration": 8,
    "start_time": "2021-06-30T19:08:45.208Z"
   },
   {
    "duration": 34,
    "start_time": "2021-06-30T19:09:09.715Z"
   },
   {
    "duration": 8,
    "start_time": "2021-06-30T19:44:16.276Z"
   },
   {
    "duration": 10,
    "start_time": "2021-06-30T19:47:36.451Z"
   },
   {
    "duration": 5,
    "start_time": "2021-06-30T19:48:17.322Z"
   },
   {
    "duration": 9,
    "start_time": "2021-06-30T19:54:13.876Z"
   },
   {
    "duration": 8,
    "start_time": "2021-06-30T19:56:14.272Z"
   },
   {
    "duration": 9,
    "start_time": "2021-06-30T19:56:18.429Z"
   },
   {
    "duration": 398,
    "start_time": "2021-06-30T19:56:24.541Z"
   },
   {
    "duration": 8,
    "start_time": "2021-06-30T19:56:31.846Z"
   },
   {
    "duration": 37,
    "start_time": "2021-06-30T19:57:49.072Z"
   },
   {
    "duration": 317,
    "start_time": "2021-06-30T19:59:29.641Z"
   },
   {
    "duration": 301,
    "start_time": "2021-06-30T19:59:34.293Z"
   },
   {
    "duration": 308,
    "start_time": "2021-06-30T19:59:54.556Z"
   },
   {
    "duration": 44,
    "start_time": "2021-06-30T20:01:21.312Z"
   },
   {
    "duration": 320,
    "start_time": "2021-06-30T20:01:47.625Z"
   },
   {
    "duration": 43,
    "start_time": "2021-06-30T20:02:01.402Z"
   },
   {
    "duration": 42,
    "start_time": "2021-06-30T20:02:10.626Z"
   },
   {
    "duration": 427,
    "start_time": "2021-06-30T20:02:53.584Z"
   },
   {
    "duration": 316,
    "start_time": "2021-06-30T20:03:04.394Z"
   },
   {
    "duration": 13,
    "start_time": "2021-06-30T20:03:19.602Z"
   },
   {
    "duration": 11,
    "start_time": "2021-06-30T20:06:03.045Z"
   },
   {
    "duration": 12,
    "start_time": "2021-06-30T20:06:32.789Z"
   },
   {
    "duration": 8,
    "start_time": "2021-06-30T20:06:45.859Z"
   },
   {
    "duration": 26,
    "start_time": "2021-06-30T20:18:38.314Z"
   },
   {
    "duration": 1117,
    "start_time": "2021-07-02T19:36:20.691Z"
   },
   {
    "duration": 40,
    "start_time": "2021-07-02T19:36:24.908Z"
   },
   {
    "duration": 8,
    "start_time": "2021-07-02T19:36:27.088Z"
   },
   {
    "duration": 36,
    "start_time": "2021-07-02T19:36:29.485Z"
   },
   {
    "duration": 14,
    "start_time": "2021-07-02T19:36:32.699Z"
   },
   {
    "duration": 9,
    "start_time": "2021-07-02T19:36:34.770Z"
   },
   {
    "duration": 13,
    "start_time": "2021-07-02T19:36:35.868Z"
   },
   {
    "duration": 33,
    "start_time": "2021-07-02T19:36:40.283Z"
   },
   {
    "duration": 71,
    "start_time": "2021-07-02T19:42:52.798Z"
   },
   {
    "duration": 55,
    "start_time": "2021-07-02T19:43:53.212Z"
   },
   {
    "duration": 10,
    "start_time": "2021-07-02T19:45:34.222Z"
   },
   {
    "duration": 11,
    "start_time": "2021-07-02T19:46:12.592Z"
   },
   {
    "duration": 26,
    "start_time": "2021-07-02T19:46:25.071Z"
   },
   {
    "duration": 180,
    "start_time": "2021-07-02T19:46:50.330Z"
   },
   {
    "duration": 29,
    "start_time": "2021-07-02T19:47:13.459Z"
   },
   {
    "duration": 156,
    "start_time": "2021-07-02T19:47:49.366Z"
   },
   {
    "duration": 26,
    "start_time": "2021-07-02T19:47:49.526Z"
   },
   {
    "duration": 10,
    "start_time": "2021-07-02T19:47:49.555Z"
   },
   {
    "duration": 65,
    "start_time": "2021-07-02T19:47:49.567Z"
   },
   {
    "duration": 12,
    "start_time": "2021-07-02T19:47:49.635Z"
   },
   {
    "duration": 9,
    "start_time": "2021-07-02T19:47:49.650Z"
   },
   {
    "duration": 38,
    "start_time": "2021-07-02T19:47:49.662Z"
   },
   {
    "duration": 42,
    "start_time": "2021-07-02T19:47:49.704Z"
   },
   {
    "duration": 84,
    "start_time": "2021-07-02T19:47:49.751Z"
   },
   {
    "duration": 25,
    "start_time": "2021-07-02T19:47:49.838Z"
   },
   {
    "duration": 39,
    "start_time": "2021-07-02T20:05:54.088Z"
   },
   {
    "duration": 7,
    "start_time": "2021-07-02T20:11:41.976Z"
   },
   {
    "duration": 9,
    "start_time": "2021-07-02T20:12:17.079Z"
   },
   {
    "duration": 429,
    "start_time": "2021-07-02T20:13:45.217Z"
   },
   {
    "duration": 9,
    "start_time": "2021-07-02T20:15:03.051Z"
   },
   {
    "duration": 12,
    "start_time": "2021-07-02T20:30:06.669Z"
   },
   {
    "duration": 14,
    "start_time": "2021-07-02T20:30:22.222Z"
   },
   {
    "duration": 7,
    "start_time": "2021-07-02T20:31:03.677Z"
   },
   {
    "duration": 12,
    "start_time": "2021-07-02T20:31:52.098Z"
   },
   {
    "duration": 15,
    "start_time": "2021-07-02T20:32:18.699Z"
   },
   {
    "duration": 13,
    "start_time": "2021-07-02T20:32:56.809Z"
   },
   {
    "duration": 20,
    "start_time": "2021-07-02T20:33:51.540Z"
   },
   {
    "duration": 25,
    "start_time": "2021-07-02T20:33:59.298Z"
   },
   {
    "duration": 30,
    "start_time": "2021-07-02T20:34:05.179Z"
   },
   {
    "duration": 47,
    "start_time": "2021-07-02T20:34:16.829Z"
   },
   {
    "duration": 19,
    "start_time": "2021-07-02T20:34:34.256Z"
   },
   {
    "duration": 136,
    "start_time": "2021-07-03T00:22:41.519Z"
   },
   {
    "duration": 29,
    "start_time": "2021-07-03T00:22:41.658Z"
   },
   {
    "duration": 10,
    "start_time": "2021-07-03T00:22:41.702Z"
   },
   {
    "duration": 24,
    "start_time": "2021-07-03T00:22:41.717Z"
   },
   {
    "duration": 9,
    "start_time": "2021-07-03T00:22:41.744Z"
   },
   {
    "duration": 54,
    "start_time": "2021-07-03T00:22:41.755Z"
   },
   {
    "duration": 18,
    "start_time": "2021-07-03T00:22:41.812Z"
   },
   {
    "duration": 26,
    "start_time": "2021-07-03T00:22:41.833Z"
   },
   {
    "duration": 71,
    "start_time": "2021-07-03T00:22:41.863Z"
   },
   {
    "duration": 22,
    "start_time": "2021-07-03T00:22:41.937Z"
   },
   {
    "duration": 56,
    "start_time": "2021-07-03T00:22:41.961Z"
   },
   {
    "duration": 10,
    "start_time": "2021-07-03T00:22:42.021Z"
   },
   {
    "duration": 11,
    "start_time": "2021-07-03T00:22:42.034Z"
   },
   {
    "duration": 11,
    "start_time": "2021-07-03T00:22:42.048Z"
   },
   {
    "duration": 41,
    "start_time": "2021-07-03T00:22:42.062Z"
   },
   {
    "duration": 11,
    "start_time": "2021-07-03T00:22:42.106Z"
   },
   {
    "duration": 8,
    "start_time": "2021-07-03T00:22:42.119Z"
   },
   {
    "duration": 308,
    "start_time": "2021-07-03T00:22:42.129Z"
   },
   {
    "duration": 414,
    "start_time": "2021-07-03T00:23:54.141Z"
   },
   {
    "duration": 11,
    "start_time": "2021-07-03T00:24:05.889Z"
   },
   {
    "duration": 27,
    "start_time": "2021-07-03T00:24:20.548Z"
   },
   {
    "duration": 14,
    "start_time": "2021-07-03T00:25:35.721Z"
   },
   {
    "duration": 36,
    "start_time": "2021-07-03T00:29:05.691Z"
   },
   {
    "duration": 22,
    "start_time": "2021-07-03T00:29:31.046Z"
   },
   {
    "duration": 39,
    "start_time": "2021-07-03T00:29:35.584Z"
   },
   {
    "duration": 34,
    "start_time": "2021-07-03T00:30:23.259Z"
   },
   {
    "duration": 32,
    "start_time": "2021-07-03T00:32:09.041Z"
   },
   {
    "duration": 313,
    "start_time": "2021-07-03T00:33:40.467Z"
   },
   {
    "duration": 144,
    "start_time": "2021-07-03T00:33:58.185Z"
   },
   {
    "duration": 25,
    "start_time": "2021-07-03T00:33:58.331Z"
   },
   {
    "duration": 7,
    "start_time": "2021-07-03T00:33:58.358Z"
   },
   {
    "duration": 50,
    "start_time": "2021-07-03T00:33:58.367Z"
   },
   {
    "duration": 9,
    "start_time": "2021-07-03T00:33:58.420Z"
   },
   {
    "duration": 9,
    "start_time": "2021-07-03T00:33:58.431Z"
   },
   {
    "duration": 17,
    "start_time": "2021-07-03T00:33:58.442Z"
   },
   {
    "duration": 68,
    "start_time": "2021-07-03T00:33:58.463Z"
   },
   {
    "duration": 42,
    "start_time": "2021-07-03T00:33:58.534Z"
   },
   {
    "duration": 50,
    "start_time": "2021-07-03T00:33:58.579Z"
   },
   {
    "duration": 23,
    "start_time": "2021-07-03T00:33:58.631Z"
   },
   {
    "duration": 45,
    "start_time": "2021-07-03T00:33:58.656Z"
   },
   {
    "duration": 16,
    "start_time": "2021-07-03T00:33:58.705Z"
   },
   {
    "duration": 9,
    "start_time": "2021-07-03T00:33:58.723Z"
   },
   {
    "duration": 7,
    "start_time": "2021-07-03T00:33:58.734Z"
   },
   {
    "duration": 10,
    "start_time": "2021-07-03T00:33:58.743Z"
   },
   {
    "duration": 49,
    "start_time": "2021-07-03T00:33:58.756Z"
   },
   {
    "duration": 281,
    "start_time": "2021-07-03T00:33:58.809Z"
   },
   {
    "duration": -1851,
    "start_time": "2021-07-03T00:34:00.943Z"
   },
   {
    "duration": 319,
    "start_time": "2021-07-03T00:35:14.004Z"
   },
   {
    "duration": 133,
    "start_time": "2021-07-03T00:35:41.806Z"
   },
   {
    "duration": 24,
    "start_time": "2021-07-03T00:35:41.942Z"
   },
   {
    "duration": 14,
    "start_time": "2021-07-03T00:35:41.968Z"
   },
   {
    "duration": 44,
    "start_time": "2021-07-03T00:35:41.985Z"
   },
   {
    "duration": 8,
    "start_time": "2021-07-03T00:35:42.032Z"
   },
   {
    "duration": 9,
    "start_time": "2021-07-03T00:35:42.042Z"
   },
   {
    "duration": 49,
    "start_time": "2021-07-03T00:35:42.054Z"
   },
   {
    "duration": 44,
    "start_time": "2021-07-03T00:35:42.108Z"
   },
   {
    "duration": 96,
    "start_time": "2021-07-03T00:35:42.156Z"
   },
   {
    "duration": 47,
    "start_time": "2021-07-03T00:35:42.255Z"
   },
   {
    "duration": 26,
    "start_time": "2021-07-03T00:35:42.305Z"
   },
   {
    "duration": 10,
    "start_time": "2021-07-03T00:35:42.333Z"
   },
   {
    "duration": 12,
    "start_time": "2021-07-03T00:35:42.345Z"
   },
   {
    "duration": 47,
    "start_time": "2021-07-03T00:35:42.359Z"
   },
   {
    "duration": 21,
    "start_time": "2021-07-03T00:35:42.409Z"
   },
   {
    "duration": 9,
    "start_time": "2021-07-03T00:35:42.433Z"
   },
   {
    "duration": 11,
    "start_time": "2021-07-03T00:35:42.444Z"
   },
   {
    "duration": 335,
    "start_time": "2021-07-03T00:35:42.457Z"
   },
   {
    "duration": -1840,
    "start_time": "2021-07-03T00:35:44.634Z"
   },
   {
    "duration": 1009,
    "start_time": "2021-07-03T00:36:47.980Z"
   },
   {
    "duration": 36,
    "start_time": "2021-07-03T00:36:48.992Z"
   },
   {
    "duration": 7,
    "start_time": "2021-07-03T00:36:49.031Z"
   },
   {
    "duration": 32,
    "start_time": "2021-07-03T00:36:49.041Z"
   },
   {
    "duration": 12,
    "start_time": "2021-07-03T00:36:49.100Z"
   },
   {
    "duration": 11,
    "start_time": "2021-07-03T00:36:49.115Z"
   },
   {
    "duration": 17,
    "start_time": "2021-07-03T00:36:49.128Z"
   },
   {
    "duration": 54,
    "start_time": "2021-07-03T00:36:49.148Z"
   },
   {
    "duration": 48,
    "start_time": "2021-07-03T00:36:49.208Z"
   },
   {
    "duration": 53,
    "start_time": "2021-07-03T00:36:49.259Z"
   },
   {
    "duration": 23,
    "start_time": "2021-07-03T00:36:49.315Z"
   },
   {
    "duration": 12,
    "start_time": "2021-07-03T00:36:49.341Z"
   },
   {
    "duration": 57,
    "start_time": "2021-07-03T00:36:49.355Z"
   },
   {
    "duration": 9,
    "start_time": "2021-07-03T00:36:49.416Z"
   },
   {
    "duration": 7,
    "start_time": "2021-07-03T00:36:49.428Z"
   },
   {
    "duration": 7,
    "start_time": "2021-07-03T00:36:49.437Z"
   },
   {
    "duration": 61,
    "start_time": "2021-07-03T00:36:49.446Z"
   },
   {
    "duration": 409,
    "start_time": "2021-07-03T00:36:49.510Z"
   },
   {
    "duration": -1837,
    "start_time": "2021-07-03T00:36:51.758Z"
   },
   {
    "duration": 9,
    "start_time": "2021-07-03T00:37:48.033Z"
   },
   {
    "duration": 24,
    "start_time": "2021-07-03T00:37:56.601Z"
   },
   {
    "duration": 10,
    "start_time": "2021-07-03T00:38:32.337Z"
   },
   {
    "duration": 9,
    "start_time": "2021-07-03T00:39:03.024Z"
   },
   {
    "duration": 308,
    "start_time": "2021-07-03T00:39:10.738Z"
   },
   {
    "duration": 33,
    "start_time": "2021-07-03T00:39:54.715Z"
   },
   {
    "duration": 33,
    "start_time": "2021-07-03T00:40:20.512Z"
   },
   {
    "duration": 24,
    "start_time": "2021-07-03T00:47:46.838Z"
   },
   {
    "duration": 26,
    "start_time": "2021-07-03T00:49:36.334Z"
   },
   {
    "duration": 309,
    "start_time": "2021-07-03T00:52:36.934Z"
   },
   {
    "duration": 25,
    "start_time": "2021-07-03T00:53:11.158Z"
   },
   {
    "duration": 51,
    "start_time": "2021-07-03T00:56:58.598Z"
   },
   {
    "duration": 44,
    "start_time": "2021-07-03T00:59:35.083Z"
   },
   {
    "duration": 37,
    "start_time": "2021-07-03T00:59:46.055Z"
   },
   {
    "duration": 555,
    "start_time": "2021-07-03T01:00:15.889Z"
   },
   {
    "duration": 1040,
    "start_time": "2021-07-03T01:00:45.294Z"
   },
   {
    "duration": 33,
    "start_time": "2021-07-03T01:00:46.337Z"
   },
   {
    "duration": 8,
    "start_time": "2021-07-03T01:00:46.373Z"
   },
   {
    "duration": 38,
    "start_time": "2021-07-03T01:00:46.402Z"
   },
   {
    "duration": 8,
    "start_time": "2021-07-03T01:00:46.442Z"
   },
   {
    "duration": 12,
    "start_time": "2021-07-03T01:00:46.453Z"
   },
   {
    "duration": 45,
    "start_time": "2021-07-03T01:00:46.468Z"
   },
   {
    "duration": 26,
    "start_time": "2021-07-03T01:00:46.518Z"
   },
   {
    "duration": 80,
    "start_time": "2021-07-03T01:00:46.549Z"
   },
   {
    "duration": 24,
    "start_time": "2021-07-03T01:00:46.632Z"
   },
   {
    "duration": 48,
    "start_time": "2021-07-03T01:00:46.658Z"
   },
   {
    "duration": 13,
    "start_time": "2021-07-03T01:00:46.709Z"
   },
   {
    "duration": 13,
    "start_time": "2021-07-03T01:00:46.725Z"
   },
   {
    "duration": 7,
    "start_time": "2021-07-03T01:00:46.741Z"
   },
   {
    "duration": 8,
    "start_time": "2021-07-03T01:00:46.751Z"
   },
   {
    "duration": 10,
    "start_time": "2021-07-03T01:00:46.802Z"
   },
   {
    "duration": 11,
    "start_time": "2021-07-03T01:00:46.815Z"
   },
   {
    "duration": 38,
    "start_time": "2021-07-03T01:00:46.828Z"
   },
   {
    "duration": 66,
    "start_time": "2021-07-03T01:00:46.869Z"
   },
   {
    "duration": 28,
    "start_time": "2021-07-03T01:00:46.938Z"
   },
   {
    "duration": 74,
    "start_time": "2021-07-03T01:00:46.968Z"
   },
   {
    "duration": 320,
    "start_time": "2021-07-03T01:11:36.980Z"
   },
   {
    "duration": 556,
    "start_time": "2021-07-03T01:11:47.174Z"
   },
   {
    "duration": 73,
    "start_time": "2021-07-03T01:12:05.301Z"
   },
   {
    "duration": 474,
    "start_time": "2021-07-03T01:12:33.701Z"
   },
   {
    "duration": 572,
    "start_time": "2021-07-03T01:12:43.403Z"
   },
   {
    "duration": 578,
    "start_time": "2021-07-03T01:13:00.036Z"
   },
   {
    "duration": 383,
    "start_time": "2021-07-03T01:16:53.146Z"
   },
   {
    "duration": 34,
    "start_time": "2021-07-03T01:17:36.087Z"
   },
   {
    "duration": 9,
    "start_time": "2021-07-03T01:17:54.383Z"
   },
   {
    "duration": 410,
    "start_time": "2021-07-03T01:21:08.906Z"
   },
   {
    "duration": 290,
    "start_time": "2021-07-03T01:22:44.117Z"
   },
   {
    "duration": 811,
    "start_time": "2021-07-03T01:23:09.219Z"
   },
   {
    "duration": 401,
    "start_time": "2021-07-03T01:26:06.826Z"
   },
   {
    "duration": 407,
    "start_time": "2021-07-03T01:26:14.473Z"
   },
   {
    "duration": 412,
    "start_time": "2021-07-03T01:26:20.482Z"
   },
   {
    "duration": 434,
    "start_time": "2021-07-03T01:26:25.687Z"
   },
   {
    "duration": 514,
    "start_time": "2021-07-03T01:26:30.629Z"
   },
   {
    "duration": 293,
    "start_time": "2021-07-03T01:28:23.798Z"
   },
   {
    "duration": 294,
    "start_time": "2021-07-03T01:28:45.484Z"
   },
   {
    "duration": 301,
    "start_time": "2021-07-03T01:28:49.728Z"
   },
   {
    "duration": 275,
    "start_time": "2021-07-03T01:28:58.521Z"
   },
   {
    "duration": 282,
    "start_time": "2021-07-03T01:29:46.654Z"
   },
   {
    "duration": 97,
    "start_time": "2021-07-03T02:08:14.902Z"
   },
   {
    "duration": 23,
    "start_time": "2021-07-03T02:11:35.179Z"
   },
   {
    "duration": 41,
    "start_time": "2021-07-03T02:11:45.207Z"
   },
   {
    "duration": 38,
    "start_time": "2021-07-03T02:13:37.077Z"
   },
   {
    "duration": 1018,
    "start_time": "2021-07-03T03:15:08.059Z"
   },
   {
    "duration": 42,
    "start_time": "2021-07-03T03:15:09.080Z"
   },
   {
    "duration": 31,
    "start_time": "2021-07-03T03:15:09.126Z"
   },
   {
    "duration": 10,
    "start_time": "2021-07-03T03:15:09.160Z"
   },
   {
    "duration": 33,
    "start_time": "2021-07-03T03:15:09.172Z"
   },
   {
    "duration": 20,
    "start_time": "2021-07-03T03:15:09.208Z"
   },
   {
    "duration": 37,
    "start_time": "2021-07-03T03:15:09.231Z"
   },
   {
    "duration": 73,
    "start_time": "2021-07-03T03:15:09.271Z"
   },
   {
    "duration": 25,
    "start_time": "2021-07-03T03:15:09.348Z"
   },
   {
    "duration": 47,
    "start_time": "2021-07-03T03:15:09.376Z"
   },
   {
    "duration": 9,
    "start_time": "2021-07-03T03:15:09.426Z"
   },
   {
    "duration": 17,
    "start_time": "2021-07-03T03:15:09.438Z"
   },
   {
    "duration": 11,
    "start_time": "2021-07-03T03:15:09.457Z"
   },
   {
    "duration": 14,
    "start_time": "2021-07-03T03:15:09.501Z"
   },
   {
    "duration": 24,
    "start_time": "2021-07-03T03:15:09.518Z"
   },
   {
    "duration": 9,
    "start_time": "2021-07-03T03:15:09.545Z"
   },
   {
    "duration": 57,
    "start_time": "2021-07-03T03:15:09.557Z"
   },
   {
    "duration": 35,
    "start_time": "2021-07-03T03:15:09.617Z"
   },
   {
    "duration": 58,
    "start_time": "2021-07-03T03:15:09.654Z"
   },
   {
    "duration": 45,
    "start_time": "2021-07-03T03:15:09.715Z"
   },
   {
    "duration": 88,
    "start_time": "2021-07-03T03:15:09.762Z"
   },
   {
    "duration": 612,
    "start_time": "2021-07-03T03:15:09.853Z"
   },
   {
    "duration": 455,
    "start_time": "2021-07-03T03:15:10.468Z"
   },
   {
    "duration": 463,
    "start_time": "2021-07-03T03:15:10.925Z"
   },
   {
    "duration": 378,
    "start_time": "2021-07-03T03:15:11.391Z"
   },
   {
    "duration": 307,
    "start_time": "2021-07-03T03:15:11.771Z"
   },
   {
    "duration": 49,
    "start_time": "2021-07-03T03:15:12.082Z"
   },
   {
    "duration": 16,
    "start_time": "2021-07-03T03:15:47.145Z"
   },
   {
    "duration": 106,
    "start_time": "2021-07-03T03:24:15.724Z"
   },
   {
    "duration": 462,
    "start_time": "2021-07-03T03:24:22.071Z"
   },
   {
    "duration": 300,
    "start_time": "2021-07-03T03:24:56.217Z"
   },
   {
    "duration": 342,
    "start_time": "2021-07-03T03:30:03.083Z"
   },
   {
    "duration": 348,
    "start_time": "2021-07-03T03:31:40.479Z"
   },
   {
    "duration": 36,
    "start_time": "2021-07-03T03:42:31.701Z"
   },
   {
    "duration": 15,
    "start_time": "2021-07-03T03:42:38.459Z"
   },
   {
    "duration": 16,
    "start_time": "2021-07-03T03:43:27.452Z"
   },
   {
    "duration": 312,
    "start_time": "2021-07-03T03:43:40.873Z"
   },
   {
    "duration": 287,
    "start_time": "2021-07-03T03:43:54.765Z"
   },
   {
    "duration": 979,
    "start_time": "2021-07-03T03:44:36.621Z"
   },
   {
    "duration": 32,
    "start_time": "2021-07-03T03:44:37.604Z"
   },
   {
    "duration": 29,
    "start_time": "2021-07-03T03:44:37.639Z"
   },
   {
    "duration": 35,
    "start_time": "2021-07-03T03:44:37.671Z"
   },
   {
    "duration": 10,
    "start_time": "2021-07-03T03:44:37.709Z"
   },
   {
    "duration": 16,
    "start_time": "2021-07-03T03:44:37.722Z"
   },
   {
    "duration": 25,
    "start_time": "2021-07-03T03:44:37.740Z"
   },
   {
    "duration": 47,
    "start_time": "2021-07-03T03:44:37.802Z"
   },
   {
    "duration": 24,
    "start_time": "2021-07-03T03:44:37.852Z"
   },
   {
    "duration": 31,
    "start_time": "2021-07-03T03:44:37.903Z"
   },
   {
    "duration": 9,
    "start_time": "2021-07-03T03:44:37.936Z"
   },
   {
    "duration": 11,
    "start_time": "2021-07-03T03:44:37.947Z"
   },
   {
    "duration": 46,
    "start_time": "2021-07-03T03:44:37.960Z"
   },
   {
    "duration": 9,
    "start_time": "2021-07-03T03:44:38.012Z"
   },
   {
    "duration": 7,
    "start_time": "2021-07-03T03:44:38.024Z"
   },
   {
    "duration": 7,
    "start_time": "2021-07-03T03:44:38.034Z"
   },
   {
    "duration": 84,
    "start_time": "2021-07-03T03:44:38.044Z"
   },
   {
    "duration": 35,
    "start_time": "2021-07-03T03:44:38.130Z"
   },
   {
    "duration": 54,
    "start_time": "2021-07-03T03:44:38.167Z"
   },
   {
    "duration": 43,
    "start_time": "2021-07-03T03:44:38.223Z"
   },
   {
    "duration": 87,
    "start_time": "2021-07-03T03:44:38.268Z"
   },
   {
    "duration": 567,
    "start_time": "2021-07-03T03:44:38.358Z"
   },
   {
    "duration": 419,
    "start_time": "2021-07-03T03:44:38.930Z"
   },
   {
    "duration": 424,
    "start_time": "2021-07-03T03:44:39.351Z"
   },
   {
    "duration": 351,
    "start_time": "2021-07-03T03:44:39.777Z"
   },
   {
    "duration": 309,
    "start_time": "2021-07-03T03:44:40.131Z"
   },
   {
    "duration": 18,
    "start_time": "2021-07-03T03:44:40.443Z"
   },
   {
    "duration": 43,
    "start_time": "2021-07-03T03:44:40.463Z"
   },
   {
    "duration": 20,
    "start_time": "2021-07-03T03:44:52.528Z"
   },
   {
    "duration": 41,
    "start_time": "2021-07-03T03:45:25.054Z"
   },
   {
    "duration": 554,
    "start_time": "2021-07-03T03:50:00.148Z"
   },
   {
    "duration": 580,
    "start_time": "2021-07-03T03:50:40.090Z"
   },
   {
    "duration": 405,
    "start_time": "2021-07-03T03:51:31.748Z"
   },
   {
    "duration": 418,
    "start_time": "2021-07-03T03:51:47.324Z"
   },
   {
    "duration": 832,
    "start_time": "2021-07-03T03:52:22.911Z"
   },
   {
    "duration": 412,
    "start_time": "2021-07-03T03:52:43.436Z"
   },
   {
    "duration": 470,
    "start_time": "2021-07-03T03:52:46.508Z"
   },
   {
    "duration": 408,
    "start_time": "2021-07-03T03:53:09.495Z"
   },
   {
    "duration": 309,
    "start_time": "2021-07-03T03:53:18.483Z"
   },
   {
    "duration": 326,
    "start_time": "2021-07-03T03:53:35.547Z"
   },
   {
    "duration": 586,
    "start_time": "2021-07-03T03:56:03.101Z"
   },
   {
    "duration": 370,
    "start_time": "2021-07-03T03:56:13.135Z"
   },
   {
    "duration": 403,
    "start_time": "2021-07-03T04:02:09.908Z"
   },
   {
    "duration": 12,
    "start_time": "2021-07-03T04:03:37.870Z"
   },
   {
    "duration": 14,
    "start_time": "2021-07-03T04:04:11.937Z"
   },
   {
    "duration": 15,
    "start_time": "2021-07-03T04:04:30.574Z"
   },
   {
    "duration": 16,
    "start_time": "2021-07-03T04:15:15.737Z"
   },
   {
    "duration": 16,
    "start_time": "2021-07-03T04:15:34.605Z"
   },
   {
    "duration": 10,
    "start_time": "2021-07-03T04:17:29.444Z"
   },
   {
    "duration": 679,
    "start_time": "2021-07-03T21:43:15.969Z"
   },
   {
    "duration": 17,
    "start_time": "2021-07-03T21:43:16.650Z"
   },
   {
    "duration": 18,
    "start_time": "2021-07-03T21:43:16.668Z"
   },
   {
    "duration": 10,
    "start_time": "2021-07-03T21:43:16.688Z"
   },
   {
    "duration": 20,
    "start_time": "2021-07-03T21:43:16.699Z"
   },
   {
    "duration": 17,
    "start_time": "2021-07-03T21:43:16.721Z"
   },
   {
    "duration": 31,
    "start_time": "2021-07-03T21:43:16.740Z"
   },
   {
    "duration": 41,
    "start_time": "2021-07-03T21:43:16.773Z"
   },
   {
    "duration": 14,
    "start_time": "2021-07-03T21:43:16.817Z"
   },
   {
    "duration": 28,
    "start_time": "2021-07-03T21:43:16.833Z"
   },
   {
    "duration": 13,
    "start_time": "2021-07-03T21:43:16.863Z"
   },
   {
    "duration": 17,
    "start_time": "2021-07-03T21:43:16.877Z"
   },
   {
    "duration": 20,
    "start_time": "2021-07-03T21:43:16.896Z"
   },
   {
    "duration": 8,
    "start_time": "2021-07-03T21:43:16.918Z"
   },
   {
    "duration": 35,
    "start_time": "2021-07-03T21:43:16.928Z"
   },
   {
    "duration": 12,
    "start_time": "2021-07-03T21:43:16.964Z"
   },
   {
    "duration": 31,
    "start_time": "2021-07-03T21:43:16.977Z"
   },
   {
    "duration": 20,
    "start_time": "2021-07-03T21:43:17.009Z"
   },
   {
    "duration": 17,
    "start_time": "2021-07-03T21:43:17.031Z"
   },
   {
    "duration": 28,
    "start_time": "2021-07-03T21:43:17.049Z"
   },
   {
    "duration": 39,
    "start_time": "2021-07-03T21:43:17.078Z"
   },
   {
    "duration": 288,
    "start_time": "2021-07-03T21:43:17.119Z"
   },
   {
    "duration": 208,
    "start_time": "2021-07-03T21:43:17.408Z"
   },
   {
    "duration": 223,
    "start_time": "2021-07-03T21:43:17.617Z"
   },
   {
    "duration": 191,
    "start_time": "2021-07-03T21:43:17.842Z"
   },
   {
    "duration": 157,
    "start_time": "2021-07-03T21:43:18.034Z"
   },
   {
    "duration": 9,
    "start_time": "2021-07-03T21:43:18.194Z"
   },
   {
    "duration": 14,
    "start_time": "2021-07-03T21:43:18.205Z"
   },
   {
    "duration": 33,
    "start_time": "2021-07-03T21:43:18.221Z"
   },
   {
    "duration": 285,
    "start_time": "2021-07-03T21:43:18.256Z"
   },
   {
    "duration": 192,
    "start_time": "2021-07-03T21:43:18.542Z"
   },
   {
    "duration": 222,
    "start_time": "2021-07-03T21:43:18.735Z"
   },
   {
    "duration": 168,
    "start_time": "2021-07-03T21:43:18.958Z"
   },
   {
    "duration": 167,
    "start_time": "2021-07-03T21:43:19.127Z"
   },
   {
    "duration": 222,
    "start_time": "2021-07-03T21:43:19.296Z"
   },
   {
    "duration": 9,
    "start_time": "2021-07-03T21:43:19.519Z"
   },
   {
    "duration": 12,
    "start_time": "2021-07-03T21:43:19.529Z"
   },
   {
    "duration": 1744,
    "start_time": "2021-07-05T22:33:12.406Z"
   },
   {
    "duration": 17,
    "start_time": "2021-07-05T22:33:14.152Z"
   },
   {
    "duration": 29,
    "start_time": "2021-07-05T22:33:14.171Z"
   },
   {
    "duration": 6,
    "start_time": "2021-07-05T22:33:14.202Z"
   },
   {
    "duration": 7,
    "start_time": "2021-07-05T22:33:14.210Z"
   },
   {
    "duration": 10,
    "start_time": "2021-07-05T22:33:14.219Z"
   },
   {
    "duration": 20,
    "start_time": "2021-07-05T22:33:14.230Z"
   },
   {
    "duration": 62,
    "start_time": "2021-07-05T22:33:14.254Z"
   },
   {
    "duration": 16,
    "start_time": "2021-07-05T22:33:14.319Z"
   },
   {
    "duration": 15,
    "start_time": "2021-07-05T22:33:14.337Z"
   },
   {
    "duration": 34,
    "start_time": "2021-07-05T22:33:14.354Z"
   },
   {
    "duration": 8,
    "start_time": "2021-07-05T22:33:14.390Z"
   },
   {
    "duration": 5,
    "start_time": "2021-07-05T22:33:14.400Z"
   },
   {
    "duration": 4,
    "start_time": "2021-07-05T22:33:14.407Z"
   },
   {
    "duration": 6,
    "start_time": "2021-07-05T22:33:14.413Z"
   },
   {
    "duration": 5,
    "start_time": "2021-07-05T22:33:14.421Z"
   },
   {
    "duration": 59,
    "start_time": "2021-07-05T22:33:14.427Z"
   },
   {
    "duration": 26,
    "start_time": "2021-07-05T22:33:14.488Z"
   },
   {
    "duration": 20,
    "start_time": "2021-07-05T22:33:14.516Z"
   },
   {
    "duration": 26,
    "start_time": "2021-07-05T22:33:14.537Z"
   },
   {
    "duration": 47,
    "start_time": "2021-07-05T22:33:14.585Z"
   },
   {
    "duration": 363,
    "start_time": "2021-07-05T22:33:14.634Z"
   },
   {
    "duration": 261,
    "start_time": "2021-07-05T22:33:15.000Z"
   },
   {
    "duration": 256,
    "start_time": "2021-07-05T22:33:15.263Z"
   },
   {
    "duration": 227,
    "start_time": "2021-07-05T22:33:15.521Z"
   },
   {
    "duration": 186,
    "start_time": "2021-07-05T22:33:15.749Z"
   },
   {
    "duration": 10,
    "start_time": "2021-07-05T22:33:15.936Z"
   },
   {
    "duration": 9,
    "start_time": "2021-07-05T22:33:15.948Z"
   },
   {
    "duration": 42,
    "start_time": "2021-07-05T22:33:15.958Z"
   },
   {
    "duration": 336,
    "start_time": "2021-07-05T22:33:16.002Z"
   },
   {
    "duration": 242,
    "start_time": "2021-07-05T22:33:16.340Z"
   },
   {
    "duration": 261,
    "start_time": "2021-07-05T22:33:16.585Z"
   },
   {
    "duration": 202,
    "start_time": "2021-07-05T22:33:16.847Z"
   },
   {
    "duration": 193,
    "start_time": "2021-07-05T22:33:17.051Z"
   },
   {
    "duration": 258,
    "start_time": "2021-07-05T22:33:17.246Z"
   },
   {
    "duration": 10,
    "start_time": "2021-07-05T22:33:17.506Z"
   },
   {
    "duration": 5,
    "start_time": "2021-07-05T22:33:17.518Z"
   },
   {
    "duration": 717,
    "start_time": "2021-07-08T18:37:41.529Z"
   },
   {
    "duration": 17,
    "start_time": "2021-07-08T18:37:42.248Z"
   },
   {
    "duration": 18,
    "start_time": "2021-07-08T18:37:42.267Z"
   },
   {
    "duration": 5,
    "start_time": "2021-07-08T18:37:42.287Z"
   },
   {
    "duration": 7,
    "start_time": "2021-07-08T18:37:42.294Z"
   },
   {
    "duration": 10,
    "start_time": "2021-07-08T18:37:42.302Z"
   },
   {
    "duration": 43,
    "start_time": "2021-07-08T18:37:42.313Z"
   },
   {
    "duration": 29,
    "start_time": "2021-07-08T18:37:42.359Z"
   },
   {
    "duration": 14,
    "start_time": "2021-07-08T18:37:42.390Z"
   },
   {
    "duration": 41,
    "start_time": "2021-07-08T18:37:42.405Z"
   },
   {
    "duration": 6,
    "start_time": "2021-07-08T18:37:42.447Z"
   },
   {
    "duration": 7,
    "start_time": "2021-07-08T18:37:42.455Z"
   },
   {
    "duration": 7,
    "start_time": "2021-07-08T18:37:42.463Z"
   },
   {
    "duration": 5,
    "start_time": "2021-07-08T18:37:42.472Z"
   },
   {
    "duration": 7,
    "start_time": "2021-07-08T18:37:42.479Z"
   },
   {
    "duration": 10,
    "start_time": "2021-07-08T18:37:42.488Z"
   },
   {
    "duration": 44,
    "start_time": "2021-07-08T18:37:42.500Z"
   },
   {
    "duration": 19,
    "start_time": "2021-07-08T18:37:42.546Z"
   },
   {
    "duration": 19,
    "start_time": "2021-07-08T18:37:42.566Z"
   },
   {
    "duration": 25,
    "start_time": "2021-07-08T18:37:42.587Z"
   },
   {
    "duration": 62,
    "start_time": "2021-07-08T18:37:42.613Z"
   },
   {
    "duration": 296,
    "start_time": "2021-07-08T18:37:42.676Z"
   },
   {
    "duration": 213,
    "start_time": "2021-07-08T18:37:42.974Z"
   },
   {
    "duration": 220,
    "start_time": "2021-07-08T18:37:43.189Z"
   },
   {
    "duration": 198,
    "start_time": "2021-07-08T18:37:43.411Z"
   },
   {
    "duration": 161,
    "start_time": "2021-07-08T18:37:43.610Z"
   },
   {
    "duration": 9,
    "start_time": "2021-07-08T18:37:43.772Z"
   },
   {
    "duration": 14,
    "start_time": "2021-07-08T18:37:43.783Z"
   },
   {
    "duration": 22,
    "start_time": "2021-07-08T18:37:43.799Z"
   },
   {
    "duration": 310,
    "start_time": "2021-07-08T18:37:43.822Z"
   },
   {
    "duration": 198,
    "start_time": "2021-07-08T18:37:44.134Z"
   },
   {
    "duration": 228,
    "start_time": "2021-07-08T18:37:44.334Z"
   },
   {
    "duration": 171,
    "start_time": "2021-07-08T18:37:44.563Z"
   },
   {
    "duration": 179,
    "start_time": "2021-07-08T18:37:44.736Z"
   },
   {
    "duration": 224,
    "start_time": "2021-07-08T18:37:44.916Z"
   },
   {
    "duration": 9,
    "start_time": "2021-07-08T18:37:45.142Z"
   },
   {
    "duration": 10,
    "start_time": "2021-07-08T18:37:45.153Z"
   },
   {
    "duration": 14,
    "start_time": "2021-07-08T18:41:22.416Z"
   },
   {
    "duration": 15,
    "start_time": "2021-07-08T18:43:53.772Z"
   },
   {
    "duration": 14,
    "start_time": "2021-07-08T18:44:54.363Z"
   },
   {
    "duration": 14,
    "start_time": "2021-07-08T18:45:01.952Z"
   },
   {
    "duration": 313,
    "start_time": "2021-07-08T18:45:56.620Z"
   },
   {
    "duration": 17,
    "start_time": "2021-07-08T18:46:15.812Z"
   },
   {
    "duration": 15,
    "start_time": "2021-07-08T18:46:26.697Z"
   },
   {
    "duration": 16,
    "start_time": "2021-07-08T19:06:06.151Z"
   },
   {
    "duration": 90,
    "start_time": "2021-07-08T19:07:06.995Z"
   },
   {
    "duration": 12,
    "start_time": "2021-07-08T19:07:16.117Z"
   },
   {
    "duration": 15,
    "start_time": "2021-07-08T19:07:41.440Z"
   },
   {
    "duration": 16,
    "start_time": "2021-07-08T19:08:51.099Z"
   },
   {
    "duration": 274,
    "start_time": "2021-07-08T19:12:13.310Z"
   },
   {
    "duration": 18,
    "start_time": "2021-07-08T19:12:37.377Z"
   },
   {
    "duration": 23,
    "start_time": "2021-07-08T19:12:46.950Z"
   },
   {
    "duration": 275,
    "start_time": "2021-07-08T19:13:11.135Z"
   },
   {
    "duration": 303,
    "start_time": "2021-07-08T19:13:17.283Z"
   },
   {
    "duration": 87,
    "start_time": "2021-07-08T19:13:53.918Z"
   },
   {
    "duration": 627,
    "start_time": "2021-07-08T19:14:10.541Z"
   },
   {
    "duration": 660,
    "start_time": "2021-07-08T19:14:27.398Z"
   },
   {
    "duration": 17,
    "start_time": "2021-07-08T19:14:47.769Z"
   },
   {
    "duration": 4,
    "start_time": "2021-07-08T19:15:48.891Z"
   },
   {
    "duration": 31,
    "start_time": "2021-07-08T19:16:18.905Z"
   },
   {
    "duration": 249,
    "start_time": "2021-07-08T19:26:15.900Z"
   },
   {
    "duration": 426,
    "start_time": "2021-07-08T19:26:39.710Z"
   },
   {
    "duration": 319,
    "start_time": "2021-07-08T19:28:47.759Z"
   },
   {
    "duration": 353,
    "start_time": "2021-07-08T19:29:15.553Z"
   },
   {
    "duration": 397,
    "start_time": "2021-07-08T19:30:06.013Z"
   },
   {
    "duration": 258,
    "start_time": "2021-07-08T19:31:00.651Z"
   },
   {
    "duration": 252,
    "start_time": "2021-07-08T19:31:07.277Z"
   },
   {
    "duration": 259,
    "start_time": "2021-07-08T19:31:15.113Z"
   },
   {
    "duration": 608,
    "start_time": "2021-07-08T19:32:09.152Z"
   },
   {
    "duration": 406,
    "start_time": "2021-07-08T19:32:19.245Z"
   },
   {
    "duration": 246,
    "start_time": "2021-07-08T19:32:24.488Z"
   },
   {
    "duration": 300,
    "start_time": "2021-07-08T19:32:30.329Z"
   },
   {
    "duration": 261,
    "start_time": "2021-07-08T19:32:35.482Z"
   },
   {
    "duration": 323,
    "start_time": "2021-07-08T19:32:55.354Z"
   },
   {
    "duration": 282,
    "start_time": "2021-07-08T19:33:42.768Z"
   },
   {
    "duration": 8640,
    "start_time": "2021-07-08T20:13:50.018Z"
   },
   {
    "duration": 6,
    "start_time": "2021-07-08T20:18:23.804Z"
   },
   {
    "duration": 11,
    "start_time": "2021-07-08T20:18:30.863Z"
   },
   {
    "duration": 6395,
    "start_time": "2021-07-08T20:19:22.292Z"
   },
   {
    "duration": 7201,
    "start_time": "2021-07-08T20:20:15.578Z"
   },
   {
    "duration": 7220,
    "start_time": "2021-07-08T20:20:53.790Z"
   },
   {
    "duration": 6317,
    "start_time": "2021-07-08T20:21:35.527Z"
   },
   {
    "duration": 99,
    "start_time": "2021-07-08T20:22:48.412Z"
   },
   {
    "duration": 118,
    "start_time": "2021-07-08T20:55:46.719Z"
   },
   {
    "duration": 88,
    "start_time": "2021-07-08T20:56:05.509Z"
   },
   {
    "duration": 7253,
    "start_time": "2021-07-08T20:56:18.136Z"
   },
   {
    "duration": 1088,
    "start_time": "2021-07-09T03:16:02.212Z"
   },
   {
    "duration": 26,
    "start_time": "2021-07-09T03:16:03.304Z"
   },
   {
    "duration": 45,
    "start_time": "2021-07-09T03:16:03.333Z"
   },
   {
    "duration": 8,
    "start_time": "2021-07-09T03:16:03.381Z"
   },
   {
    "duration": 11,
    "start_time": "2021-07-09T03:16:03.391Z"
   },
   {
    "duration": 13,
    "start_time": "2021-07-09T03:16:03.405Z"
   },
   {
    "duration": 61,
    "start_time": "2021-07-09T03:16:03.421Z"
   },
   {
    "duration": 46,
    "start_time": "2021-07-09T03:16:03.484Z"
   },
   {
    "duration": 44,
    "start_time": "2021-07-09T03:16:03.534Z"
   },
   {
    "duration": 22,
    "start_time": "2021-07-09T03:16:03.581Z"
   },
   {
    "duration": 10,
    "start_time": "2021-07-09T03:16:03.605Z"
   },
   {
    "duration": 50,
    "start_time": "2021-07-09T03:16:03.617Z"
   },
   {
    "duration": 12,
    "start_time": "2021-07-09T03:16:03.670Z"
   },
   {
    "duration": 8,
    "start_time": "2021-07-09T03:16:03.684Z"
   },
   {
    "duration": 15,
    "start_time": "2021-07-09T03:16:03.694Z"
   },
   {
    "duration": 8,
    "start_time": "2021-07-09T03:16:03.712Z"
   },
   {
    "duration": 63,
    "start_time": "2021-07-09T03:16:03.723Z"
   },
   {
    "duration": 34,
    "start_time": "2021-07-09T03:16:03.789Z"
   },
   {
    "duration": 51,
    "start_time": "2021-07-09T03:16:03.825Z"
   },
   {
    "duration": 45,
    "start_time": "2021-07-09T03:16:03.878Z"
   },
   {
    "duration": 85,
    "start_time": "2021-07-09T03:16:03.925Z"
   },
   {
    "duration": 578,
    "start_time": "2021-07-09T03:16:04.012Z"
   },
   {
    "duration": 404,
    "start_time": "2021-07-09T03:16:04.592Z"
   },
   {
    "duration": 441,
    "start_time": "2021-07-09T03:16:04.998Z"
   },
   {
    "duration": 360,
    "start_time": "2021-07-09T03:16:05.442Z"
   },
   {
    "duration": 322,
    "start_time": "2021-07-09T03:16:05.804Z"
   },
   {
    "duration": 16,
    "start_time": "2021-07-09T03:16:06.131Z"
   },
   {
    "duration": 16,
    "start_time": "2021-07-09T03:16:06.166Z"
   },
   {
    "duration": 41,
    "start_time": "2021-07-09T03:16:06.184Z"
   },
   {
    "duration": 577,
    "start_time": "2021-07-09T03:16:06.227Z"
   },
   {
    "duration": 385,
    "start_time": "2021-07-09T03:16:06.807Z"
   },
   {
    "duration": 442,
    "start_time": "2021-07-09T03:16:07.194Z"
   },
   {
    "duration": 332,
    "start_time": "2021-07-09T03:16:07.639Z"
   },
   {
    "duration": 335,
    "start_time": "2021-07-09T03:16:07.974Z"
   },
   {
    "duration": 437,
    "start_time": "2021-07-09T03:16:08.312Z"
   },
   {
    "duration": 22,
    "start_time": "2021-07-09T03:16:08.752Z"
   },
   {
    "duration": 8,
    "start_time": "2021-07-09T03:16:08.776Z"
   },
   {
    "duration": 43,
    "start_time": "2021-07-09T03:16:08.786Z"
   },
   {
    "duration": 507,
    "start_time": "2021-07-09T03:16:08.831Z"
   },
   {
    "duration": 11228,
    "start_time": "2021-07-09T03:16:09.340Z"
   },
   {
    "duration": 856,
    "start_time": "2021-07-09T03:18:44.553Z"
   },
   {
    "duration": 872,
    "start_time": "2021-07-09T03:18:58.456Z"
   },
   {
    "duration": 848,
    "start_time": "2021-07-09T03:19:04.001Z"
   },
   {
    "duration": 851,
    "start_time": "2021-07-09T03:19:14.184Z"
   },
   {
    "duration": 427,
    "start_time": "2021-07-09T03:21:14.856Z"
   },
   {
    "duration": 353,
    "start_time": "2021-07-09T03:21:30.707Z"
   },
   {
    "duration": 9109,
    "start_time": "2021-07-09T03:22:14.269Z"
   },
   {
    "duration": 8941,
    "start_time": "2021-07-09T03:27:32.577Z"
   },
   {
    "duration": 3330,
    "start_time": "2021-07-09T03:29:00.412Z"
   },
   {
    "duration": 3336,
    "start_time": "2021-07-09T03:29:11.917Z"
   },
   {
    "duration": 919,
    "start_time": "2021-07-09T03:35:56.044Z"
   },
   {
    "duration": 1054,
    "start_time": "2021-07-09T03:41:50.142Z"
   },
   {
    "duration": 230,
    "start_time": "2021-07-09T03:47:19.328Z"
   },
   {
    "duration": 314,
    "start_time": "2021-07-09T03:47:50.114Z"
   },
   {
    "duration": 844,
    "start_time": "2021-07-09T03:48:13.358Z"
   },
   {
    "duration": 221,
    "start_time": "2021-07-09T03:48:44.815Z"
   },
   {
    "duration": 10,
    "start_time": "2021-07-09T03:49:09.435Z"
   },
   {
    "duration": 224,
    "start_time": "2021-07-09T03:49:19.915Z"
   },
   {
    "duration": 10,
    "start_time": "2021-07-09T04:09:41.775Z"
   },
   {
    "duration": 948,
    "start_time": "2021-07-09T04:10:48.595Z"
   },
   {
    "duration": 575,
    "start_time": "2021-07-09T04:13:45.603Z"
   },
   {
    "duration": 557,
    "start_time": "2021-07-09T04:14:18.357Z"
   },
   {
    "duration": 23,
    "start_time": "2021-07-09T04:14:49.740Z"
   },
   {
    "duration": 1310,
    "start_time": "2021-07-18T17:48:08.837Z"
   },
   {
    "duration": 34,
    "start_time": "2021-07-18T17:48:10.151Z"
   },
   {
    "duration": 34,
    "start_time": "2021-07-18T17:48:10.188Z"
   },
   {
    "duration": 42,
    "start_time": "2021-07-18T17:48:10.225Z"
   },
   {
    "duration": 8,
    "start_time": "2021-07-18T17:48:10.270Z"
   },
   {
    "duration": 23,
    "start_time": "2021-07-18T17:48:10.281Z"
   },
   {
    "duration": 27,
    "start_time": "2021-07-18T17:48:10.307Z"
   },
   {
    "duration": 68,
    "start_time": "2021-07-18T17:48:10.340Z"
   },
   {
    "duration": 24,
    "start_time": "2021-07-18T17:48:10.412Z"
   },
   {
    "duration": 46,
    "start_time": "2021-07-18T17:48:10.438Z"
   },
   {
    "duration": 9,
    "start_time": "2021-07-18T17:48:10.486Z"
   },
   {
    "duration": 12,
    "start_time": "2021-07-18T17:48:10.498Z"
   },
   {
    "duration": 55,
    "start_time": "2021-07-18T17:48:10.512Z"
   },
   {
    "duration": 7,
    "start_time": "2021-07-18T17:48:10.569Z"
   },
   {
    "duration": 13,
    "start_time": "2021-07-18T17:48:10.578Z"
   },
   {
    "duration": 8,
    "start_time": "2021-07-18T17:48:10.593Z"
   },
   {
    "duration": 70,
    "start_time": "2021-07-18T17:48:10.603Z"
   },
   {
    "duration": 36,
    "start_time": "2021-07-18T17:48:10.676Z"
   },
   {
    "duration": 60,
    "start_time": "2021-07-18T17:48:10.715Z"
   },
   {
    "duration": 45,
    "start_time": "2021-07-18T17:48:10.777Z"
   },
   {
    "duration": 92,
    "start_time": "2021-07-18T17:48:10.825Z"
   },
   {
    "duration": 577,
    "start_time": "2021-07-18T17:48:10.920Z"
   },
   {
    "duration": 418,
    "start_time": "2021-07-18T17:48:11.504Z"
   },
   {
    "duration": 433,
    "start_time": "2021-07-18T17:48:11.926Z"
   },
   {
    "duration": 361,
    "start_time": "2021-07-18T17:48:12.367Z"
   },
   {
    "duration": 316,
    "start_time": "2021-07-18T17:48:12.730Z"
   },
   {
    "duration": 25,
    "start_time": "2021-07-18T17:48:13.048Z"
   },
   {
    "duration": 15,
    "start_time": "2021-07-18T17:48:13.076Z"
   },
   {
    "duration": 42,
    "start_time": "2021-07-18T17:48:13.093Z"
   },
   {
    "duration": 574,
    "start_time": "2021-07-18T17:48:13.137Z"
   },
   {
    "duration": 380,
    "start_time": "2021-07-18T17:48:13.713Z"
   },
   {
    "duration": 533,
    "start_time": "2021-07-18T17:48:14.096Z"
   },
   {
    "duration": 327,
    "start_time": "2021-07-18T17:48:14.632Z"
   },
   {
    "duration": 330,
    "start_time": "2021-07-18T17:48:14.966Z"
   },
   {
    "duration": 419,
    "start_time": "2021-07-18T17:48:15.299Z"
   },
   {
    "duration": 15,
    "start_time": "2021-07-18T17:48:15.720Z"
   },
   {
    "duration": 32,
    "start_time": "2021-07-18T17:48:15.738Z"
   },
   {
    "duration": 45,
    "start_time": "2021-07-18T17:48:15.773Z"
   },
   {
    "duration": 503,
    "start_time": "2021-07-18T17:48:15.821Z"
   },
   {
    "duration": 2702,
    "start_time": "2021-07-18T17:48:16.326Z"
   },
   {
    "duration": 728,
    "start_time": "2021-07-18T17:48:19.030Z"
   },
   {
    "duration": 980,
    "start_time": "2021-07-18T17:48:18.781Z"
   },
   {
    "duration": 1702,
    "start_time": "2021-07-18T17:51:00.121Z"
   },
   {
    "duration": 919,
    "start_time": "2021-07-18T17:51:40.883Z"
   },
   {
    "duration": 2382,
    "start_time": "2021-07-18T17:52:02.462Z"
   },
   {
    "duration": 2239,
    "start_time": "2021-07-18T17:52:25.597Z"
   },
   {
    "duration": 1925,
    "start_time": "2021-07-18T17:52:37.889Z"
   },
   {
    "duration": 1901,
    "start_time": "2021-07-18T17:52:46.107Z"
   },
   {
    "duration": 238,
    "start_time": "2021-07-18T17:56:31.366Z"
   },
   {
    "duration": 391,
    "start_time": "2021-07-18T17:57:03.341Z"
   },
   {
    "duration": 7,
    "start_time": "2021-07-18T17:57:07.556Z"
   },
   {
    "duration": 358,
    "start_time": "2021-07-18T17:57:13.586Z"
   },
   {
    "duration": 6,
    "start_time": "2021-07-18T17:57:19.009Z"
   },
   {
    "duration": 1105,
    "start_time": "2021-07-18T17:58:52.319Z"
   },
   {
    "duration": 1013,
    "start_time": "2021-07-18T17:59:25.696Z"
   },
   {
    "duration": 2266,
    "start_time": "2021-07-18T18:06:02.025Z"
   },
   {
    "duration": 950,
    "start_time": "2021-07-18T18:06:50.790Z"
   },
   {
    "duration": 11,
    "start_time": "2021-07-18T18:07:22.606Z"
   },
   {
    "duration": 14,
    "start_time": "2021-07-18T18:08:11.913Z"
   },
   {
    "duration": 922,
    "start_time": "2021-07-18T18:08:18.689Z"
   },
   {
    "duration": 1106,
    "start_time": "2021-07-18T18:08:51.204Z"
   },
   {
    "duration": 703,
    "start_time": "2021-07-18T18:12:14.620Z"
   },
   {
    "duration": 687,
    "start_time": "2021-07-18T18:13:13.183Z"
   },
   {
    "duration": 6,
    "start_time": "2021-07-18T18:14:10.576Z"
   },
   {
    "duration": 687,
    "start_time": "2021-07-18T18:14:43.821Z"
   },
   {
    "duration": 606,
    "start_time": "2021-07-18T18:15:19.056Z"
   },
   {
    "duration": 7,
    "start_time": "2021-07-18T18:20:17.076Z"
   },
   {
    "duration": 404,
    "start_time": "2021-07-18T18:20:25.499Z"
   },
   {
    "duration": 394,
    "start_time": "2021-07-18T18:21:18.649Z"
   },
   {
    "duration": 337,
    "start_time": "2021-07-18T18:21:24.077Z"
   },
   {
    "duration": 9,
    "start_time": "2021-07-18T18:21:41.090Z"
   },
   {
    "duration": 687,
    "start_time": "2021-07-18T18:21:48.491Z"
   },
   {
    "duration": 7,
    "start_time": "2021-07-18T18:21:52.299Z"
   },
   {
    "duration": 675,
    "start_time": "2021-07-18T18:22:32.752Z"
   },
   {
    "duration": 371,
    "start_time": "2021-07-18T18:23:06.871Z"
   },
   {
    "duration": 621,
    "start_time": "2021-07-18T18:23:15.760Z"
   },
   {
    "duration": 411,
    "start_time": "2021-07-18T18:27:51.039Z"
   },
   {
    "duration": 389,
    "start_time": "2021-07-18T18:28:36.662Z"
   },
   {
    "duration": 343,
    "start_time": "2021-07-18T18:29:29.238Z"
   },
   {
    "duration": 661,
    "start_time": "2021-07-18T18:29:52.176Z"
   },
   {
    "duration": 732,
    "start_time": "2021-07-18T18:31:07.759Z"
   },
   {
    "duration": 404,
    "start_time": "2021-07-18T18:36:47.521Z"
   },
   {
    "duration": 426,
    "start_time": "2021-07-18T18:39:21.796Z"
   },
   {
    "duration": 393,
    "start_time": "2021-07-18T18:40:33.101Z"
   },
   {
    "duration": 468,
    "start_time": "2021-07-18T18:43:35.711Z"
   },
   {
    "duration": 266,
    "start_time": "2021-07-18T18:47:09.462Z"
   },
   {
    "duration": 264,
    "start_time": "2021-07-18T18:47:27.939Z"
   },
   {
    "duration": 244,
    "start_time": "2021-07-18T18:47:41.564Z"
   },
   {
    "duration": 381,
    "start_time": "2021-07-18T18:47:56.904Z"
   },
   {
    "duration": 391,
    "start_time": "2021-07-18T18:49:58.400Z"
   },
   {
    "duration": 397,
    "start_time": "2021-07-18T18:52:33.859Z"
   },
   {
    "duration": 800,
    "start_time": "2021-07-18T18:52:48.667Z"
   },
   {
    "duration": 420,
    "start_time": "2021-07-18T19:01:38.972Z"
   },
   {
    "duration": 567,
    "start_time": "2021-07-18T19:01:57.556Z"
   },
   {
    "duration": 326,
    "start_time": "2021-07-18T19:03:01.966Z"
   },
   {
    "duration": 491,
    "start_time": "2021-07-18T19:03:34.721Z"
   },
   {
    "duration": 395,
    "start_time": "2021-07-18T19:03:47.904Z"
   },
   {
    "duration": 657,
    "start_time": "2021-07-18T19:04:57.247Z"
   },
   {
    "duration": 721,
    "start_time": "2021-07-18T19:05:09.194Z"
   },
   {
    "duration": 645,
    "start_time": "2021-07-18T19:05:20.136Z"
   },
   {
    "duration": 378,
    "start_time": "2021-07-18T19:05:27.708Z"
   },
   {
    "duration": 671,
    "start_time": "2021-07-19T08:24:28.729Z"
   },
   {
    "duration": 18,
    "start_time": "2021-07-19T08:24:29.402Z"
   },
   {
    "duration": 19,
    "start_time": "2021-07-19T08:24:29.422Z"
   },
   {
    "duration": 6,
    "start_time": "2021-07-19T08:24:29.443Z"
   },
   {
    "duration": 11,
    "start_time": "2021-07-19T08:24:29.450Z"
   },
   {
    "duration": 33,
    "start_time": "2021-07-19T08:24:29.463Z"
   },
   {
    "duration": 20,
    "start_time": "2021-07-19T08:24:29.498Z"
   },
   {
    "duration": 31,
    "start_time": "2021-07-19T08:24:29.521Z"
   },
   {
    "duration": 40,
    "start_time": "2021-07-19T08:24:29.554Z"
   },
   {
    "duration": 17,
    "start_time": "2021-07-19T08:24:29.595Z"
   },
   {
    "duration": 6,
    "start_time": "2021-07-19T08:24:29.613Z"
   },
   {
    "duration": 10,
    "start_time": "2021-07-19T08:24:29.620Z"
   },
   {
    "duration": 10,
    "start_time": "2021-07-19T08:24:29.632Z"
   },
   {
    "duration": 10,
    "start_time": "2021-07-19T08:24:29.643Z"
   },
   {
    "duration": 30,
    "start_time": "2021-07-19T08:24:29.655Z"
   },
   {
    "duration": 12,
    "start_time": "2021-07-19T08:24:29.686Z"
   },
   {
    "duration": 25,
    "start_time": "2021-07-19T08:24:29.700Z"
   },
   {
    "duration": 21,
    "start_time": "2021-07-19T08:24:29.726Z"
   },
   {
    "duration": 20,
    "start_time": "2021-07-19T08:24:29.748Z"
   },
   {
    "duration": 40,
    "start_time": "2021-07-19T08:24:29.769Z"
   },
   {
    "duration": 44,
    "start_time": "2021-07-19T08:24:29.811Z"
   },
   {
    "duration": 355,
    "start_time": "2021-07-19T08:24:29.856Z"
   },
   {
    "duration": 244,
    "start_time": "2021-07-19T08:24:30.214Z"
   },
   {
    "duration": 265,
    "start_time": "2021-07-19T08:24:30.460Z"
   },
   {
    "duration": 230,
    "start_time": "2021-07-19T08:24:30.727Z"
   },
   {
    "duration": 181,
    "start_time": "2021-07-19T08:24:30.958Z"
   },
   {
    "duration": 10,
    "start_time": "2021-07-19T08:24:31.140Z"
   },
   {
    "duration": 14,
    "start_time": "2021-07-19T08:24:31.151Z"
   },
   {
    "duration": 36,
    "start_time": "2021-07-19T08:24:31.167Z"
   },
   {
    "duration": 1136,
    "start_time": "2021-07-19T08:24:31.204Z"
   },
   {
    "duration": 256,
    "start_time": "2021-07-19T08:24:32.341Z"
   },
   {
    "duration": 10,
    "start_time": "2021-07-19T08:24:32.598Z"
   },
   {
    "duration": 6,
    "start_time": "2021-07-19T08:24:32.610Z"
   },
   {
    "duration": 28,
    "start_time": "2021-07-19T08:24:32.617Z"
   },
   {
    "duration": 362,
    "start_time": "2021-07-19T08:24:32.647Z"
   },
   {
    "duration": 1720,
    "start_time": "2021-07-19T08:24:33.011Z"
   },
   {
    "duration": 229,
    "start_time": "2021-07-19T08:24:34.733Z"
   },
   {
    "duration": 383,
    "start_time": "2021-07-19T08:24:34.963Z"
   },
   {
    "duration": 672,
    "start_time": "2021-07-19T11:00:46.933Z"
   },
   {
    "duration": 18,
    "start_time": "2021-07-19T11:00:47.607Z"
   },
   {
    "duration": 18,
    "start_time": "2021-07-19T11:00:47.627Z"
   },
   {
    "duration": 6,
    "start_time": "2021-07-19T11:00:47.647Z"
   },
   {
    "duration": 31,
    "start_time": "2021-07-19T11:00:47.654Z"
   },
   {
    "duration": 8,
    "start_time": "2021-07-19T11:00:47.687Z"
   },
   {
    "duration": 18,
    "start_time": "2021-07-19T11:00:47.697Z"
   },
   {
    "duration": 30,
    "start_time": "2021-07-19T11:00:47.718Z"
   },
   {
    "duration": 38,
    "start_time": "2021-07-19T11:00:47.750Z"
   },
   {
    "duration": 15,
    "start_time": "2021-07-19T11:00:47.790Z"
   },
   {
    "duration": 6,
    "start_time": "2021-07-19T11:00:47.807Z"
   },
   {
    "duration": 8,
    "start_time": "2021-07-19T11:00:47.815Z"
   },
   {
    "duration": 9,
    "start_time": "2021-07-19T11:00:47.824Z"
   },
   {
    "duration": 6,
    "start_time": "2021-07-19T11:00:47.835Z"
   },
   {
    "duration": 8,
    "start_time": "2021-07-19T11:00:47.842Z"
   },
   {
    "duration": 5,
    "start_time": "2021-07-19T11:00:47.885Z"
   },
   {
    "duration": 25,
    "start_time": "2021-07-19T11:00:47.892Z"
   },
   {
    "duration": 20,
    "start_time": "2021-07-19T11:00:47.919Z"
   },
   {
    "duration": 20,
    "start_time": "2021-07-19T11:00:47.940Z"
   },
   {
    "duration": 47,
    "start_time": "2021-07-19T11:00:47.962Z"
   },
   {
    "duration": 48,
    "start_time": "2021-07-19T11:00:48.010Z"
   },
   {
    "duration": 354,
    "start_time": "2021-07-19T11:00:48.060Z"
   },
   {
    "duration": 248,
    "start_time": "2021-07-19T11:00:48.417Z"
   },
   {
    "duration": 255,
    "start_time": "2021-07-19T11:00:48.667Z"
   },
   {
    "duration": 233,
    "start_time": "2021-07-19T11:00:48.924Z"
   },
   {
    "duration": 205,
    "start_time": "2021-07-19T11:00:49.159Z"
   },
   {
    "duration": 20,
    "start_time": "2021-07-19T11:00:49.365Z"
   },
   {
    "duration": 10,
    "start_time": "2021-07-19T11:00:49.386Z"
   },
   {
    "duration": 26,
    "start_time": "2021-07-19T11:00:49.397Z"
   },
   {
    "duration": 1181,
    "start_time": "2021-07-19T11:00:49.424Z"
   },
   {
    "duration": 277,
    "start_time": "2021-07-19T11:00:50.607Z"
   },
   {
    "duration": 10,
    "start_time": "2021-07-19T11:00:50.886Z"
   },
   {
    "duration": 6,
    "start_time": "2021-07-19T11:00:50.897Z"
   },
   {
    "duration": 27,
    "start_time": "2021-07-19T11:00:50.904Z"
   },
   {
    "duration": 311,
    "start_time": "2021-07-19T11:00:50.933Z"
   },
   {
    "duration": 1794,
    "start_time": "2021-07-19T11:00:51.245Z"
   },
   {
    "duration": 244,
    "start_time": "2021-07-19T11:00:53.040Z"
   },
   {
    "duration": 405,
    "start_time": "2021-07-19T11:00:53.287Z"
   },
   {
    "duration": 743,
    "start_time": "2021-07-19T15:38:51.419Z"
   },
   {
    "duration": 18,
    "start_time": "2021-07-19T15:38:52.164Z"
   },
   {
    "duration": 18,
    "start_time": "2021-07-19T15:38:52.184Z"
   },
   {
    "duration": 7,
    "start_time": "2021-07-19T15:38:52.204Z"
   },
   {
    "duration": 5,
    "start_time": "2021-07-19T15:38:52.213Z"
   },
   {
    "duration": 10,
    "start_time": "2021-07-19T15:38:52.220Z"
   },
   {
    "duration": 20,
    "start_time": "2021-07-19T15:38:52.232Z"
   },
   {
    "duration": 59,
    "start_time": "2021-07-19T15:38:52.255Z"
   },
   {
    "duration": 17,
    "start_time": "2021-07-19T15:38:52.315Z"
   },
   {
    "duration": 16,
    "start_time": "2021-07-19T15:38:52.334Z"
   },
   {
    "duration": 34,
    "start_time": "2021-07-19T15:38:52.351Z"
   },
   {
    "duration": 8,
    "start_time": "2021-07-19T15:38:52.387Z"
   },
   {
    "duration": 6,
    "start_time": "2021-07-19T15:38:52.397Z"
   },
   {
    "duration": 5,
    "start_time": "2021-07-19T15:38:52.404Z"
   },
   {
    "duration": 4,
    "start_time": "2021-07-19T15:38:52.411Z"
   },
   {
    "duration": 5,
    "start_time": "2021-07-19T15:38:52.417Z"
   },
   {
    "duration": 65,
    "start_time": "2021-07-19T15:38:52.424Z"
   },
   {
    "duration": 21,
    "start_time": "2021-07-19T15:38:52.490Z"
   },
   {
    "duration": 21,
    "start_time": "2021-07-19T15:38:52.513Z"
   },
   {
    "duration": 51,
    "start_time": "2021-07-19T15:38:52.536Z"
   },
   {
    "duration": 44,
    "start_time": "2021-07-19T15:38:52.589Z"
   },
   {
    "duration": 362,
    "start_time": "2021-07-19T15:38:52.635Z"
   },
   {
    "duration": 261,
    "start_time": "2021-07-19T15:38:53.001Z"
   },
   {
    "duration": 291,
    "start_time": "2021-07-19T15:38:53.265Z"
   },
   {
    "duration": 239,
    "start_time": "2021-07-19T15:38:53.557Z"
   },
   {
    "duration": 197,
    "start_time": "2021-07-19T15:38:53.797Z"
   },
   {
    "duration": 11,
    "start_time": "2021-07-19T15:38:53.996Z"
   },
   {
    "duration": 10,
    "start_time": "2021-07-19T15:38:54.009Z"
   },
   {
    "duration": 28,
    "start_time": "2021-07-19T15:38:54.020Z"
   },
   {
    "duration": 1230,
    "start_time": "2021-07-19T15:38:54.049Z"
   },
   {
    "duration": 272,
    "start_time": "2021-07-19T15:38:55.284Z"
   },
   {
    "duration": 10,
    "start_time": "2021-07-19T15:38:55.558Z"
   },
   {
    "duration": 20,
    "start_time": "2021-07-19T15:38:55.569Z"
   },
   {
    "duration": 26,
    "start_time": "2021-07-19T15:38:55.590Z"
   },
   {
    "duration": 337,
    "start_time": "2021-07-19T15:38:55.618Z"
   },
   {
    "duration": 1891,
    "start_time": "2021-07-19T15:38:55.956Z"
   },
   {
    "duration": 264,
    "start_time": "2021-07-19T15:38:57.848Z"
   },
   {
    "duration": 436,
    "start_time": "2021-07-19T15:38:58.113Z"
   },
   {
    "duration": 972,
    "start_time": "2021-08-04T04:04:17.096Z"
   },
   {
    "duration": 25,
    "start_time": "2021-08-04T04:04:18.071Z"
   },
   {
    "duration": 34,
    "start_time": "2021-08-04T04:04:18.100Z"
   },
   {
    "duration": 24,
    "start_time": "2021-08-04T04:04:18.137Z"
   },
   {
    "duration": 16,
    "start_time": "2021-08-04T04:04:18.163Z"
   },
   {
    "duration": 22,
    "start_time": "2021-08-04T04:04:18.182Z"
   },
   {
    "duration": 31,
    "start_time": "2021-08-04T04:04:18.206Z"
   },
   {
    "duration": 51,
    "start_time": "2021-08-04T04:04:18.239Z"
   },
   {
    "duration": 22,
    "start_time": "2021-08-04T04:04:18.294Z"
   },
   {
    "duration": 44,
    "start_time": "2021-08-04T04:04:18.319Z"
   },
   {
    "duration": 14,
    "start_time": "2021-08-04T04:04:18.365Z"
   },
   {
    "duration": 31,
    "start_time": "2021-08-04T04:04:18.381Z"
   },
   {
    "duration": 25,
    "start_time": "2021-08-04T04:04:18.414Z"
   },
   {
    "duration": 29,
    "start_time": "2021-08-04T04:04:18.441Z"
   },
   {
    "duration": 34,
    "start_time": "2021-08-04T04:04:18.473Z"
   },
   {
    "duration": 40,
    "start_time": "2021-08-04T04:04:18.509Z"
   },
   {
    "duration": 36,
    "start_time": "2021-08-04T04:04:36.730Z"
   },
   {
    "duration": 35,
    "start_time": "2021-08-04T04:04:43.728Z"
   },
   {
    "duration": 33,
    "start_time": "2021-08-04T04:04:49.865Z"
   },
   {
    "duration": 516,
    "start_time": "2021-08-04T04:10:38.408Z"
   },
   {
    "duration": 926,
    "start_time": "2021-08-04T04:11:30.981Z"
   },
   {
    "duration": 895,
    "start_time": "2021-08-04T04:11:34.151Z"
   },
   {
    "duration": 512,
    "start_time": "2021-08-04T04:11:39.345Z"
   },
   {
    "duration": 134,
    "start_time": "2021-08-04T04:12:04.276Z"
   },
   {
    "duration": 25,
    "start_time": "2021-08-04T04:12:04.412Z"
   },
   {
    "duration": 37,
    "start_time": "2021-08-04T04:12:04.441Z"
   },
   {
    "duration": 8,
    "start_time": "2021-08-04T04:12:04.480Z"
   },
   {
    "duration": 10,
    "start_time": "2021-08-04T04:12:04.490Z"
   },
   {
    "duration": 26,
    "start_time": "2021-08-04T04:12:04.502Z"
   },
   {
    "duration": 44,
    "start_time": "2021-08-04T04:12:04.530Z"
   },
   {
    "duration": 43,
    "start_time": "2021-08-04T04:12:04.577Z"
   },
   {
    "duration": 48,
    "start_time": "2021-08-04T04:12:04.623Z"
   },
   {
    "duration": 30,
    "start_time": "2021-08-04T04:12:04.673Z"
   },
   {
    "duration": 8,
    "start_time": "2021-08-04T04:12:04.706Z"
   },
   {
    "duration": 15,
    "start_time": "2021-08-04T04:12:04.716Z"
   },
   {
    "duration": 7,
    "start_time": "2021-08-04T04:12:04.756Z"
   },
   {
    "duration": 22,
    "start_time": "2021-08-04T04:12:04.765Z"
   },
   {
    "duration": 15,
    "start_time": "2021-08-04T04:12:04.789Z"
   },
   {
    "duration": 14,
    "start_time": "2021-08-04T04:12:04.806Z"
   },
   {
    "duration": 43,
    "start_time": "2021-08-04T04:12:04.822Z"
   },
   {
    "duration": 33,
    "start_time": "2021-08-04T04:12:04.867Z"
   },
   {
    "duration": 53,
    "start_time": "2021-08-04T04:12:04.902Z"
   },
   {
    "duration": 26,
    "start_time": "2021-08-04T04:12:04.958Z"
   },
   {
    "duration": 42,
    "start_time": "2021-08-04T04:12:04.987Z"
   },
   {
    "duration": 88,
    "start_time": "2021-08-04T04:12:05.031Z"
   },
   {
    "duration": 548,
    "start_time": "2021-08-04T04:12:05.124Z"
   },
   {
    "duration": 379,
    "start_time": "2021-08-04T04:13:25.896Z"
   },
   {
    "duration": 364,
    "start_time": "2021-08-04T04:15:14.002Z"
   },
   {
    "duration": 382,
    "start_time": "2021-08-04T04:19:34.882Z"
   },
   {
    "duration": 386,
    "start_time": "2021-08-04T04:20:46.496Z"
   },
   {
    "duration": 395,
    "start_time": "2021-08-04T04:21:09.131Z"
   },
   {
    "duration": 348,
    "start_time": "2021-08-04T04:23:42.323Z"
   },
   {
    "duration": 283,
    "start_time": "2021-08-04T04:25:05.623Z"
   },
   {
    "duration": 358,
    "start_time": "2021-08-04T04:26:06.944Z"
   },
   {
    "duration": 130,
    "start_time": "2021-08-04T04:26:32.577Z"
   },
   {
    "duration": 26,
    "start_time": "2021-08-04T04:26:32.710Z"
   },
   {
    "duration": 30,
    "start_time": "2021-08-04T04:26:32.757Z"
   },
   {
    "duration": 22,
    "start_time": "2021-08-04T04:26:32.790Z"
   },
   {
    "duration": 12,
    "start_time": "2021-08-04T04:26:32.815Z"
   },
   {
    "duration": 31,
    "start_time": "2021-08-04T04:26:32.829Z"
   },
   {
    "duration": 25,
    "start_time": "2021-08-04T04:26:32.863Z"
   },
   {
    "duration": 68,
    "start_time": "2021-08-04T04:26:32.891Z"
   },
   {
    "duration": 23,
    "start_time": "2021-08-04T04:26:32.962Z"
   },
   {
    "duration": 30,
    "start_time": "2021-08-04T04:26:32.988Z"
   },
   {
    "duration": 36,
    "start_time": "2021-08-04T04:26:33.020Z"
   },
   {
    "duration": 11,
    "start_time": "2021-08-04T04:26:33.059Z"
   },
   {
    "duration": 9,
    "start_time": "2021-08-04T04:26:33.073Z"
   },
   {
    "duration": 16,
    "start_time": "2021-08-04T04:26:33.084Z"
   },
   {
    "duration": 12,
    "start_time": "2021-08-04T04:26:33.102Z"
   },
   {
    "duration": 17,
    "start_time": "2021-08-04T04:26:33.116Z"
   },
   {
    "duration": 30,
    "start_time": "2021-08-04T04:26:33.157Z"
   },
   {
    "duration": 32,
    "start_time": "2021-08-04T04:26:33.190Z"
   },
   {
    "duration": 61,
    "start_time": "2021-08-04T04:26:33.225Z"
   },
   {
    "duration": 27,
    "start_time": "2021-08-04T04:26:33.288Z"
   },
   {
    "duration": 67,
    "start_time": "2021-08-04T04:26:33.317Z"
   },
   {
    "duration": 76,
    "start_time": "2021-08-04T04:26:33.387Z"
   },
   {
    "duration": 520,
    "start_time": "2021-08-04T04:26:33.468Z"
   },
   {
    "duration": 391,
    "start_time": "2021-08-04T04:26:33.991Z"
   },
   {
    "duration": 412,
    "start_time": "2021-08-04T04:26:34.384Z"
   },
   {
    "duration": 287,
    "start_time": "2021-08-04T04:26:34.798Z"
   },
   {
    "duration": 303,
    "start_time": "2021-08-04T04:26:35.087Z"
   },
   {
    "duration": 15,
    "start_time": "2021-08-04T04:26:35.392Z"
   },
   {
    "duration": 22,
    "start_time": "2021-08-04T04:26:35.409Z"
   },
   {
    "duration": 53,
    "start_time": "2021-08-04T04:26:35.433Z"
   },
   {
    "duration": 1814,
    "start_time": "2021-08-04T04:26:35.488Z"
   },
   {
    "duration": 389,
    "start_time": "2021-08-04T04:26:37.304Z"
   },
   {
    "duration": 14,
    "start_time": "2021-08-04T04:26:37.695Z"
   },
   {
    "duration": 8,
    "start_time": "2021-08-04T04:26:37.711Z"
   },
   {
    "duration": 70,
    "start_time": "2021-08-04T04:26:37.721Z"
   },
   {
    "duration": 414,
    "start_time": "2021-08-04T04:26:37.793Z"
   },
   {
    "duration": 2369,
    "start_time": "2021-08-04T04:26:38.210Z"
   },
   {
    "duration": 362,
    "start_time": "2021-08-04T04:26:40.581Z"
   },
   {
    "duration": 607,
    "start_time": "2021-08-04T04:26:40.945Z"
   },
   {
    "duration": 385,
    "start_time": "2021-08-04T04:29:43.253Z"
   },
   {
    "duration": 7981,
    "start_time": "2021-08-04T04:31:13.745Z"
   },
   {
    "duration": 583,
    "start_time": "2021-08-04T04:32:52.849Z"
   },
   {
    "duration": 244,
    "start_time": "2021-08-04T04:35:46.913Z"
   },
   {
    "duration": 252,
    "start_time": "2021-08-04T04:35:59.025Z"
   },
   {
    "duration": 347,
    "start_time": "2021-08-04T04:36:04.899Z"
   },
   {
    "duration": 241,
    "start_time": "2021-08-04T04:36:14.624Z"
   },
   {
    "duration": 274,
    "start_time": "2021-08-04T04:36:23.474Z"
   },
   {
    "duration": 246,
    "start_time": "2021-08-04T04:36:32.259Z"
   },
   {
    "duration": 204,
    "start_time": "2021-08-04T04:36:39.578Z"
   },
   {
    "duration": 210,
    "start_time": "2021-08-04T04:36:50.611Z"
   },
   {
    "duration": 13,
    "start_time": "2021-08-04T04:37:17.620Z"
   },
   {
    "duration": 346,
    "start_time": "2021-08-04T04:45:22.349Z"
   },
   {
    "duration": 343,
    "start_time": "2021-08-04T04:48:07.716Z"
   },
   {
    "duration": 26,
    "start_time": "2021-08-04T04:49:36.218Z"
   },
   {
    "duration": 12,
    "start_time": "2021-08-04T04:49:49.485Z"
   },
   {
    "duration": 10,
    "start_time": "2021-08-04T04:50:02.810Z"
   },
   {
    "duration": 10,
    "start_time": "2021-08-04T04:50:33.312Z"
   },
   {
    "duration": 11,
    "start_time": "2021-08-04T04:51:12.954Z"
   },
   {
    "duration": 36,
    "start_time": "2021-08-04T04:51:20.970Z"
   },
   {
    "duration": 364,
    "start_time": "2021-08-04T04:51:46.139Z"
   },
   {
    "duration": 37,
    "start_time": "2021-08-04T04:52:17.115Z"
   },
   {
    "duration": 106,
    "start_time": "2021-08-04T04:53:59.634Z"
   },
   {
    "duration": 53,
    "start_time": "2021-08-04T04:54:35.075Z"
   },
   {
    "duration": 62,
    "start_time": "2021-08-04T04:56:17.322Z"
   },
   {
    "duration": 57,
    "start_time": "2021-08-04T04:56:49.627Z"
   },
   {
    "duration": 89,
    "start_time": "2021-08-04T05:01:43.053Z"
   },
   {
    "duration": 86,
    "start_time": "2021-08-04T05:04:39.464Z"
   },
   {
    "duration": 1164,
    "start_time": "2021-08-21T18:10:25.487Z"
   },
   {
    "duration": 40,
    "start_time": "2021-08-21T18:10:26.654Z"
   },
   {
    "duration": 27,
    "start_time": "2021-08-21T18:10:26.697Z"
   },
   {
    "duration": 8,
    "start_time": "2021-08-21T18:10:26.727Z"
   },
   {
    "duration": 38,
    "start_time": "2021-08-21T18:10:26.737Z"
   },
   {
    "duration": 14,
    "start_time": "2021-08-21T18:10:26.777Z"
   },
   {
    "duration": 28,
    "start_time": "2021-08-21T18:10:26.794Z"
   },
   {
    "duration": 79,
    "start_time": "2021-08-21T18:10:26.826Z"
   },
   {
    "duration": 24,
    "start_time": "2021-08-21T18:10:26.908Z"
   },
   {
    "duration": 48,
    "start_time": "2021-08-21T18:10:26.934Z"
   },
   {
    "duration": 13,
    "start_time": "2021-08-21T18:10:26.985Z"
   },
   {
    "duration": 16,
    "start_time": "2021-08-21T18:10:27.001Z"
   },
   {
    "duration": 49,
    "start_time": "2021-08-21T18:10:27.020Z"
   },
   {
    "duration": 9,
    "start_time": "2021-08-21T18:10:27.072Z"
   },
   {
    "duration": 9,
    "start_time": "2021-08-21T18:10:27.085Z"
   },
   {
    "duration": 11,
    "start_time": "2021-08-21T18:10:27.097Z"
   },
   {
    "duration": 92,
    "start_time": "2021-08-21T18:10:27.110Z"
   },
   {
    "duration": 32,
    "start_time": "2021-08-21T18:10:27.205Z"
   },
   {
    "duration": 54,
    "start_time": "2021-08-21T18:10:27.240Z"
   },
   {
    "duration": 32,
    "start_time": "2021-08-21T18:10:27.297Z"
   },
   {
    "duration": 77,
    "start_time": "2021-08-21T18:10:27.331Z"
   },
   {
    "duration": 90,
    "start_time": "2021-08-21T18:10:27.411Z"
   },
   {
    "duration": 1166,
    "start_time": "2021-08-21T18:10:27.508Z"
   },
   {
    "duration": 317,
    "start_time": "2021-08-21T18:10:28.677Z"
   },
   {
    "duration": 351,
    "start_time": "2021-08-21T18:10:28.997Z"
   },
   {
    "duration": 233,
    "start_time": "2021-08-21T18:10:29.350Z"
   },
   {
    "duration": 241,
    "start_time": "2021-08-21T18:10:29.585Z"
   },
   {
    "duration": 12,
    "start_time": "2021-08-21T18:10:29.829Z"
   },
   {
    "duration": 32,
    "start_time": "2021-08-21T18:10:29.844Z"
   },
   {
    "duration": 37,
    "start_time": "2021-08-21T18:10:29.879Z"
   },
   {
    "duration": 1562,
    "start_time": "2021-08-21T18:10:29.918Z"
   },
   {
    "duration": 413,
    "start_time": "2021-08-21T18:10:31.483Z"
   },
   {
    "duration": 206,
    "start_time": "2021-08-21T18:10:31.899Z"
   },
   {
    "duration": 15,
    "start_time": "2021-08-21T18:10:32.108Z"
   },
   {
    "duration": 23,
    "start_time": "2021-08-21T18:10:32.126Z"
   },
   {
    "duration": 12,
    "start_time": "2021-08-21T18:10:32.168Z"
   },
   {
    "duration": 112,
    "start_time": "2021-08-21T18:10:32.183Z"
   },
   {
    "duration": 106,
    "start_time": "2021-08-21T18:10:32.298Z"
   },
   {
    "duration": 62,
    "start_time": "2021-08-21T18:10:32.408Z"
   },
   {
    "duration": 274,
    "start_time": "2021-08-21T18:10:32.473Z"
   },
   {
    "duration": 886,
    "start_time": "2021-08-21T18:10:32.750Z"
   },
   {
    "duration": 289,
    "start_time": "2021-08-21T18:10:33.638Z"
   },
   {
    "duration": 489,
    "start_time": "2021-08-21T18:10:33.930Z"
   }
  ],
  "kernelspec": {
   "display_name": "Python 3",
   "language": "python",
   "name": "python3"
  },
  "language_info": {
   "codemirror_mode": {
    "name": "ipython",
    "version": 3
   },
   "file_extension": ".py",
   "mimetype": "text/x-python",
   "name": "python",
   "nbconvert_exporter": "python",
   "pygments_lexer": "ipython3",
   "version": "3.7.4"
  },
  "toc": {
   "base_numbering": 1,
   "nav_menu": {},
   "number_sections": true,
   "sideBar": true,
   "skip_h1_title": true,
   "title_cell": "Table of Contents",
   "title_sidebar": "Contents",
   "toc_cell": false,
   "toc_position": {},
   "toc_section_display": true,
   "toc_window_display": false
  }
 },
 "nbformat": 4,
 "nbformat_minor": 4
}
